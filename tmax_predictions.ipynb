{
 "cells": [
  {
   "cell_type": "markdown",
   "metadata": {},
   "source": [
    "# Predicting Maximum Temperature @Pune\n",
    "**Input data**: Nex data 0.25 * 0.25 degree grid                                             \n",
    "**Labels**: IMD maximum temperature data @Pune                                               \n",
    "*Demonstration of Supervised Machine Learning Algorithms*"
   ]
  },
  {
   "cell_type": "code",
   "execution_count": 1,
   "metadata": {},
   "outputs": [],
   "source": [
    "#importing required python libraries\n",
    "# write training and \n",
    "import pandas as pd\n",
    "import matplotlib.pyplot as plt\n",
    "import numpy as np\n",
    "%matplotlib inline"
   ]
  },
  {
   "cell_type": "code",
   "execution_count": 2,
   "metadata": {},
   "outputs": [],
   "source": [
    "#loading training sets | call imd5p5_tmax as pune_tmax\n",
    "pune_tmax_train = pd.read_csv(r'D:\\IITM\\converted_to_csv\\imd5p5_tmax_train_clean.csv')\n",
    "nex25_tmax_train = pd.read_csv(r'D:\\IITM\\converted_to_csv\\nex25_tmax_pune_train.csv')"
   ]
  },
  {
   "cell_type": "code",
   "execution_count": 3,
   "metadata": {},
   "outputs": [
    {
     "data": {
      "text/html": [
       "<div>\n",
       "<style scoped>\n",
       "    .dataframe tbody tr th:only-of-type {\n",
       "        vertical-align: middle;\n",
       "    }\n",
       "\n",
       "    .dataframe tbody tr th {\n",
       "        vertical-align: top;\n",
       "    }\n",
       "\n",
       "    .dataframe thead th {\n",
       "        text-align: right;\n",
       "    }\n",
       "</style>\n",
       "<table border=\"1\" class=\"dataframe\">\n",
       "  <thead>\n",
       "    <tr style=\"text-align: right;\">\n",
       "      <th></th>\n",
       "      <th>tmax</th>\n",
       "    </tr>\n",
       "  </thead>\n",
       "  <tbody>\n",
       "    <tr>\n",
       "      <th>0</th>\n",
       "      <td>28.4</td>\n",
       "    </tr>\n",
       "    <tr>\n",
       "      <th>1</th>\n",
       "      <td>29.4</td>\n",
       "    </tr>\n",
       "    <tr>\n",
       "      <th>2</th>\n",
       "      <td>29.1</td>\n",
       "    </tr>\n",
       "    <tr>\n",
       "      <th>3</th>\n",
       "      <td>28.3</td>\n",
       "    </tr>\n",
       "    <tr>\n",
       "      <th>4</th>\n",
       "      <td>28.5</td>\n",
       "    </tr>\n",
       "  </tbody>\n",
       "</table>\n",
       "</div>"
      ],
      "text/plain": [
       "   tmax\n",
       "0  28.4\n",
       "1  29.4\n",
       "2  29.1\n",
       "3  28.3\n",
       "4  28.5"
      ]
     },
     "execution_count": 3,
     "metadata": {},
     "output_type": "execute_result"
    }
   ],
   "source": [
    "#using pune tmax values as labels \n",
    "tmax_labels = pd.DataFrame(pune_tmax_train,columns=[\"tmax\"])\n",
    "tmax_labels.head() # .head() function gives out first 5 rows of the datset "
   ]
  },
  {
   "cell_type": "code",
   "execution_count": 4,
   "metadata": {},
   "outputs": [],
   "source": [
    "#converting string date values to date format \n",
    "import datetime as dt\n",
    "nex25_tmax_train['date'] = pd.to_datetime(nex25_tmax_train['date'])\n",
    "nex25_tmax_train['date']=nex25_tmax_train['date'].map(dt.datetime.toordinal)"
   ]
  },
  {
   "cell_type": "markdown",
   "metadata": {},
   "source": [
    "### Linear Regression with one feature (tmax)"
   ]
  },
  {
   "cell_type": "code",
   "execution_count": 5,
   "metadata": {},
   "outputs": [
    {
     "data": {
      "text/plain": [
       "LinearRegression()"
      ]
     },
     "execution_count": 5,
     "metadata": {},
     "output_type": "execute_result"
    }
   ],
   "source": [
    "#Linear regression using sci-kit learn\n",
    "from sklearn.linear_model import LinearRegression\n",
    "lin_reg = LinearRegression()\n",
    "lin_reg.fit(nex25_tmax_train, tmax_labels)"
   ]
  },
  {
   "cell_type": "code",
   "execution_count": 6,
   "metadata": {},
   "outputs": [],
   "source": [
    "#predicting tmax with Linear Regression \n",
    "tmax_predictions = lin_reg.predict(nex25_tmax_train)"
   ]
  },
  {
   "cell_type": "code",
   "execution_count": 7,
   "metadata": {},
   "outputs": [
    {
     "name": "stdout",
     "output_type": "stream",
     "text": [
      "RMSE for Linear regression = \n"
     ]
    },
    {
     "data": {
      "text/plain": [
       "1.7374580481947117"
      ]
     },
     "execution_count": 7,
     "metadata": {},
     "output_type": "execute_result"
    }
   ],
   "source": [
    "#calculating RMSE in labels and predictions\n",
    "from sklearn.metrics import mean_squared_error\n",
    "lin_mse = mean_squared_error(tmax_predictions, tmax_labels)\n",
    "lin_rmse = np.sqrt(lin_mse)\n",
    "print(\"RMSE for Linear regression = \")\n",
    "lin_rmse"
   ]
  },
  {
   "cell_type": "code",
   "execution_count": 8,
   "metadata": {},
   "outputs": [],
   "source": [
    "#loading test datasets\n",
    "pune_tmax_test = pd.read_csv(r'D:\\IITM\\converted_to_csv\\imd5p5_tmax_pune_test.csv')\n",
    "nex25_tmax_test = pd.read_csv(r'D:\\IITM\\converted_to_csv\\nex25_tmax_pune_test.csv')"
   ]
  },
  {
   "cell_type": "code",
   "execution_count": 9,
   "metadata": {},
   "outputs": [
    {
     "data": {
      "text/plain": [
       "0    29.7\n",
       "1    30.0\n",
       "2    28.2\n",
       "3    28.3\n",
       "4    29.6\n",
       "Name: tmax, dtype: float64"
      ]
     },
     "execution_count": 9,
     "metadata": {},
     "output_type": "execute_result"
    }
   ],
   "source": [
    "#preparing labels\n",
    "final_labels = pune_tmax_test[\"tmax\"]\n",
    "final_labels.head()"
   ]
  },
  {
   "cell_type": "code",
   "execution_count": 10,
   "metadata": {},
   "outputs": [
    {
     "data": {
      "text/html": [
       "<div>\n",
       "<style scoped>\n",
       "    .dataframe tbody tr th:only-of-type {\n",
       "        vertical-align: middle;\n",
       "    }\n",
       "\n",
       "    .dataframe tbody tr th {\n",
       "        vertical-align: top;\n",
       "    }\n",
       "\n",
       "    .dataframe thead th {\n",
       "        text-align: right;\n",
       "    }\n",
       "</style>\n",
       "<table border=\"1\" class=\"dataframe\">\n",
       "  <thead>\n",
       "    <tr style=\"text-align: right;\">\n",
       "      <th></th>\n",
       "      <th>date</th>\n",
       "      <th>nex_tmax</th>\n",
       "    </tr>\n",
       "  </thead>\n",
       "  <tbody>\n",
       "    <tr>\n",
       "      <th>0</th>\n",
       "      <td>732312</td>\n",
       "      <td>30.0709</td>\n",
       "    </tr>\n",
       "    <tr>\n",
       "      <th>1</th>\n",
       "      <td>732343</td>\n",
       "      <td>30.3630</td>\n",
       "    </tr>\n",
       "    <tr>\n",
       "      <th>2</th>\n",
       "      <td>732371</td>\n",
       "      <td>30.2909</td>\n",
       "    </tr>\n",
       "    <tr>\n",
       "      <th>3</th>\n",
       "      <td>732402</td>\n",
       "      <td>30.3834</td>\n",
       "    </tr>\n",
       "    <tr>\n",
       "      <th>4</th>\n",
       "      <td>732432</td>\n",
       "      <td>30.0295</td>\n",
       "    </tr>\n",
       "  </tbody>\n",
       "</table>\n",
       "</div>"
      ],
      "text/plain": [
       "     date  nex_tmax\n",
       "0  732312   30.0709\n",
       "1  732343   30.3630\n",
       "2  732371   30.2909\n",
       "3  732402   30.3834\n",
       "4  732432   30.0295"
      ]
     },
     "execution_count": 10,
     "metadata": {},
     "output_type": "execute_result"
    }
   ],
   "source": [
    "#converting string date values to date format \n",
    "import datetime as dt\n",
    "nex25_tmax_test['date'] = pd.to_datetime(nex25_tmax_test['date'])\n",
    "nex25_tmax_test['date']=nex25_tmax_test['date'].map(dt.datetime.toordinal)\n",
    "nex25_tmax_test.head()"
   ]
  },
  {
   "cell_type": "code",
   "execution_count": 11,
   "metadata": {},
   "outputs": [],
   "source": [
    "#prediction using test set\n",
    "lin_reg_test = lin_reg.predict(nex25_tmax_test)"
   ]
  },
  {
   "cell_type": "code",
   "execution_count": 12,
   "metadata": {},
   "outputs": [
    {
     "name": "stdout",
     "output_type": "stream",
     "text": [
      "RMSE for Linear regression over test set = \n"
     ]
    },
    {
     "data": {
      "text/plain": [
       "1.7982088693288238"
      ]
     },
     "execution_count": 12,
     "metadata": {},
     "output_type": "execute_result"
    }
   ],
   "source": [
    "#calculating RMSE over test set\n",
    "lin_mse_final = mean_squared_error(final_labels, lin_reg_test)\n",
    "lin_rmse_final = np.sqrt(lin_mse_final)\n",
    "print(\"RMSE for Linear regression over test set = \")\n",
    "lin_rmse_final"
   ]
  },
  {
   "cell_type": "code",
   "execution_count": 13,
   "metadata": {},
   "outputs": [
    {
     "name": "stdout",
     "output_type": "stream",
     "text": [
      "Slope and intercepts of the regression : \n",
      "[-0.18821421]\n",
      "[[1.28535311e-05 6.86445214e-01]]\n"
     ]
    }
   ],
   "source": [
    "print(\"Slope and intercepts of the regression : \")\n",
    "print(lin_reg.intercept_)\n",
    "print(lin_reg.coef_)"
   ]
  },
  {
   "cell_type": "code",
   "execution_count": 14,
   "metadata": {},
   "outputs": [
    {
     "data": {
      "text/html": [
       "<div>\n",
       "<style scoped>\n",
       "    .dataframe tbody tr th:only-of-type {\n",
       "        vertical-align: middle;\n",
       "    }\n",
       "\n",
       "    .dataframe tbody tr th {\n",
       "        vertical-align: top;\n",
       "    }\n",
       "\n",
       "    .dataframe thead th {\n",
       "        text-align: right;\n",
       "    }\n",
       "</style>\n",
       "<table border=\"1\" class=\"dataframe\">\n",
       "  <thead>\n",
       "    <tr style=\"text-align: right;\">\n",
       "      <th></th>\n",
       "      <th>0</th>\n",
       "    </tr>\n",
       "  </thead>\n",
       "  <tbody>\n",
       "    <tr>\n",
       "      <th>0</th>\n",
       "      <td>29.866606</td>\n",
       "    </tr>\n",
       "    <tr>\n",
       "      <th>1</th>\n",
       "      <td>30.067515</td>\n",
       "    </tr>\n",
       "    <tr>\n",
       "      <th>2</th>\n",
       "      <td>30.018383</td>\n",
       "    </tr>\n",
       "    <tr>\n",
       "      <th>3</th>\n",
       "      <td>30.082277</td>\n",
       "    </tr>\n",
       "    <tr>\n",
       "      <th>4</th>\n",
       "      <td>29.839730</td>\n",
       "    </tr>\n",
       "  </tbody>\n",
       "</table>\n",
       "</div>"
      ],
      "text/plain": [
       "           0\n",
       "0  29.866606\n",
       "1  30.067515\n",
       "2  30.018383\n",
       "3  30.082277\n",
       "4  29.839730"
      ]
     },
     "execution_count": 14,
     "metadata": {},
     "output_type": "execute_result"
    }
   ],
   "source": [
    "data = np.array(lin_reg_test)\n",
    "lin_reg_test = pd.DataFrame(data)\n",
    "lin_reg_test.head()"
   ]
  },
  {
   "cell_type": "code",
   "execution_count": 15,
   "metadata": {},
   "outputs": [
    {
     "data": {
      "text/html": [
       "<div>\n",
       "<style scoped>\n",
       "    .dataframe tbody tr th:only-of-type {\n",
       "        vertical-align: middle;\n",
       "    }\n",
       "\n",
       "    .dataframe tbody tr th {\n",
       "        vertical-align: top;\n",
       "    }\n",
       "\n",
       "    .dataframe thead th {\n",
       "        text-align: right;\n",
       "    }\n",
       "</style>\n",
       "<table border=\"1\" class=\"dataframe\">\n",
       "  <thead>\n",
       "    <tr style=\"text-align: right;\">\n",
       "      <th></th>\n",
       "      <th>nex_tmax</th>\n",
       "    </tr>\n",
       "  </thead>\n",
       "  <tbody>\n",
       "    <tr>\n",
       "      <th>0</th>\n",
       "      <td>30.1280</td>\n",
       "    </tr>\n",
       "    <tr>\n",
       "      <th>1</th>\n",
       "      <td>30.4229</td>\n",
       "    </tr>\n",
       "    <tr>\n",
       "      <th>2</th>\n",
       "      <td>30.4062</td>\n",
       "    </tr>\n",
       "    <tr>\n",
       "      <th>3</th>\n",
       "      <td>30.5158</td>\n",
       "    </tr>\n",
       "    <tr>\n",
       "      <th>4</th>\n",
       "      <td>30.4171</td>\n",
       "    </tr>\n",
       "  </tbody>\n",
       "</table>\n",
       "</div>"
      ],
      "text/plain": [
       "   nex_tmax\n",
       "0   30.1280\n",
       "1   30.4229\n",
       "2   30.4062\n",
       "3   30.5158\n",
       "4   30.4171"
      ]
     },
     "execution_count": 15,
     "metadata": {},
     "output_type": "execute_result"
    }
   ],
   "source": [
    "nex25_tmax_train_datedrop = nex25_tmax_train.drop(['date'],axis=1)\n",
    "nex25_tmax_test_datedrop = nex25_tmax_test.drop(['date'],axis=1)\n",
    "nex25_tmax_train_datedrop.head()"
   ]
  },
  {
   "cell_type": "code",
   "execution_count": 16,
   "metadata": {},
   "outputs": [
    {
     "data": {
      "text/plain": [
       "LinearRegression()"
      ]
     },
     "execution_count": 16,
     "metadata": {},
     "output_type": "execute_result"
    }
   ],
   "source": [
    "#Linear regression using sci-kit learn\n",
    "from sklearn.linear_model import LinearRegression\n",
    "lin_reg_datedrop = LinearRegression()\n",
    "lin_reg_datedrop.fit(nex25_tmax_train_datedrop, tmax_labels)"
   ]
  },
  {
   "cell_type": "code",
   "execution_count": 17,
   "metadata": {},
   "outputs": [],
   "source": [
    "#prediction using test set with no date\n",
    "lin_reg_test_nodate = lin_reg_datedrop.predict(nex25_tmax_test_datedrop)"
   ]
  },
  {
   "cell_type": "code",
   "execution_count": 18,
   "metadata": {},
   "outputs": [
    {
     "name": "stdout",
     "output_type": "stream",
     "text": [
      "RMSE for Linear regression over test set with no date= \n"
     ]
    },
    {
     "data": {
      "text/plain": [
       "1.797965172384784"
      ]
     },
     "execution_count": 18,
     "metadata": {},
     "output_type": "execute_result"
    }
   ],
   "source": [
    "#calculating RMSE over test set\n",
    "lin_mse_final_nodate = mean_squared_error(final_labels, lin_reg_test_nodate)\n",
    "lin_rmse_final_nodate = np.sqrt(lin_mse_final_nodate)\n",
    "print(\"RMSE for Linear regression over test set with no date= \")\n",
    "lin_rmse_final_nodate"
   ]
  },
  {
   "cell_type": "code",
   "execution_count": 19,
   "metadata": {},
   "outputs": [
    {
     "name": "stdout",
     "output_type": "stream",
     "text": [
      "Difference between the RMSE of predictions 'with date' and 'no date'= \n"
     ]
    },
    {
     "data": {
      "text/plain": [
       "0.0002436969440395842"
      ]
     },
     "execution_count": 19,
     "metadata": {},
     "output_type": "execute_result"
    }
   ],
   "source": [
    "print(\"Difference between the RMSE of predictions 'with date' and 'no date'= \")\n",
    "1.7982088693288238 - 1.7979651723847843"
   ]
  },
  {
   "cell_type": "markdown",
   "metadata": {},
   "source": [
    "The first column of the dataframe is 'date' which looks like got converted to an integer(after using 'to_datetime' function) due to which we got a slight difference in the preditions. This needs to be investigated further.  "
   ]
  },
  {
   "cell_type": "code",
   "execution_count": 20,
   "metadata": {},
   "outputs": [
    {
     "data": {
      "text/html": [
       "<div>\n",
       "<style scoped>\n",
       "    .dataframe tbody tr th:only-of-type {\n",
       "        vertical-align: middle;\n",
       "    }\n",
       "\n",
       "    .dataframe tbody tr th {\n",
       "        vertical-align: top;\n",
       "    }\n",
       "\n",
       "    .dataframe thead th {\n",
       "        text-align: right;\n",
       "    }\n",
       "</style>\n",
       "<table border=\"1\" class=\"dataframe\">\n",
       "  <thead>\n",
       "    <tr style=\"text-align: right;\">\n",
       "      <th></th>\n",
       "      <th>date</th>\n",
       "      <th>nex_tmax</th>\n",
       "    </tr>\n",
       "  </thead>\n",
       "  <tbody>\n",
       "    <tr>\n",
       "      <th>0</th>\n",
       "      <td>721354</td>\n",
       "      <td>30.1280</td>\n",
       "    </tr>\n",
       "    <tr>\n",
       "      <th>1</th>\n",
       "      <td>721385</td>\n",
       "      <td>30.4229</td>\n",
       "    </tr>\n",
       "    <tr>\n",
       "      <th>2</th>\n",
       "      <td>721414</td>\n",
       "      <td>30.4062</td>\n",
       "    </tr>\n",
       "    <tr>\n",
       "      <th>3</th>\n",
       "      <td>721445</td>\n",
       "      <td>30.5158</td>\n",
       "    </tr>\n",
       "    <tr>\n",
       "      <th>4</th>\n",
       "      <td>721475</td>\n",
       "      <td>30.4171</td>\n",
       "    </tr>\n",
       "  </tbody>\n",
       "</table>\n",
       "</div>"
      ],
      "text/plain": [
       "     date  nex_tmax\n",
       "0  721354   30.1280\n",
       "1  721385   30.4229\n",
       "2  721414   30.4062\n",
       "3  721445   30.5158\n",
       "4  721475   30.4171"
      ]
     },
     "execution_count": 20,
     "metadata": {},
     "output_type": "execute_result"
    }
   ],
   "source": [
    "nex25_tmax_train.head()"
   ]
  },
  {
   "cell_type": "code",
   "execution_count": 21,
   "metadata": {},
   "outputs": [],
   "source": [
    "#loading datset\n",
    "nex25_tmin_train = pd.read_csv(r'D:\\IITM\\tmin-pr-pune-inputs\\nex25_pune_tmin_train.csv')"
   ]
  },
  {
   "cell_type": "code",
   "execution_count": 22,
   "metadata": {},
   "outputs": [
    {
     "data": {
      "text/html": [
       "<div>\n",
       "<style scoped>\n",
       "    .dataframe tbody tr th:only-of-type {\n",
       "        vertical-align: middle;\n",
       "    }\n",
       "\n",
       "    .dataframe tbody tr th {\n",
       "        vertical-align: top;\n",
       "    }\n",
       "\n",
       "    .dataframe thead th {\n",
       "        text-align: right;\n",
       "    }\n",
       "</style>\n",
       "<table border=\"1\" class=\"dataframe\">\n",
       "  <thead>\n",
       "    <tr style=\"text-align: right;\">\n",
       "      <th></th>\n",
       "      <th>date</th>\n",
       "      <th>tmin</th>\n",
       "    </tr>\n",
       "  </thead>\n",
       "  <tbody>\n",
       "    <tr>\n",
       "      <th>0</th>\n",
       "      <td>01-01-1976</td>\n",
       "      <td>10.7089</td>\n",
       "    </tr>\n",
       "    <tr>\n",
       "      <th>1</th>\n",
       "      <td>02-01-1976</td>\n",
       "      <td>10.5904</td>\n",
       "    </tr>\n",
       "    <tr>\n",
       "      <th>2</th>\n",
       "      <td>03-01-1976</td>\n",
       "      <td>10.6063</td>\n",
       "    </tr>\n",
       "    <tr>\n",
       "      <th>3</th>\n",
       "      <td>04-01-1976</td>\n",
       "      <td>11.8068</td>\n",
       "    </tr>\n",
       "    <tr>\n",
       "      <th>4</th>\n",
       "      <td>05-01-1976</td>\n",
       "      <td>13.2873</td>\n",
       "    </tr>\n",
       "  </tbody>\n",
       "</table>\n",
       "</div>"
      ],
      "text/plain": [
       "         date     tmin\n",
       "0  01-01-1976  10.7089\n",
       "1  02-01-1976  10.5904\n",
       "2  03-01-1976  10.6063\n",
       "3  04-01-1976  11.8068\n",
       "4  05-01-1976  13.2873"
      ]
     },
     "execution_count": 22,
     "metadata": {},
     "output_type": "execute_result"
    }
   ],
   "source": [
    "nex25_tmin_train.head()"
   ]
  },
  {
   "cell_type": "code",
   "execution_count": 23,
   "metadata": {},
   "outputs": [],
   "source": [
    "nex_tmin_datedrop = nex25_tmin_train[\"tmin\"] # datedrop is dataset of tmin without 'date' column"
   ]
  },
  {
   "cell_type": "code",
   "execution_count": 24,
   "metadata": {},
   "outputs": [
    {
     "data": {
      "text/plain": [
       "0    10.7089\n",
       "1    10.5904\n",
       "2    10.6063\n",
       "3    11.8068\n",
       "4    13.2873\n",
       "Name: tmin, dtype: float64"
      ]
     },
     "execution_count": 24,
     "metadata": {},
     "output_type": "execute_result"
    }
   ],
   "source": [
    "nex_tmin_datedrop.head()"
   ]
  },
  {
   "cell_type": "code",
   "execution_count": 25,
   "metadata": {},
   "outputs": [],
   "source": [
    "#concatinating different columns as per requirement\n",
    "nex25_train = pd.concat([nex25_tmax_train.reset_index(drop=True), nex_tmin_datedrop.reset_index(drop=True)],axis=1) "
   ]
  },
  {
   "cell_type": "code",
   "execution_count": 26,
   "metadata": {},
   "outputs": [
    {
     "data": {
      "text/html": [
       "<div>\n",
       "<style scoped>\n",
       "    .dataframe tbody tr th:only-of-type {\n",
       "        vertical-align: middle;\n",
       "    }\n",
       "\n",
       "    .dataframe tbody tr th {\n",
       "        vertical-align: top;\n",
       "    }\n",
       "\n",
       "    .dataframe thead th {\n",
       "        text-align: right;\n",
       "    }\n",
       "</style>\n",
       "<table border=\"1\" class=\"dataframe\">\n",
       "  <thead>\n",
       "    <tr style=\"text-align: right;\">\n",
       "      <th></th>\n",
       "      <th>date</th>\n",
       "      <th>nex_tmax</th>\n",
       "      <th>tmin</th>\n",
       "    </tr>\n",
       "  </thead>\n",
       "  <tbody>\n",
       "    <tr>\n",
       "      <th>0</th>\n",
       "      <td>721354</td>\n",
       "      <td>30.1280</td>\n",
       "      <td>10.7089</td>\n",
       "    </tr>\n",
       "    <tr>\n",
       "      <th>1</th>\n",
       "      <td>721385</td>\n",
       "      <td>30.4229</td>\n",
       "      <td>10.5904</td>\n",
       "    </tr>\n",
       "    <tr>\n",
       "      <th>2</th>\n",
       "      <td>721414</td>\n",
       "      <td>30.4062</td>\n",
       "      <td>10.6063</td>\n",
       "    </tr>\n",
       "    <tr>\n",
       "      <th>3</th>\n",
       "      <td>721445</td>\n",
       "      <td>30.5158</td>\n",
       "      <td>11.8068</td>\n",
       "    </tr>\n",
       "    <tr>\n",
       "      <th>4</th>\n",
       "      <td>721475</td>\n",
       "      <td>30.4171</td>\n",
       "      <td>13.2873</td>\n",
       "    </tr>\n",
       "  </tbody>\n",
       "</table>\n",
       "</div>"
      ],
      "text/plain": [
       "     date  nex_tmax     tmin\n",
       "0  721354   30.1280  10.7089\n",
       "1  721385   30.4229  10.5904\n",
       "2  721414   30.4062  10.6063\n",
       "3  721445   30.5158  11.8068\n",
       "4  721475   30.4171  13.2873"
      ]
     },
     "execution_count": 26,
     "metadata": {},
     "output_type": "execute_result"
    }
   ],
   "source": [
    "nex25_train.head()"
   ]
  },
  {
   "cell_type": "code",
   "execution_count": 27,
   "metadata": {},
   "outputs": [],
   "source": [
    "#renaming the column\n",
    "nex25_train = nex25_train.rename(columns={\"tmin\":\"nex_tmin\"})"
   ]
  },
  {
   "cell_type": "code",
   "execution_count": 28,
   "metadata": {},
   "outputs": [
    {
     "data": {
      "text/html": [
       "<div>\n",
       "<style scoped>\n",
       "    .dataframe tbody tr th:only-of-type {\n",
       "        vertical-align: middle;\n",
       "    }\n",
       "\n",
       "    .dataframe tbody tr th {\n",
       "        vertical-align: top;\n",
       "    }\n",
       "\n",
       "    .dataframe thead th {\n",
       "        text-align: right;\n",
       "    }\n",
       "</style>\n",
       "<table border=\"1\" class=\"dataframe\">\n",
       "  <thead>\n",
       "    <tr style=\"text-align: right;\">\n",
       "      <th></th>\n",
       "      <th>date</th>\n",
       "      <th>nex_tmax</th>\n",
       "      <th>nex_tmin</th>\n",
       "      <th>nex_tmean</th>\n",
       "    </tr>\n",
       "  </thead>\n",
       "  <tbody>\n",
       "    <tr>\n",
       "      <th>0</th>\n",
       "      <td>721354</td>\n",
       "      <td>30.1280</td>\n",
       "      <td>10.7089</td>\n",
       "      <td></td>\n",
       "    </tr>\n",
       "    <tr>\n",
       "      <th>1</th>\n",
       "      <td>721385</td>\n",
       "      <td>30.4229</td>\n",
       "      <td>10.5904</td>\n",
       "      <td></td>\n",
       "    </tr>\n",
       "    <tr>\n",
       "      <th>2</th>\n",
       "      <td>721414</td>\n",
       "      <td>30.4062</td>\n",
       "      <td>10.6063</td>\n",
       "      <td></td>\n",
       "    </tr>\n",
       "    <tr>\n",
       "      <th>3</th>\n",
       "      <td>721445</td>\n",
       "      <td>30.5158</td>\n",
       "      <td>11.8068</td>\n",
       "      <td></td>\n",
       "    </tr>\n",
       "    <tr>\n",
       "      <th>4</th>\n",
       "      <td>721475</td>\n",
       "      <td>30.4171</td>\n",
       "      <td>13.2873</td>\n",
       "      <td></td>\n",
       "    </tr>\n",
       "  </tbody>\n",
       "</table>\n",
       "</div>"
      ],
      "text/plain": [
       "     date  nex_tmax  nex_tmin nex_tmean\n",
       "0  721354   30.1280   10.7089          \n",
       "1  721385   30.4229   10.5904          \n",
       "2  721414   30.4062   10.6063          \n",
       "3  721445   30.5158   11.8068          \n",
       "4  721475   30.4171   13.2873          "
      ]
     },
     "execution_count": 28,
     "metadata": {},
     "output_type": "execute_result"
    }
   ],
   "source": [
    "#generating 'nex_tmean' column\n",
    "nex25_train[\"nex_tmean\"] = \"\"\n",
    "nex25_train.head()"
   ]
  },
  {
   "cell_type": "code",
   "execution_count": 29,
   "metadata": {},
   "outputs": [],
   "source": [
    "#Calculating mean temperature \n",
    "for i in range (len(nex25_train)):\n",
    "    nex25_train.iat[i,3] = (nex25_train.iat[i,1] + nex25_train.iat[i,2])/2"
   ]
  },
  {
   "cell_type": "code",
   "execution_count": 30,
   "metadata": {},
   "outputs": [
    {
     "data": {
      "text/html": [
       "<div>\n",
       "<style scoped>\n",
       "    .dataframe tbody tr th:only-of-type {\n",
       "        vertical-align: middle;\n",
       "    }\n",
       "\n",
       "    .dataframe tbody tr th {\n",
       "        vertical-align: top;\n",
       "    }\n",
       "\n",
       "    .dataframe thead th {\n",
       "        text-align: right;\n",
       "    }\n",
       "</style>\n",
       "<table border=\"1\" class=\"dataframe\">\n",
       "  <thead>\n",
       "    <tr style=\"text-align: right;\">\n",
       "      <th></th>\n",
       "      <th>date</th>\n",
       "      <th>nex_tmax</th>\n",
       "      <th>nex_tmin</th>\n",
       "      <th>nex_tmean</th>\n",
       "    </tr>\n",
       "  </thead>\n",
       "  <tbody>\n",
       "    <tr>\n",
       "      <th>0</th>\n",
       "      <td>721354</td>\n",
       "      <td>30.1280</td>\n",
       "      <td>10.7089</td>\n",
       "      <td>20.41845</td>\n",
       "    </tr>\n",
       "    <tr>\n",
       "      <th>1</th>\n",
       "      <td>721385</td>\n",
       "      <td>30.4229</td>\n",
       "      <td>10.5904</td>\n",
       "      <td>20.50665</td>\n",
       "    </tr>\n",
       "    <tr>\n",
       "      <th>2</th>\n",
       "      <td>721414</td>\n",
       "      <td>30.4062</td>\n",
       "      <td>10.6063</td>\n",
       "      <td>20.50625</td>\n",
       "    </tr>\n",
       "    <tr>\n",
       "      <th>3</th>\n",
       "      <td>721445</td>\n",
       "      <td>30.5158</td>\n",
       "      <td>11.8068</td>\n",
       "      <td>21.1613</td>\n",
       "    </tr>\n",
       "    <tr>\n",
       "      <th>4</th>\n",
       "      <td>721475</td>\n",
       "      <td>30.4171</td>\n",
       "      <td>13.2873</td>\n",
       "      <td>21.8522</td>\n",
       "    </tr>\n",
       "  </tbody>\n",
       "</table>\n",
       "</div>"
      ],
      "text/plain": [
       "     date  nex_tmax  nex_tmin nex_tmean\n",
       "0  721354   30.1280   10.7089  20.41845\n",
       "1  721385   30.4229   10.5904  20.50665\n",
       "2  721414   30.4062   10.6063  20.50625\n",
       "3  721445   30.5158   11.8068   21.1613\n",
       "4  721475   30.4171   13.2873   21.8522"
      ]
     },
     "execution_count": 30,
     "metadata": {},
     "output_type": "execute_result"
    }
   ],
   "source": [
    "nex25_train.head()"
   ]
  },
  {
   "cell_type": "code",
   "execution_count": 31,
   "metadata": {},
   "outputs": [
    {
     "data": {
      "text/html": [
       "<div>\n",
       "<style scoped>\n",
       "    .dataframe tbody tr th:only-of-type {\n",
       "        vertical-align: middle;\n",
       "    }\n",
       "\n",
       "    .dataframe tbody tr th {\n",
       "        vertical-align: top;\n",
       "    }\n",
       "\n",
       "    .dataframe thead th {\n",
       "        text-align: right;\n",
       "    }\n",
       "</style>\n",
       "<table border=\"1\" class=\"dataframe\">\n",
       "  <thead>\n",
       "    <tr style=\"text-align: right;\">\n",
       "      <th></th>\n",
       "      <th>date</th>\n",
       "      <th>nex_tmax</th>\n",
       "      <th>nex_tmin</th>\n",
       "    </tr>\n",
       "  </thead>\n",
       "  <tbody>\n",
       "    <tr>\n",
       "      <th>date</th>\n",
       "      <td>1.000000</td>\n",
       "      <td>0.084789</td>\n",
       "      <td>0.083561</td>\n",
       "    </tr>\n",
       "    <tr>\n",
       "      <th>nex_tmax</th>\n",
       "      <td>0.084789</td>\n",
       "      <td>1.000000</td>\n",
       "      <td>0.280715</td>\n",
       "    </tr>\n",
       "    <tr>\n",
       "      <th>nex_tmin</th>\n",
       "      <td>0.083561</td>\n",
       "      <td>0.280715</td>\n",
       "      <td>1.000000</td>\n",
       "    </tr>\n",
       "  </tbody>\n",
       "</table>\n",
       "</div>"
      ],
      "text/plain": [
       "              date  nex_tmax  nex_tmin\n",
       "date      1.000000  0.084789  0.083561\n",
       "nex_tmax  0.084789  1.000000  0.280715\n",
       "nex_tmin  0.083561  0.280715  1.000000"
      ]
     },
     "execution_count": 31,
     "metadata": {},
     "output_type": "execute_result"
    }
   ],
   "source": [
    "#correlation matrix\n",
    "nex25_train.corr()"
   ]
  },
  {
   "cell_type": "code",
   "execution_count": 32,
   "metadata": {},
   "outputs": [],
   "source": [
    "# dropping the date column\n",
    "Nex_train = nex25_train.drop(['date'],axis=1) "
   ]
  },
  {
   "cell_type": "code",
   "execution_count": 33,
   "metadata": {},
   "outputs": [],
   "source": [
    "Nex_train.head()\n",
    "Nex_train.to_csv(r'D:\\IITM\\prepared data\\Nex_train.csv')"
   ]
  },
  {
   "cell_type": "code",
   "execution_count": 34,
   "metadata": {},
   "outputs": [
    {
     "data": {
      "text/html": [
       "<div>\n",
       "<style scoped>\n",
       "    .dataframe tbody tr th:only-of-type {\n",
       "        vertical-align: middle;\n",
       "    }\n",
       "\n",
       "    .dataframe tbody tr th {\n",
       "        vertical-align: top;\n",
       "    }\n",
       "\n",
       "    .dataframe thead th {\n",
       "        text-align: right;\n",
       "    }\n",
       "</style>\n",
       "<table border=\"1\" class=\"dataframe\">\n",
       "  <thead>\n",
       "    <tr style=\"text-align: right;\">\n",
       "      <th></th>\n",
       "      <th>nex_tmax</th>\n",
       "      <th>nex_tmin</th>\n",
       "    </tr>\n",
       "  </thead>\n",
       "  <tbody>\n",
       "    <tr>\n",
       "      <th>nex_tmax</th>\n",
       "      <td>1.000000</td>\n",
       "      <td>0.280715</td>\n",
       "    </tr>\n",
       "    <tr>\n",
       "      <th>nex_tmin</th>\n",
       "      <td>0.280715</td>\n",
       "      <td>1.000000</td>\n",
       "    </tr>\n",
       "  </tbody>\n",
       "</table>\n",
       "</div>"
      ],
      "text/plain": [
       "          nex_tmax  nex_tmin\n",
       "nex_tmax  1.000000  0.280715\n",
       "nex_tmin  0.280715  1.000000"
      ]
     },
     "execution_count": 34,
     "metadata": {},
     "output_type": "execute_result"
    }
   ],
   "source": [
    "#correlation matrix\n",
    "Nex_train.corr()"
   ]
  },
  {
   "cell_type": "markdown",
   "metadata": {},
   "source": [
    "### Linear Regression with min, max and mean temperatures"
   ]
  },
  {
   "cell_type": "code",
   "execution_count": 35,
   "metadata": {},
   "outputs": [
    {
     "data": {
      "text/plain": [
       "LinearRegression()"
      ]
     },
     "execution_count": 35,
     "metadata": {},
     "output_type": "execute_result"
    }
   ],
   "source": [
    "#Linear regression using sci-kit learn\n",
    "from sklearn.linear_model import LinearRegression\n",
    "Nex_lin_reg = LinearRegression()\n",
    "Nex_lin_reg.fit(Nex_train, tmax_labels)"
   ]
  },
  {
   "cell_type": "code",
   "execution_count": 36,
   "metadata": {},
   "outputs": [],
   "source": [
    "#predicting  \n",
    "Nex_tmax_pred_train = Nex_lin_reg.predict(Nex_train)"
   ]
  },
  {
   "cell_type": "code",
   "execution_count": 37,
   "metadata": {},
   "outputs": [
    {
     "name": "stdout",
     "output_type": "stream",
     "text": [
      "[10.02484237]\n",
      "[[ 2.73968744e+12  2.73968744e+12 -5.47937489e+12]]\n"
     ]
    }
   ],
   "source": [
    "print(Nex_lin_reg.intercept_)\n",
    "print(Nex_lin_reg.coef_)"
   ]
  },
  {
   "cell_type": "code",
   "execution_count": 38,
   "metadata": {},
   "outputs": [
    {
     "name": "stdout",
     "output_type": "stream",
     "text": [
      "RMSE for Linear regression over train set = \n"
     ]
    },
    {
     "data": {
      "text/plain": [
       "1.6850397985925212"
      ]
     },
     "execution_count": 38,
     "metadata": {},
     "output_type": "execute_result"
    }
   ],
   "source": [
    "#calculating RMSE over test set\n",
    "Nex_lin_mse_train = mean_squared_error(tmax_labels, Nex_tmax_pred_train)\n",
    "Nex_lin_rmse_train = np.sqrt(Nex_lin_mse_train)\n",
    "print(\"RMSE for Linear regression over train set = \")\n",
    "Nex_lin_rmse_train"
   ]
  },
  {
   "cell_type": "code",
   "execution_count": 39,
   "metadata": {},
   "outputs": [],
   "source": [
    "#Loading minimum temperature dataset \n",
    "nex25_tmin_test = pd.read_csv(r'D:\\IITM\\tmin-pr-pune-inputs\\nex25_pune_tmin_test.csv')"
   ]
  },
  {
   "cell_type": "code",
   "execution_count": 40,
   "metadata": {},
   "outputs": [],
   "source": [
    "#selecting only the tmin column\n",
    "nex_test_tmin = nex25_tmin_test[\"tmin\"] "
   ]
  },
  {
   "cell_type": "code",
   "execution_count": 41,
   "metadata": {},
   "outputs": [
    {
     "data": {
      "text/plain": [
       "0    14.5580\n",
       "1    14.8125\n",
       "2    14.9060\n",
       "3    14.2860\n",
       "4    13.7385\n",
       "Name: tmin, dtype: float64"
      ]
     },
     "execution_count": 41,
     "metadata": {},
     "output_type": "execute_result"
    }
   ],
   "source": [
    "nex_test_tmin.head()"
   ]
  },
  {
   "cell_type": "code",
   "execution_count": 42,
   "metadata": {},
   "outputs": [],
   "source": [
    "#concatinating dataframes \n",
    "nex25_test = pd.concat([nex25_tmax_test.reset_index(drop=True), nex_test_tmin.reset_index(drop=True)],axis=1) "
   ]
  },
  {
   "cell_type": "code",
   "execution_count": 43,
   "metadata": {},
   "outputs": [
    {
     "data": {
      "text/html": [
       "<div>\n",
       "<style scoped>\n",
       "    .dataframe tbody tr th:only-of-type {\n",
       "        vertical-align: middle;\n",
       "    }\n",
       "\n",
       "    .dataframe tbody tr th {\n",
       "        vertical-align: top;\n",
       "    }\n",
       "\n",
       "    .dataframe thead th {\n",
       "        text-align: right;\n",
       "    }\n",
       "</style>\n",
       "<table border=\"1\" class=\"dataframe\">\n",
       "  <thead>\n",
       "    <tr style=\"text-align: right;\">\n",
       "      <th></th>\n",
       "      <th>date</th>\n",
       "      <th>nex_tmax</th>\n",
       "      <th>tmin</th>\n",
       "    </tr>\n",
       "  </thead>\n",
       "  <tbody>\n",
       "    <tr>\n",
       "      <th>0</th>\n",
       "      <td>732312</td>\n",
       "      <td>30.0709</td>\n",
       "      <td>14.5580</td>\n",
       "    </tr>\n",
       "    <tr>\n",
       "      <th>1</th>\n",
       "      <td>732343</td>\n",
       "      <td>30.3630</td>\n",
       "      <td>14.8125</td>\n",
       "    </tr>\n",
       "    <tr>\n",
       "      <th>2</th>\n",
       "      <td>732371</td>\n",
       "      <td>30.2909</td>\n",
       "      <td>14.9060</td>\n",
       "    </tr>\n",
       "    <tr>\n",
       "      <th>3</th>\n",
       "      <td>732402</td>\n",
       "      <td>30.3834</td>\n",
       "      <td>14.2860</td>\n",
       "    </tr>\n",
       "    <tr>\n",
       "      <th>4</th>\n",
       "      <td>732432</td>\n",
       "      <td>30.0295</td>\n",
       "      <td>13.7385</td>\n",
       "    </tr>\n",
       "  </tbody>\n",
       "</table>\n",
       "</div>"
      ],
      "text/plain": [
       "     date  nex_tmax     tmin\n",
       "0  732312   30.0709  14.5580\n",
       "1  732343   30.3630  14.8125\n",
       "2  732371   30.2909  14.9060\n",
       "3  732402   30.3834  14.2860\n",
       "4  732432   30.0295  13.7385"
      ]
     },
     "execution_count": 43,
     "metadata": {},
     "output_type": "execute_result"
    }
   ],
   "source": [
    "nex25_test.head()"
   ]
  },
  {
   "cell_type": "code",
   "execution_count": 44,
   "metadata": {},
   "outputs": [],
   "source": [
    "#renaming column\n",
    "nex25_test = nex25_test.rename(columns={'tmin':'nex_tmin'})"
   ]
  },
  {
   "cell_type": "code",
   "execution_count": 45,
   "metadata": {},
   "outputs": [
    {
     "data": {
      "text/html": [
       "<div>\n",
       "<style scoped>\n",
       "    .dataframe tbody tr th:only-of-type {\n",
       "        vertical-align: middle;\n",
       "    }\n",
       "\n",
       "    .dataframe tbody tr th {\n",
       "        vertical-align: top;\n",
       "    }\n",
       "\n",
       "    .dataframe thead th {\n",
       "        text-align: right;\n",
       "    }\n",
       "</style>\n",
       "<table border=\"1\" class=\"dataframe\">\n",
       "  <thead>\n",
       "    <tr style=\"text-align: right;\">\n",
       "      <th></th>\n",
       "      <th>date</th>\n",
       "      <th>nex_tmax</th>\n",
       "      <th>nex_tmin</th>\n",
       "    </tr>\n",
       "  </thead>\n",
       "  <tbody>\n",
       "    <tr>\n",
       "      <th>0</th>\n",
       "      <td>732312</td>\n",
       "      <td>30.0709</td>\n",
       "      <td>14.5580</td>\n",
       "    </tr>\n",
       "    <tr>\n",
       "      <th>1</th>\n",
       "      <td>732343</td>\n",
       "      <td>30.3630</td>\n",
       "      <td>14.8125</td>\n",
       "    </tr>\n",
       "    <tr>\n",
       "      <th>2</th>\n",
       "      <td>732371</td>\n",
       "      <td>30.2909</td>\n",
       "      <td>14.9060</td>\n",
       "    </tr>\n",
       "    <tr>\n",
       "      <th>3</th>\n",
       "      <td>732402</td>\n",
       "      <td>30.3834</td>\n",
       "      <td>14.2860</td>\n",
       "    </tr>\n",
       "    <tr>\n",
       "      <th>4</th>\n",
       "      <td>732432</td>\n",
       "      <td>30.0295</td>\n",
       "      <td>13.7385</td>\n",
       "    </tr>\n",
       "  </tbody>\n",
       "</table>\n",
       "</div>"
      ],
      "text/plain": [
       "     date  nex_tmax  nex_tmin\n",
       "0  732312   30.0709   14.5580\n",
       "1  732343   30.3630   14.8125\n",
       "2  732371   30.2909   14.9060\n",
       "3  732402   30.3834   14.2860\n",
       "4  732432   30.0295   13.7385"
      ]
     },
     "execution_count": 45,
     "metadata": {},
     "output_type": "execute_result"
    }
   ],
   "source": [
    "nex25_test.head()"
   ]
  },
  {
   "cell_type": "code",
   "execution_count": 46,
   "metadata": {},
   "outputs": [
    {
     "data": {
      "text/html": [
       "<div>\n",
       "<style scoped>\n",
       "    .dataframe tbody tr th:only-of-type {\n",
       "        vertical-align: middle;\n",
       "    }\n",
       "\n",
       "    .dataframe tbody tr th {\n",
       "        vertical-align: top;\n",
       "    }\n",
       "\n",
       "    .dataframe thead th {\n",
       "        text-align: right;\n",
       "    }\n",
       "</style>\n",
       "<table border=\"1\" class=\"dataframe\">\n",
       "  <thead>\n",
       "    <tr style=\"text-align: right;\">\n",
       "      <th></th>\n",
       "      <th>date</th>\n",
       "      <th>nex_tmax</th>\n",
       "      <th>nex_tmin</th>\n",
       "      <th>nex_tmean</th>\n",
       "    </tr>\n",
       "  </thead>\n",
       "  <tbody>\n",
       "    <tr>\n",
       "      <th>0</th>\n",
       "      <td>732312</td>\n",
       "      <td>30.0709</td>\n",
       "      <td>14.5580</td>\n",
       "      <td></td>\n",
       "    </tr>\n",
       "    <tr>\n",
       "      <th>1</th>\n",
       "      <td>732343</td>\n",
       "      <td>30.3630</td>\n",
       "      <td>14.8125</td>\n",
       "      <td></td>\n",
       "    </tr>\n",
       "    <tr>\n",
       "      <th>2</th>\n",
       "      <td>732371</td>\n",
       "      <td>30.2909</td>\n",
       "      <td>14.9060</td>\n",
       "      <td></td>\n",
       "    </tr>\n",
       "    <tr>\n",
       "      <th>3</th>\n",
       "      <td>732402</td>\n",
       "      <td>30.3834</td>\n",
       "      <td>14.2860</td>\n",
       "      <td></td>\n",
       "    </tr>\n",
       "    <tr>\n",
       "      <th>4</th>\n",
       "      <td>732432</td>\n",
       "      <td>30.0295</td>\n",
       "      <td>13.7385</td>\n",
       "      <td></td>\n",
       "    </tr>\n",
       "  </tbody>\n",
       "</table>\n",
       "</div>"
      ],
      "text/plain": [
       "     date  nex_tmax  nex_tmin nex_tmean\n",
       "0  732312   30.0709   14.5580          \n",
       "1  732343   30.3630   14.8125          \n",
       "2  732371   30.2909   14.9060          \n",
       "3  732402   30.3834   14.2860          \n",
       "4  732432   30.0295   13.7385          "
      ]
     },
     "execution_count": 46,
     "metadata": {},
     "output_type": "execute_result"
    }
   ],
   "source": [
    "#creating an empty column to store tmean\n",
    "nex25_test[\"nex_tmean\"] = \"\"\n",
    "nex25_test.head()"
   ]
  },
  {
   "cell_type": "code",
   "execution_count": 47,
   "metadata": {},
   "outputs": [],
   "source": [
    "#Calculating mean temperature for test set\n",
    "for i in range (len(nex25_test)):\n",
    "    nex25_test.iat[i,3] = (nex25_test.iat[i,1] + nex25_test.iat[i,2])/2"
   ]
  },
  {
   "cell_type": "code",
   "execution_count": 48,
   "metadata": {},
   "outputs": [
    {
     "data": {
      "text/html": [
       "<div>\n",
       "<style scoped>\n",
       "    .dataframe tbody tr th:only-of-type {\n",
       "        vertical-align: middle;\n",
       "    }\n",
       "\n",
       "    .dataframe tbody tr th {\n",
       "        vertical-align: top;\n",
       "    }\n",
       "\n",
       "    .dataframe thead th {\n",
       "        text-align: right;\n",
       "    }\n",
       "</style>\n",
       "<table border=\"1\" class=\"dataframe\">\n",
       "  <thead>\n",
       "    <tr style=\"text-align: right;\">\n",
       "      <th></th>\n",
       "      <th>date</th>\n",
       "      <th>nex_tmax</th>\n",
       "      <th>nex_tmin</th>\n",
       "      <th>nex_tmean</th>\n",
       "    </tr>\n",
       "  </thead>\n",
       "  <tbody>\n",
       "    <tr>\n",
       "      <th>0</th>\n",
       "      <td>732312</td>\n",
       "      <td>30.0709</td>\n",
       "      <td>14.5580</td>\n",
       "      <td>22.31445</td>\n",
       "    </tr>\n",
       "    <tr>\n",
       "      <th>1</th>\n",
       "      <td>732343</td>\n",
       "      <td>30.3630</td>\n",
       "      <td>14.8125</td>\n",
       "      <td>22.58775</td>\n",
       "    </tr>\n",
       "    <tr>\n",
       "      <th>2</th>\n",
       "      <td>732371</td>\n",
       "      <td>30.2909</td>\n",
       "      <td>14.9060</td>\n",
       "      <td>22.59845</td>\n",
       "    </tr>\n",
       "    <tr>\n",
       "      <th>3</th>\n",
       "      <td>732402</td>\n",
       "      <td>30.3834</td>\n",
       "      <td>14.2860</td>\n",
       "      <td>22.3347</td>\n",
       "    </tr>\n",
       "    <tr>\n",
       "      <th>4</th>\n",
       "      <td>732432</td>\n",
       "      <td>30.0295</td>\n",
       "      <td>13.7385</td>\n",
       "      <td>21.884</td>\n",
       "    </tr>\n",
       "  </tbody>\n",
       "</table>\n",
       "</div>"
      ],
      "text/plain": [
       "     date  nex_tmax  nex_tmin nex_tmean\n",
       "0  732312   30.0709   14.5580  22.31445\n",
       "1  732343   30.3630   14.8125  22.58775\n",
       "2  732371   30.2909   14.9060  22.59845\n",
       "3  732402   30.3834   14.2860   22.3347\n",
       "4  732432   30.0295   13.7385    21.884"
      ]
     },
     "execution_count": 48,
     "metadata": {},
     "output_type": "execute_result"
    }
   ],
   "source": [
    "nex25_test.head()"
   ]
  },
  {
   "cell_type": "code",
   "execution_count": 49,
   "metadata": {},
   "outputs": [],
   "source": [
    "#dropping the date column\n",
    "Nex_test = nex25_test.drop(['date'],axis=1)"
   ]
  },
  {
   "cell_type": "code",
   "execution_count": 50,
   "metadata": {},
   "outputs": [],
   "source": [
    "Nex_test.head()\n",
    "Nex_test.to_csv(r'D:\\IITM\\prepared data\\Nex_test.csv')"
   ]
  },
  {
   "cell_type": "code",
   "execution_count": 51,
   "metadata": {},
   "outputs": [
    {
     "data": {
      "text/html": [
       "<div>\n",
       "<style scoped>\n",
       "    .dataframe tbody tr th:only-of-type {\n",
       "        vertical-align: middle;\n",
       "    }\n",
       "\n",
       "    .dataframe tbody tr th {\n",
       "        vertical-align: top;\n",
       "    }\n",
       "\n",
       "    .dataframe thead th {\n",
       "        text-align: right;\n",
       "    }\n",
       "</style>\n",
       "<table border=\"1\" class=\"dataframe\">\n",
       "  <thead>\n",
       "    <tr style=\"text-align: right;\">\n",
       "      <th></th>\n",
       "      <th>date</th>\n",
       "      <th>nex_tmax</th>\n",
       "      <th>nex_tmin</th>\n",
       "      <th>nex_tmean</th>\n",
       "    </tr>\n",
       "  </thead>\n",
       "  <tbody>\n",
       "    <tr>\n",
       "      <th>0</th>\n",
       "      <td>732312</td>\n",
       "      <td>30.0709</td>\n",
       "      <td>14.5580</td>\n",
       "      <td>22.31445</td>\n",
       "    </tr>\n",
       "    <tr>\n",
       "      <th>1</th>\n",
       "      <td>732343</td>\n",
       "      <td>30.3630</td>\n",
       "      <td>14.8125</td>\n",
       "      <td>22.58775</td>\n",
       "    </tr>\n",
       "    <tr>\n",
       "      <th>2</th>\n",
       "      <td>732371</td>\n",
       "      <td>30.2909</td>\n",
       "      <td>14.9060</td>\n",
       "      <td>22.59845</td>\n",
       "    </tr>\n",
       "    <tr>\n",
       "      <th>3</th>\n",
       "      <td>732402</td>\n",
       "      <td>30.3834</td>\n",
       "      <td>14.2860</td>\n",
       "      <td>22.3347</td>\n",
       "    </tr>\n",
       "    <tr>\n",
       "      <th>4</th>\n",
       "      <td>732432</td>\n",
       "      <td>30.0295</td>\n",
       "      <td>13.7385</td>\n",
       "      <td>21.884</td>\n",
       "    </tr>\n",
       "  </tbody>\n",
       "</table>\n",
       "</div>"
      ],
      "text/plain": [
       "     date  nex_tmax  nex_tmin nex_tmean\n",
       "0  732312   30.0709   14.5580  22.31445\n",
       "1  732343   30.3630   14.8125  22.58775\n",
       "2  732371   30.2909   14.9060  22.59845\n",
       "3  732402   30.3834   14.2860   22.3347\n",
       "4  732432   30.0295   13.7385    21.884"
      ]
     },
     "execution_count": 51,
     "metadata": {},
     "output_type": "execute_result"
    }
   ],
   "source": [
    "nex25_test.head()"
   ]
  },
  {
   "cell_type": "code",
   "execution_count": 52,
   "metadata": {},
   "outputs": [],
   "source": [
    "#predicting on test set\n",
    "Nex_test[\"pred_tmax\"] = \"\" \n",
    "#Nex_test[\"pred_tmax\"] = Nex_lin_reg.predict(Nex_test[\"nex_tmax\",\"nex_tmin\",\"nex_tmean\"])"
   ]
  },
  {
   "cell_type": "code",
   "execution_count": 53,
   "metadata": {},
   "outputs": [
    {
     "data": {
      "text/html": [
       "<div>\n",
       "<style scoped>\n",
       "    .dataframe tbody tr th:only-of-type {\n",
       "        vertical-align: middle;\n",
       "    }\n",
       "\n",
       "    .dataframe tbody tr th {\n",
       "        vertical-align: top;\n",
       "    }\n",
       "\n",
       "    .dataframe thead th {\n",
       "        text-align: right;\n",
       "    }\n",
       "</style>\n",
       "<table border=\"1\" class=\"dataframe\">\n",
       "  <thead>\n",
       "    <tr style=\"text-align: right;\">\n",
       "      <th></th>\n",
       "      <th>nex_tmax</th>\n",
       "      <th>nex_tmin</th>\n",
       "      <th>nex_tmean</th>\n",
       "      <th>pred_tmax</th>\n",
       "    </tr>\n",
       "  </thead>\n",
       "  <tbody>\n",
       "    <tr>\n",
       "      <th>0</th>\n",
       "      <td>30.0709</td>\n",
       "      <td>14.5580</td>\n",
       "      <td>22.31445</td>\n",
       "      <td></td>\n",
       "    </tr>\n",
       "    <tr>\n",
       "      <th>1</th>\n",
       "      <td>30.3630</td>\n",
       "      <td>14.8125</td>\n",
       "      <td>22.58775</td>\n",
       "      <td></td>\n",
       "    </tr>\n",
       "    <tr>\n",
       "      <th>2</th>\n",
       "      <td>30.2909</td>\n",
       "      <td>14.9060</td>\n",
       "      <td>22.59845</td>\n",
       "      <td></td>\n",
       "    </tr>\n",
       "    <tr>\n",
       "      <th>3</th>\n",
       "      <td>30.3834</td>\n",
       "      <td>14.2860</td>\n",
       "      <td>22.3347</td>\n",
       "      <td></td>\n",
       "    </tr>\n",
       "    <tr>\n",
       "      <th>4</th>\n",
       "      <td>30.0295</td>\n",
       "      <td>13.7385</td>\n",
       "      <td>21.884</td>\n",
       "      <td></td>\n",
       "    </tr>\n",
       "  </tbody>\n",
       "</table>\n",
       "</div>"
      ],
      "text/plain": [
       "   nex_tmax  nex_tmin nex_tmean pred_tmax\n",
       "0   30.0709   14.5580  22.31445          \n",
       "1   30.3630   14.8125  22.58775          \n",
       "2   30.2909   14.9060  22.59845          \n",
       "3   30.3834   14.2860   22.3347          \n",
       "4   30.0295   13.7385    21.884          "
      ]
     },
     "execution_count": 53,
     "metadata": {},
     "output_type": "execute_result"
    }
   ],
   "source": [
    "Nex_test.head()"
   ]
  },
  {
   "cell_type": "code",
   "execution_count": 54,
   "metadata": {},
   "outputs": [],
   "source": [
    "Nex_test[\"pred_tmax\"] = Nex_lin_reg.predict(pd.DataFrame(Nex_test,columns=['nex_tmax','nex_tmin','nex_tmean']))"
   ]
  },
  {
   "cell_type": "code",
   "execution_count": 55,
   "metadata": {},
   "outputs": [
    {
     "data": {
      "text/html": [
       "<div>\n",
       "<style scoped>\n",
       "    .dataframe tbody tr th:only-of-type {\n",
       "        vertical-align: middle;\n",
       "    }\n",
       "\n",
       "    .dataframe tbody tr th {\n",
       "        vertical-align: top;\n",
       "    }\n",
       "\n",
       "    .dataframe thead th {\n",
       "        text-align: right;\n",
       "    }\n",
       "</style>\n",
       "<table border=\"1\" class=\"dataframe\">\n",
       "  <thead>\n",
       "    <tr style=\"text-align: right;\">\n",
       "      <th></th>\n",
       "      <th>nex_tmax</th>\n",
       "      <th>nex_tmin</th>\n",
       "      <th>nex_tmean</th>\n",
       "      <th>pred_tmax</th>\n",
       "    </tr>\n",
       "  </thead>\n",
       "  <tbody>\n",
       "    <tr>\n",
       "      <th>0</th>\n",
       "      <td>30.0709</td>\n",
       "      <td>14.5580</td>\n",
       "      <td>22.31445</td>\n",
       "      <td>30.243592</td>\n",
       "    </tr>\n",
       "    <tr>\n",
       "      <th>1</th>\n",
       "      <td>30.3630</td>\n",
       "      <td>14.8125</td>\n",
       "      <td>22.58775</td>\n",
       "      <td>30.431092</td>\n",
       "    </tr>\n",
       "    <tr>\n",
       "      <th>2</th>\n",
       "      <td>30.2909</td>\n",
       "      <td>14.9060</td>\n",
       "      <td>22.59845</td>\n",
       "      <td>30.368592</td>\n",
       "    </tr>\n",
       "    <tr>\n",
       "      <th>3</th>\n",
       "      <td>30.3834</td>\n",
       "      <td>14.2860</td>\n",
       "      <td>22.3347</td>\n",
       "      <td>30.493592</td>\n",
       "    </tr>\n",
       "    <tr>\n",
       "      <th>4</th>\n",
       "      <td>30.0295</td>\n",
       "      <td>13.7385</td>\n",
       "      <td>21.884</td>\n",
       "      <td>30.290467</td>\n",
       "    </tr>\n",
       "  </tbody>\n",
       "</table>\n",
       "</div>"
      ],
      "text/plain": [
       "   nex_tmax  nex_tmin nex_tmean  pred_tmax\n",
       "0   30.0709   14.5580  22.31445  30.243592\n",
       "1   30.3630   14.8125  22.58775  30.431092\n",
       "2   30.2909   14.9060  22.59845  30.368592\n",
       "3   30.3834   14.2860   22.3347  30.493592\n",
       "4   30.0295   13.7385    21.884  30.290467"
      ]
     },
     "execution_count": 55,
     "metadata": {},
     "output_type": "execute_result"
    }
   ],
   "source": [
    "Nex_test.head()"
   ]
  },
  {
   "cell_type": "code",
   "execution_count": 56,
   "metadata": {},
   "outputs": [
    {
     "name": "stdout",
     "output_type": "stream",
     "text": [
      "Intercept and coefficients of the regression (with tmin, tmean and tmax) : \n",
      "[10.02484237]\n",
      "[[ 2.73968744e+12  2.73968744e+12 -5.47937489e+12]]\n"
     ]
    }
   ],
   "source": [
    "print(\"Intercept and coefficients of the regression (with tmin, tmean and tmax) : \")\n",
    "print(Nex_lin_reg.intercept_)\n",
    "print(Nex_lin_reg.coef_)"
   ]
  },
  {
   "cell_type": "code",
   "execution_count": 57,
   "metadata": {},
   "outputs": [],
   "source": [
    "def predictions_multiple(x,y,z):\n",
    "    pred=10.02484237+(2.73968744e+12*x)+(2.73968744e+12*y)+(-5.47937489e+12*z)\n",
    "    return round(pred,0)"
   ]
  },
  {
   "cell_type": "code",
   "execution_count": 58,
   "metadata": {},
   "outputs": [
    {
     "data": {
      "text/plain": [
       "-223134.0"
      ]
     },
     "execution_count": 58,
     "metadata": {},
     "output_type": "execute_result"
    }
   ],
   "source": [
    "predictions_multiple( 30.0709, 14.5580, 22.31445)"
   ]
  },
  {
   "cell_type": "markdown",
   "metadata": {},
   "source": [
    "Values of intercept and coeffiecient given by readily available functions in python are not consistant with the manual verification of the corresponding equation."
   ]
  },
  {
   "cell_type": "code",
   "execution_count": 59,
   "metadata": {},
   "outputs": [
    {
     "name": "stdout",
     "output_type": "stream",
     "text": [
      "RMSE for Linear regression over test set = \n"
     ]
    },
    {
     "data": {
      "text/plain": [
       "1.7453517301672608"
      ]
     },
     "execution_count": 59,
     "metadata": {},
     "output_type": "execute_result"
    }
   ],
   "source": [
    "#calculating RMSE over test set\n",
    "Nex_lin_mse_test = mean_squared_error(final_labels, Nex_test[\"pred_tmax\"])\n",
    "Nex_lin_rmse_test = np.sqrt(Nex_lin_mse_test)\n",
    "print(\"RMSE for Linear regression over test set = \")\n",
    "Nex_lin_rmse_test"
   ]
  },
  {
   "cell_type": "code",
   "execution_count": 60,
   "metadata": {},
   "outputs": [],
   "source": [
    "lin_reg_predictions = np.array(Nex_test[\"pred_tmax\"])\n",
    "labels = np.array(final_labels)"
   ]
  },
  {
   "cell_type": "code",
   "execution_count": 61,
   "metadata": {},
   "outputs": [
    {
     "data": {
      "text/plain": [
       "array([[1.        , 0.80181758],\n",
       "       [0.80181758, 1.        ]])"
      ]
     },
     "execution_count": 61,
     "metadata": {},
     "output_type": "execute_result"
    }
   ],
   "source": [
    "#Correlation between labels and predictions\n",
    "np.corrcoef(lin_reg_predictions, final_labels)"
   ]
  },
  {
   "cell_type": "code",
   "execution_count": 62,
   "metadata": {},
   "outputs": [
    {
     "name": "stdout",
     "output_type": "stream",
     "text": [
      "Results of predictions using Linear Regression:\n",
      "MAE: 1.3602295438309489\n",
      "MSE: 3.0462526619978507\n",
      "RMSE: 1.7453517301672608\n",
      "R-Squared: 0.6398838569406103\n"
     ]
    }
   ],
   "source": [
    "import sklearn.metrics as metrics\n",
    "mae = metrics.mean_absolute_error(final_labels , Nex_test[\"pred_tmax\"])\n",
    "mse = metrics.mean_squared_error(final_labels , Nex_test[\"pred_tmax\"])\n",
    "rmse = np.sqrt(mse) # or mse**(0.5)  \n",
    "r2 = metrics.r2_score(final_labels , Nex_test[\"pred_tmax\"])\n",
    "\n",
    "print(\"Results of predictions using Linear Regression:\")\n",
    "print(\"MAE:\",mae)\n",
    "print(\"MSE:\", mse)\n",
    "print(\"RMSE:\", rmse)\n",
    "print(\"R-Squared:\", r2)"
   ]
  },
  {
   "cell_type": "code",
   "execution_count": 63,
   "metadata": {
    "scrolled": true
   },
   "outputs": [],
   "source": [
    "lr_pred = pd.DataFrame(Nex_test[\"pred_tmax\"])\n",
    "lr_pred.to_csv(r'D:\\IITM\\Predictions\\lin_reg_preditions.csv')"
   ]
  },
  {
   "cell_type": "markdown",
   "metadata": {},
   "source": [
    "### Support Vector Regression (SVR) with min, max and mean temperatures"
   ]
  },
  {
   "cell_type": "code",
   "execution_count": 64,
   "metadata": {},
   "outputs": [
    {
     "name": "stderr",
     "output_type": "stream",
     "text": [
      "c:\\users\\narayan\\appdata\\local\\programs\\python\\python38\\lib\\site-packages\\sklearn\\utils\\validation.py:63: DataConversionWarning: A column-vector y was passed when a 1d array was expected. Please change the shape of y to (n_samples, ), for example using ravel().\n",
      "  return f(*args, **kwargs)\n"
     ]
    },
    {
     "data": {
      "text/plain": [
       "SVR()"
      ]
     },
     "execution_count": 64,
     "metadata": {},
     "output_type": "execute_result"
    }
   ],
   "source": [
    "from sklearn import svm\n",
    "tmax_svr = svm.SVR()\n",
    "tmax_svr.fit(Nex_train , tmax_labels)"
   ]
  },
  {
   "cell_type": "code",
   "execution_count": 65,
   "metadata": {},
   "outputs": [],
   "source": [
    "Nex_SVR_pred_train = tmax_svr.predict(Nex_train)"
   ]
  },
  {
   "cell_type": "code",
   "execution_count": 66,
   "metadata": {},
   "outputs": [
    {
     "name": "stdout",
     "output_type": "stream",
     "text": [
      "RMSE for Support Vector Regression over train set = \n"
     ]
    },
    {
     "data": {
      "text/plain": [
       "1.583548063056238"
      ]
     },
     "execution_count": 66,
     "metadata": {},
     "output_type": "execute_result"
    }
   ],
   "source": [
    "#calculating RMSE over train set for SVR\n",
    "Nex_svr_mse_train = mean_squared_error(tmax_labels, Nex_SVR_pred_train)\n",
    "Nex_svr_rmse_train = np.sqrt(Nex_svr_mse_train)\n",
    "print(\"RMSE for Support Vector Regression over train set = \")\n",
    "Nex_svr_rmse_train"
   ]
  },
  {
   "cell_type": "code",
   "execution_count": 67,
   "metadata": {},
   "outputs": [],
   "source": [
    "Nex_SVR_test = pd.DataFrame(Nex_test,columns=['nex_tmax','nex_tmin','nex_tmean'])"
   ]
  },
  {
   "cell_type": "code",
   "execution_count": 68,
   "metadata": {},
   "outputs": [],
   "source": [
    "Nex_SVR_pred_test = tmax_svr.predict(Nex_SVR_test)"
   ]
  },
  {
   "cell_type": "code",
   "execution_count": 69,
   "metadata": {},
   "outputs": [
    {
     "name": "stdout",
     "output_type": "stream",
     "text": [
      "RMSE for Support Vector Regression over test set = \n"
     ]
    },
    {
     "data": {
      "text/plain": [
       "1.6582310303560692"
      ]
     },
     "execution_count": 69,
     "metadata": {},
     "output_type": "execute_result"
    }
   ],
   "source": [
    "#calculating RMSE over test set for SVR\n",
    "Nex_svr_mse_test = mean_squared_error(final_labels, Nex_SVR_pred_test)\n",
    "Nex_svr_rmse_test = np.sqrt(Nex_svr_mse_test)\n",
    "print(\"RMSE for Support Vector Regression over test set = \")\n",
    "Nex_svr_rmse_test"
   ]
  },
  {
   "cell_type": "code",
   "execution_count": 64,
   "metadata": {},
   "outputs": [
    {
     "data": {
      "text/html": [
       "<div>\n",
       "<style scoped>\n",
       "    .dataframe tbody tr th:only-of-type {\n",
       "        vertical-align: middle;\n",
       "    }\n",
       "\n",
       "    .dataframe tbody tr th {\n",
       "        vertical-align: top;\n",
       "    }\n",
       "\n",
       "    .dataframe thead th {\n",
       "        text-align: right;\n",
       "    }\n",
       "</style>\n",
       "<table border=\"1\" class=\"dataframe\">\n",
       "  <thead>\n",
       "    <tr style=\"text-align: right;\">\n",
       "      <th></th>\n",
       "      <th>0</th>\n",
       "    </tr>\n",
       "  </thead>\n",
       "  <tbody>\n",
       "    <tr>\n",
       "      <th>0</th>\n",
       "      <td>30.435189</td>\n",
       "    </tr>\n",
       "    <tr>\n",
       "      <th>1</th>\n",
       "      <td>30.591495</td>\n",
       "    </tr>\n",
       "    <tr>\n",
       "      <th>2</th>\n",
       "      <td>30.579522</td>\n",
       "    </tr>\n",
       "    <tr>\n",
       "      <th>3</th>\n",
       "      <td>30.494990</td>\n",
       "    </tr>\n",
       "    <tr>\n",
       "      <th>4</th>\n",
       "      <td>30.267567</td>\n",
       "    </tr>\n",
       "  </tbody>\n",
       "</table>\n",
       "</div>"
      ],
      "text/plain": [
       "           0\n",
       "0  30.435189\n",
       "1  30.591495\n",
       "2  30.579522\n",
       "3  30.494990\n",
       "4  30.267567"
      ]
     },
     "execution_count": 64,
     "metadata": {},
     "output_type": "execute_result"
    }
   ],
   "source": [
    "#Converting from numpy array to pandas dataframe\n",
    "data = np.array(Nex_SVR_pred_test)\n",
    "Nex_SVR_pred_test = pd.DataFrame(data)\n",
    "Nex_SVR_pred_test.head()"
   ]
  },
  {
   "cell_type": "code",
   "execution_count": 104,
   "metadata": {},
   "outputs": [
    {
     "name": "stdout",
     "output_type": "stream",
     "text": [
      "Results of predictions using Support Vector Regression:\n",
      "MAE: 1.271083418468215\n",
      "MSE: 2.749730150035751\n",
      "RMSE: 1.6582310303560692\n",
      "R-Squared: 0.6749375951515574\n"
     ]
    }
   ],
   "source": [
    "import sklearn.metrics as metrics\n",
    "mae = metrics.mean_absolute_error(final_labels , Nex_SVR_pred_test)\n",
    "mse = metrics.mean_squared_error(final_labels , Nex_SVR_pred_test)\n",
    "rmse = np.sqrt(mse) # or mse**(0.5)  \n",
    "r2 = metrics.r2_score(final_labels , Nex_SVR_pred_test)\n",
    "\n",
    "print(\"Results of predictions using Support Vector Regression:\")\n",
    "print(\"MAE:\",mae)\n",
    "print(\"MSE:\", mse)\n",
    "print(\"RMSE:\", rmse)\n",
    "print(\"R-Squared:\", r2)"
   ]
  },
  {
   "cell_type": "code",
   "execution_count": 129,
   "metadata": {},
   "outputs": [],
   "source": [
    "Nex_SVR_pred_test.to_csv(r'D:\\IITM\\Predictions\\svr_predictions.csv')"
   ]
  },
  {
   "cell_type": "markdown",
   "metadata": {},
   "source": [
    "### Decision Tree Regression using min, max and mean temperatures"
   ]
  },
  {
   "cell_type": "code",
   "execution_count": 65,
   "metadata": {},
   "outputs": [
    {
     "data": {
      "text/plain": [
       "DecisionTreeRegressor()"
      ]
     },
     "execution_count": 65,
     "metadata": {},
     "output_type": "execute_result"
    }
   ],
   "source": [
    "from sklearn.tree import DecisionTreeRegressor\n",
    "Nex_dtr = DecisionTreeRegressor()\n",
    "Nex_dtr.fit(Nex_train, tmax_labels)"
   ]
  },
  {
   "cell_type": "code",
   "execution_count": 66,
   "metadata": {},
   "outputs": [],
   "source": [
    "Nex_dtr_pred_train = Nex_dtr.predict(Nex_train)"
   ]
  },
  {
   "cell_type": "code",
   "execution_count": 67,
   "metadata": {},
   "outputs": [
    {
     "name": "stdout",
     "output_type": "stream",
     "text": [
      "RMSE for Linear regression over training set = \n"
     ]
    },
    {
     "data": {
      "text/plain": [
       "1.1760987044373904e-16"
      ]
     },
     "execution_count": 67,
     "metadata": {},
     "output_type": "execute_result"
    }
   ],
   "source": [
    "#calculating RMSE over training set for Decision tree Regressor\n",
    "Nex_dtr_mse_train = mean_squared_error(tmax_labels, Nex_dtr_pred_train)\n",
    "Nex_dtr_rmse_train = np.sqrt(Nex_dtr_mse_train)\n",
    "print(\"RMSE for Linear regression over training set = \")\n",
    "Nex_dtr_rmse_train"
   ]
  },
  {
   "cell_type": "markdown",
   "metadata": {},
   "source": [
    "1.1760987044373904e-16 = 0.00000000000000011760987044373904"
   ]
  },
  {
   "cell_type": "code",
   "execution_count": 69,
   "metadata": {},
   "outputs": [],
   "source": [
    "Nex_dtr_test = pd.DataFrame(Nex_test,columns=['nex_tmax','nex_tmin','nex_tmean'])"
   ]
  },
  {
   "cell_type": "code",
   "execution_count": 70,
   "metadata": {},
   "outputs": [],
   "source": [
    "Nex_dtr_pred_test = Nex_dtr.predict(Nex_dtr_test)"
   ]
  },
  {
   "cell_type": "code",
   "execution_count": 71,
   "metadata": {},
   "outputs": [
    {
     "name": "stdout",
     "output_type": "stream",
     "text": [
      "RMSE for Linear regression over test set = \n"
     ]
    },
    {
     "data": {
      "text/plain": [
       "2.3458211168647893"
      ]
     },
     "execution_count": 71,
     "metadata": {},
     "output_type": "execute_result"
    }
   ],
   "source": [
    "#calculating RMSE over test set for Decision tree Regressor\n",
    "Nex_dtr_mse_test = mean_squared_error(final_labels, Nex_dtr_pred_test)\n",
    "Nex_dtr_rmse_test = np.sqrt(Nex_dtr_mse_test)\n",
    "print(\"RMSE for Linear regression over test set = \")\n",
    "Nex_dtr_rmse_test"
   ]
  },
  {
   "cell_type": "code",
   "execution_count": 72,
   "metadata": {},
   "outputs": [
    {
     "data": {
      "text/plain": [
       "-2.3458211168647893"
      ]
     },
     "execution_count": 72,
     "metadata": {},
     "output_type": "execute_result"
    }
   ],
   "source": [
    "#Difference between rmse over training and test set\n",
    "0.00000000000000011760987044373904 - 2.3458211168647893"
   ]
  },
  {
   "cell_type": "markdown",
   "metadata": {},
   "source": [
    "Difference in RMSE (Decision Tree Regressor) of training and testing set is quite large.                                   \n",
    "Looks like Decision Tree Regressor is overfitting over training set"
   ]
  },
  {
   "cell_type": "code",
   "execution_count": 105,
   "metadata": {},
   "outputs": [
    {
     "name": "stdout",
     "output_type": "stream",
     "text": [
      "Results of predictions using Decision Tree Regression:\n",
      "MAE: 1.8167123287671232\n",
      "MSE: 5.502876712328767\n",
      "RMSE: 2.3458211168647893\n",
      "R-Squared: 0.349471315332225\n"
     ]
    }
   ],
   "source": [
    "mae = metrics.mean_absolute_error(final_labels , Nex_dtr_pred_test)\n",
    "mse = metrics.mean_squared_error(final_labels , Nex_dtr_pred_test)\n",
    "rmse = np.sqrt(mse) # or mse**(0.5)  \n",
    "r2 = metrics.r2_score(final_labels , Nex_dtr_pred_test)\n",
    "\n",
    "print(\"Results of predictions using Decision Tree Regression:\")\n",
    "print(\"MAE:\",mae)\n",
    "print(\"MSE:\", mse)\n",
    "print(\"RMSE:\", rmse)\n",
    "print(\"R-Squared:\", r2)"
   ]
  },
  {
   "cell_type": "code",
   "execution_count": 132,
   "metadata": {},
   "outputs": [],
   "source": [
    "dtr_pred = pd.DataFrame(Nex_dtr_pred_test)\n",
    "dtr_pred.to_csv(r'D:\\IITM\\Predictions\\dtr_predictions.csv')"
   ]
  },
  {
   "cell_type": "markdown",
   "metadata": {},
   "source": [
    "### MLP Regression using min, max and mean temperatures\n",
    "MLP is Multilayer Perceptron, a type of Neural Network "
   ]
  },
  {
   "cell_type": "code",
   "execution_count": 73,
   "metadata": {},
   "outputs": [
    {
     "name": "stderr",
     "output_type": "stream",
     "text": [
      "c:\\users\\narayan\\appdata\\local\\programs\\python\\python38\\lib\\site-packages\\sklearn\\utils\\validation.py:63: DataConversionWarning: A column-vector y was passed when a 1d array was expected. Please change the shape of y to (n_samples, ), for example using ravel().\n",
      "  return f(*args, **kwargs)\n"
     ]
    }
   ],
   "source": [
    "# importing MLPRegressor from sklearn\n",
    "from sklearn.neural_network import MLPRegressor\n",
    "Nex_mlp_reg = MLPRegressor(random_state=1, max_iter=500).fit(Nex_train, tmax_labels)"
   ]
  },
  {
   "cell_type": "code",
   "execution_count": 74,
   "metadata": {},
   "outputs": [],
   "source": [
    "Nex_mlp_pred_train = Nex_mlp_reg.predict(Nex_train)"
   ]
  },
  {
   "cell_type": "code",
   "execution_count": 75,
   "metadata": {},
   "outputs": [
    {
     "name": "stdout",
     "output_type": "stream",
     "text": [
      "RMSE for MLP Regressor over train set =  1.612582033615441\n"
     ]
    }
   ],
   "source": [
    "#calculating RMSE over test set for MLP Regressor\n",
    "Nex_mlp_mse_train = mean_squared_error(tmax_labels, Nex_mlp_pred_train)\n",
    "Nex_mlp_rmse_train = np.sqrt(Nex_mlp_mse_train)\n",
    "print(\"RMSE for MLP Regressor over train set = \",Nex_mlp_rmse_train)"
   ]
  },
  {
   "cell_type": "code",
   "execution_count": 76,
   "metadata": {},
   "outputs": [],
   "source": [
    "Nex_mlp_pred_test = Nex_mlp_reg.predict(Nex_dtr_test)"
   ]
  },
  {
   "cell_type": "code",
   "execution_count": 77,
   "metadata": {},
   "outputs": [
    {
     "name": "stdout",
     "output_type": "stream",
     "text": [
      "RMSE for MLP Regressor over test set = \n"
     ]
    },
    {
     "data": {
      "text/plain": [
       "1.689548276536455"
      ]
     },
     "execution_count": 77,
     "metadata": {},
     "output_type": "execute_result"
    }
   ],
   "source": [
    "#calculating RMSE over test set for Multi-Layer Perceptron\n",
    "Nex_mlp_mse_test = mean_squared_error(final_labels, Nex_mlp_pred_test)\n",
    "Nex_mlp_rmse_test = np.sqrt(Nex_mlp_mse_test)\n",
    "print(\"RMSE for MLP Regressor over test set = \")\n",
    "Nex_mlp_rmse_test"
   ]
  },
  {
   "cell_type": "code",
   "execution_count": 76,
   "metadata": {},
   "outputs": [],
   "source": [
    "Nex_linreg_pred = Nex_tmax_pred_test.rename(columns={\"0\":\"pred_tmax\"})"
   ]
  },
  {
   "cell_type": "code",
   "execution_count": 114,
   "metadata": {},
   "outputs": [],
   "source": [
    "linreg_pred = pd.concat([pune_tmax_test.reset_index(drop=True),Nex_linreg_pred.reset_index(drop=True)],axis=1)"
   ]
  },
  {
   "cell_type": "code",
   "execution_count": 115,
   "metadata": {},
   "outputs": [],
   "source": [
    "linreg_pred = linreg_pred.rename(columns={'0':'pred_tmax'})"
   ]
  },
  {
   "cell_type": "code",
   "execution_count": 116,
   "metadata": {},
   "outputs": [
    {
     "data": {
      "text/html": [
       "<div>\n",
       "<style scoped>\n",
       "    .dataframe tbody tr th:only-of-type {\n",
       "        vertical-align: middle;\n",
       "    }\n",
       "\n",
       "    .dataframe tbody tr th {\n",
       "        vertical-align: top;\n",
       "    }\n",
       "\n",
       "    .dataframe thead th {\n",
       "        text-align: right;\n",
       "    }\n",
       "</style>\n",
       "<table border=\"1\" class=\"dataframe\">\n",
       "  <thead>\n",
       "    <tr style=\"text-align: right;\">\n",
       "      <th></th>\n",
       "      <th>date</th>\n",
       "      <th>tmax</th>\n",
       "      <th>0</th>\n",
       "      <th>pred_tmax</th>\n",
       "    </tr>\n",
       "  </thead>\n",
       "  <tbody>\n",
       "    <tr>\n",
       "      <th>0</th>\n",
       "      <td>01-Jan-06</td>\n",
       "      <td>29.7</td>\n",
       "      <td>30.214335</td>\n",
       "      <td>30.214335</td>\n",
       "    </tr>\n",
       "    <tr>\n",
       "      <th>1</th>\n",
       "      <td>02-Jan-06</td>\n",
       "      <td>30.0</td>\n",
       "      <td>30.401570</td>\n",
       "      <td>30.401570</td>\n",
       "    </tr>\n",
       "    <tr>\n",
       "      <th>2</th>\n",
       "      <td>03-Jan-06</td>\n",
       "      <td>28.2</td>\n",
       "      <td>30.335495</td>\n",
       "      <td>30.335495</td>\n",
       "    </tr>\n",
       "    <tr>\n",
       "      <th>3</th>\n",
       "      <td>04-Jan-06</td>\n",
       "      <td>28.3</td>\n",
       "      <td>30.474507</td>\n",
       "      <td>30.474507</td>\n",
       "    </tr>\n",
       "    <tr>\n",
       "      <th>4</th>\n",
       "      <td>05-Jan-06</td>\n",
       "      <td>29.6</td>\n",
       "      <td>30.268000</td>\n",
       "      <td>30.268000</td>\n",
       "    </tr>\n",
       "  </tbody>\n",
       "</table>\n",
       "</div>"
      ],
      "text/plain": [
       "        date  tmax          0  pred_tmax\n",
       "0  01-Jan-06  29.7  30.214335  30.214335\n",
       "1  02-Jan-06  30.0  30.401570  30.401570\n",
       "2  03-Jan-06  28.2  30.335495  30.335495\n",
       "3  04-Jan-06  28.3  30.474507  30.474507\n",
       "4  05-Jan-06  29.6  30.268000  30.268000"
      ]
     },
     "execution_count": 116,
     "metadata": {},
     "output_type": "execute_result"
    }
   ],
   "source": [
    "linreg_pred.head()"
   ]
  },
  {
   "cell_type": "code",
   "execution_count": 106,
   "metadata": {},
   "outputs": [
    {
     "name": "stdout",
     "output_type": "stream",
     "text": [
      "Results of predictions using Multi-Layer Perceptron Regression:\n",
      "MAE: 1.310763536003698\n",
      "MSE: 2.854573378747305\n",
      "RMSE: 1.689548276536455\n",
      "R-Squared: 0.6625434363805194\n"
     ]
    }
   ],
   "source": [
    "mae = metrics.mean_absolute_error(final_labels , Nex_mlp_pred_test)\n",
    "mse = metrics.mean_squared_error(final_labels , Nex_mlp_pred_test)\n",
    "rmse = np.sqrt(mse) # or mse**(0.5)  \n",
    "r2 = metrics.r2_score(final_labels , Nex_mlp_pred_test)\n",
    "\n",
    "print(\"Results of predictions using Multi-Layer Perceptron Regression:\")\n",
    "print(\"MAE:\",mae)\n",
    "print(\"MSE:\", mse)\n",
    "print(\"RMSE:\", rmse)\n",
    "print(\"R-Squared:\", r2)"
   ]
  },
  {
   "cell_type": "code",
   "execution_count": 135,
   "metadata": {},
   "outputs": [],
   "source": [
    "mlp_pred = pd.DataFrame(Nex_mlp_pred_test)\n",
    "mlp_pred.to_csv(r'D:\\IITM\\Predictions\\mlp_preditions.csv')"
   ]
  },
  {
   "cell_type": "markdown",
   "metadata": {},
   "source": [
    "### Random Forest Regressor"
   ]
  },
  {
   "cell_type": "code",
   "execution_count": 80,
   "metadata": {},
   "outputs": [
    {
     "name": "stderr",
     "output_type": "stream",
     "text": [
      "C:\\Users\\Narayan\\AppData\\Local\\Temp/ipykernel_19732/1064165079.py:2: DataConversionWarning: A column-vector y was passed when a 1d array was expected. Please change the shape of y to (n_samples,), for example using ravel().\n",
      "  Nex_rfr_reg = RandomForestRegressor(n_estimators = 100, random_state=1, max_depth=3).fit(Nex_train, tmax_labels)\n"
     ]
    }
   ],
   "source": [
    "#importing and training random forest regressor and training\n",
    "from sklearn.ensemble import RandomForestRegressor\n",
    "Nex_rfr_reg = RandomForestRegressor(n_estimators = 100, random_state=1, max_depth=3).fit(Nex_train, tmax_labels)"
   ]
  },
  {
   "cell_type": "code",
   "execution_count": 81,
   "metadata": {},
   "outputs": [],
   "source": [
    "Nex_rfr_pred_train = Nex_rfr_reg.predict(Nex_train)"
   ]
  },
  {
   "cell_type": "code",
   "execution_count": 82,
   "metadata": {},
   "outputs": [
    {
     "name": "stdout",
     "output_type": "stream",
     "text": [
      "RMSE for MLP Regressor over train set =  1.6095626768381472\n"
     ]
    }
   ],
   "source": [
    "#calculating RMSE over test set for Decision tree Regressor\n",
    "Nex_rfr_mse_train = mean_squared_error(tmax_labels, Nex_rfr_pred_train)\n",
    "Nex_rfr_rmse_train = np.sqrt(Nex_rfr_mse_train)\n",
    "print(\"RMSE for Random Forest Regressor over train set = \",Nex_rfr_rmse_train)"
   ]
  },
  {
   "cell_type": "code",
   "execution_count": 83,
   "metadata": {},
   "outputs": [],
   "source": [
    "Nex_rfr_pred_test = Nex_mlp_reg.predict(Nex_dtr_test)"
   ]
  },
  {
   "cell_type": "code",
   "execution_count": 84,
   "metadata": {},
   "outputs": [
    {
     "name": "stdout",
     "output_type": "stream",
     "text": [
      "RMSE for MLP Regressor over test set = \n"
     ]
    },
    {
     "data": {
      "text/plain": [
       "1.689548276536455"
      ]
     },
     "execution_count": 84,
     "metadata": {},
     "output_type": "execute_result"
    }
   ],
   "source": [
    "#calculating RMSE over test set for Random Forest Regressor\n",
    "Nex_rfr_mse_test = mean_squared_error(final_labels, Nex_rfr_pred_test)\n",
    "Nex_rfr_rmse_test = np.sqrt(Nex_rfr_mse_test)\n",
    "print(\"RMSE for Random Forest Regressor over test set = \")\n",
    "Nex_rfr_rmse_test"
   ]
  },
  {
   "cell_type": "code",
   "execution_count": 107,
   "metadata": {},
   "outputs": [
    {
     "name": "stdout",
     "output_type": "stream",
     "text": [
      "Results of predictions using Random Forest Tree Regression:\n",
      "MAE: 1.310763536003698\n",
      "MSE: 2.854573378747305\n",
      "RMSE: 1.689548276536455\n",
      "R-Squared: 0.6625434363805194\n"
     ]
    }
   ],
   "source": [
    "mae = metrics.mean_absolute_error(final_labels , Nex_rfr_pred_test)\n",
    "mse = metrics.mean_squared_error(final_labels , Nex_rfr_pred_test)\n",
    "rmse = np.sqrt(mse) # or mse**(0.5)  \n",
    "r2 = metrics.r2_score(final_labels , Nex_rfr_pred_test)\n",
    "\n",
    "print(\"Results of predictions using Random Forest Tree Regression:\")\n",
    "print(\"MAE:\",mae)\n",
    "print(\"MSE:\", mse)\n",
    "print(\"RMSE:\", rmse)\n",
    "print(\"R-Squared:\", r2)"
   ]
  },
  {
   "cell_type": "code",
   "execution_count": 138,
   "metadata": {},
   "outputs": [],
   "source": [
    "rfr_pred = pd.DataFrame(Nex_rfr_pred_test)\n",
    "rfr_pred.to_csv(r'D:\\IITM\\Predictions\\rfr_preditions.csv')"
   ]
  },
  {
   "cell_type": "markdown",
   "metadata": {},
   "source": [
    "### Plots"
   ]
  },
  {
   "cell_type": "markdown",
   "metadata": {},
   "source": [
    "#### Plot of Linear Regression Predictions\n",
    "Comparing 'imd' and predictions made by Linear Regression. (On the test dataset)\n",
    "x-axis = 'date'                                                                                   \n",
    "y-axis = 'Maximum Temperatures'"
   ]
  },
  {
   "cell_type": "code",
   "execution_count": 117,
   "metadata": {},
   "outputs": [
    {
     "data": {
      "text/plain": [
       "<matplotlib.legend.Legend at 0x22924b8b0a0>"
      ]
     },
     "execution_count": 117,
     "metadata": {},
     "output_type": "execute_result"
    },
    {
     "data": {
      "image/png": "[encoded data removed]",
      "text/plain": [
       "<Figure size 432x288 with 1 Axes>"
      ]
     },
     "metadata": {
      "needs_background": "light"
     },
     "output_type": "display_data"
    }
   ],
   "source": [
    "plt.plot(linreg_pred['date'], linreg_pred['tmax'], label =\"imd\")\n",
    "plt.plot(linreg_pred['date'], linreg_pred['pred_tmax'], label =\" lin_reg predictions\")\n",
    "plt.legend()"
   ]
  },
  {
   "cell_type": "markdown",
   "metadata": {},
   "source": [
    "#### Plot of SVR\n",
    "Comparing 'imd' data and Support Vector Regressor predictions on test dataset."
   ]
  },
  {
   "cell_type": "code",
   "execution_count": 118,
   "metadata": {},
   "outputs": [
    {
     "data": {
      "text/plain": [
       "<matplotlib.legend.Legend at 0x22928852790>"
      ]
     },
     "execution_count": 118,
     "metadata": {},
     "output_type": "execute_result"
    },
    {
     "data": {
      "image/png": "[encoded data removed]",
      "text/plain": [
       "<Figure size 432x288 with 1 Axes>"
      ]
     },
     "metadata": {
      "needs_background": "light"
     },
     "output_type": "display_data"
    }
   ],
   "source": [
    "plt.plot(pune_tmax_test['date'], pune_tmax_test['tmax'], label =\"imd\")\n",
    "plt.plot(pune_tmax_test['date'], Nex_SVR_pred_test, label =\"SVR predictions\")\n",
    "plt.legend()"
   ]
  },
  {
   "cell_type": "markdown",
   "metadata": {},
   "source": [
    "#### Plot Multi-layer Perceptron \n",
    "Comparing 'imd' data and MLP Regression predictions "
   ]
  },
  {
   "cell_type": "code",
   "execution_count": 119,
   "metadata": {},
   "outputs": [
    {
     "data": {
      "text/plain": [
       "<matplotlib.legend.Legend at 0x2292de860d0>"
      ]
     },
     "execution_count": 119,
     "metadata": {},
     "output_type": "execute_result"
    },
    {
     "data": {
      "image/png": "[encoded data removed]",
      "text/plain": [
       "<Figure size 432x288 with 1 Axes>"
      ]
     },
     "metadata": {
      "needs_background": "light"
     },
     "output_type": "display_data"
    }
   ],
   "source": [
    "plt.plot(pune_tmax_test['date'], pune_tmax_test['tmax'], label =\"imd\")\n",
    "plt.plot(pune_tmax_test['date'], Nex_mlp_pred_test, label =\"MLP predictions\")\n",
    "plt.legend()"
   ]
  },
  {
   "cell_type": "markdown",
   "metadata": {},
   "source": [
    "#### Plot of Random Forest Regressor\n",
    "Comparing 'imd' data and Random Forest Regression predictions"
   ]
  },
  {
   "cell_type": "code",
   "execution_count": 85,
   "metadata": {},
   "outputs": [
    {
     "data": {
      "text/plain": [
       "<matplotlib.legend.Legend at 0x1ff1e54f100>"
      ]
     },
     "execution_count": 85,
     "metadata": {},
     "output_type": "execute_result"
    },
    {
     "data": {
      "image/png": "[encoded data removed]",
      "text/plain": [
       "<Figure size 432x288 with 1 Axes>"
      ]
     },
     "metadata": {
      "needs_background": "light"
     },
     "output_type": "display_data"
    }
   ],
   "source": [
    "plt.plot(pune_tmax_test['date'], pune_tmax_test['tmax'], label =\"imd\")\n",
    "plt.plot(pune_tmax_test['date'], Nex_rfr_pred_test, label =\"RFR predictions\")\n",
    "plt.legend()"
   ]
  },
  {
   "cell_type": "markdown",
   "metadata": {},
   "source": [
    "### Table of results"
   ]
  },
  {
   "cell_type": "markdown",
   "metadata": {},
   "source": [
    "|Model||RMSE over training set|\t|RMSE over test set||R^2 over test set|\n",
    "|----||----||----||----|\n",
    "|Linear Regression (one feature)||~1.737||~1.798|||\n",
    "|Linear Regression (three features)||~1.685||~1.747||0.640|\n",
    "|Support Vector Regressor||~1.584||~1.658||0.675|\n",
    "|MLP Regressor||~1.613||~1.690||0.663|\n",
    "|Decision Tree Regressor||~1.315E-16||~2.339||0.350|\n",
    "|Random Forest Regressor||~1.610||~1.690||0.663|"
   ]
  },
  {
   "cell_type": "code",
   "execution_count": null,
   "metadata": {},
   "outputs": [],
   "source": []
  }
 ],
 "metadata": {
  "kernelspec": {
   "display_name": "Python 3 (ipykernel)",
   "language": "python",
   "name": "python3"
  },
  "language_info": {
   "codemirror_mode": {
    "name": "ipython",
    "version": 3
   },
   "file_extension": ".py",
   "mimetype": "text/x-python",
   "name": "python",
   "nbconvert_exporter": "python",
   "pygments_lexer": "ipython3",
   "version": "3.8.4"
  },
  "toc": {
   "base_numbering": 1,
   "nav_menu": {
    "height": "277px",
    "width": "411px"
   },
   "number_sections": true,
   "sideBar": true,
   "skip_h1_title": false,
   "title_cell": "Table of Contents",
   "title_sidebar": "Contents",
   "toc_cell": false,
   "toc_position": {},
   "toc_section_display": true,
   "toc_window_display": true
  }
 },
 "nbformat": 4,
 "nbformat_minor": 4
}
