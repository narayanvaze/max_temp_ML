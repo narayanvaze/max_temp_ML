{
 "cells": [
  {
   "cell_type": "code",
   "execution_count": 1,
   "id": "724838b7",
   "metadata": {},
   "outputs": [],
   "source": [
    "import pandas as pd\n",
    "import matplotlib.pyplot as plt\n",
    "import numpy as np\n",
    "%matplotlib inline\n",
    "from sklearn.metrics import mean_squared_error\n",
    "from keras.models import Sequential\n",
    "from keras.layers import Dense\n",
    "from keras.layers import LSTM\n",
    "from keras.layers import Dropout\n",
    "pune_tmax_train = pd.read_csv(r'D:\\IITM\\converted_to_csv\\imd5p5_tmax_train_clean.csv')\n",
    "Nex_train = pd.read_csv(r'D:\\IITM\\prepared data\\Nex_train_ready.csv')\n",
    "\n",
    "pune_tmax_test = pd.read_csv(r'D:\\IITM\\converted_to_csv\\imd5p5_tmax_pune_test.csv')\n",
    "Nex_test = pd.read_csv(r'D:\\IITM\\prepared data\\Nex_test_ready.csv')\n",
    "\n",
    "#using pune tmax values as labels \n",
    "tmax_labels = pd.DataFrame(pune_tmax_train,columns=[\"tmax\"])\n",
    "tmax_labels.head() # .head() function gives out first 5 rows of the datset \n",
    "nex_pr_train = pd.read_csv(r'D:\\IITM\\converted_to_csv\\nex25_pr_train.csv')\n",
    "nex_pr_test = pd.read_csv(r'D:\\IITM\\converted_to_csv\\nex25_pr_test.csv')\n",
    "Nex_train_final = pd.concat([Nex_train.reset_index(drop=True), nex_pr_train[\"precipitation\"].reset_index(drop=True)],axis=1) \n",
    "Nex_test_final = pd.concat([Nex_test.reset_index(drop=True), nex_pr_test[\"precipitation\"].reset_index(drop=True)],axis=1)\n",
    "test_labels = pd.DataFrame(pune_tmax_test,columns=[\"tmax\"])\n",
    "test_labels.head()\n",
    "nex_test_raw = pd.read_csv(r'D:\\IITM\\converted_to_csv\\nex25_tmax_pune_test.csv')\n",
    "nex_tmax = pd.DataFrame(nex_test_raw[\"nex_tmax\"], columns=['nex_tmax'])"
   ]
  },
  {
   "cell_type": "code",
   "execution_count": 2,
   "id": "c4817df7",
   "metadata": {},
   "outputs": [],
   "source": [
    "from sklearn.preprocessing import StandardScaler\n",
    "sc_X = StandardScaler()\n",
    "sc_y = StandardScaler()\n",
    "X_train = sc_X.fit_transform(Nex_train_final)\n",
    "Y_train = sc_y.fit_transform(tmax_labels)\n",
    "X_test = sc_X.fit_transform(Nex_test_final)\n",
    "Y_test = sc_y.fit_transform(test_labels)"
   ]
  },
  {
   "cell_type": "code",
   "execution_count": null,
   "id": "39f6b9a2",
   "metadata": {},
   "outputs": [],
   "source": []
  },
  {
   "cell_type": "code",
   "execution_count": 3,
   "id": "19a99c33",
   "metadata": {},
   "outputs": [
    {
     "name": "stdout",
     "output_type": "stream",
     "text": [
      "(10950, 4, 1)\n"
     ]
    }
   ],
   "source": [
    "x_train = X_train.reshape(X_train.shape[0], X_train.shape[1], 1)\n",
    "print(x_train.shape)"
   ]
  },
  {
   "cell_type": "code",
   "execution_count": 4,
   "id": "669b9228",
   "metadata": {},
   "outputs": [
    {
     "name": "stdout",
     "output_type": "stream",
     "text": [
      "(3650, 4, 1)\n"
     ]
    }
   ],
   "source": [
    "x_test = X_test.reshape(X_test.shape[0], X_test.shape[1], 1)\n",
    "print(x_test.shape)"
   ]
  },
  {
   "cell_type": "code",
   "execution_count": 6,
   "id": "31b5127b",
   "metadata": {},
   "outputs": [],
   "source": [
    "from keras.layers import Flatten\n",
    "regressor = Sequential()\n",
    "regressor.add(Flatten())\n",
    "regressor.add(Dense(units=1))"
   ]
  },
  {
   "cell_type": "code",
   "execution_count": 7,
   "id": "063f347a",
   "metadata": {},
   "outputs": [],
   "source": [
    "regressor.compile(optimizer='adam', loss='mean_squared_error')"
   ]
  },
  {
   "cell_type": "code",
   "execution_count": 8,
   "id": "ea192b94",
   "metadata": {},
   "outputs": [
    {
     "name": "stdout",
     "output_type": "stream",
     "text": [
      "Epoch 1/100\n",
      "343/343 [==============================] - 15s 586us/step - loss: 1.3990\n",
      "Epoch 2/100\n",
      "343/343 [==============================] - 0s 605us/step - loss: 0.6822\n",
      "Epoch 3/100\n",
      "343/343 [==============================] - 0s 550us/step - loss: 0.4499\n",
      "Epoch 4/100\n",
      "343/343 [==============================] - 0s 555us/step - loss: 0.3871\n",
      "Epoch 5/100\n",
      "343/343 [==============================] - 0s 520us/step - loss: 0.3632\n",
      "Epoch 6/100\n",
      "343/343 [==============================] - 0s 558us/step - loss: 0.3608\n",
      "Epoch 7/100\n",
      "343/343 [==============================] - 0s 564us/step - loss: 0.3626\n",
      "Epoch 8/100\n",
      "343/343 [==============================] - 0s 531us/step - loss: 0.3589\n",
      "Epoch 9/100\n",
      "343/343 [==============================] - 0s 623us/step - loss: 0.3711\n",
      "Epoch 10/100\n",
      "343/343 [==============================] - 0s 561us/step - loss: 0.3510\n",
      "Epoch 11/100\n",
      "343/343 [==============================] - 0s 488us/step - loss: 0.3685\n",
      "Epoch 12/100\n",
      "343/343 [==============================] - 0s 486us/step - loss: 0.3557\n",
      "Epoch 13/100\n",
      "343/343 [==============================] - 0s 582us/step - loss: 0.3547\n",
      "Epoch 14/100\n",
      "343/343 [==============================] - 0s 612us/step - loss: 0.3615\n",
      "Epoch 15/100\n",
      "343/343 [==============================] - 0s 568us/step - loss: 0.3625\n",
      "Epoch 16/100\n",
      "343/343 [==============================] - 0s 574us/step - loss: 0.3578\n",
      "Epoch 17/100\n",
      "343/343 [==============================] - 0s 652us/step - loss: 0.3538\n",
      "Epoch 18/100\n",
      "343/343 [==============================] - 0s 587us/step - loss: 0.3578\n",
      "Epoch 19/100\n",
      "343/343 [==============================] - 0s 575us/step - loss: 0.3659\n",
      "Epoch 20/100\n",
      "343/343 [==============================] - 0s 706us/step - loss: 0.3721\n",
      "Epoch 21/100\n",
      "343/343 [==============================] - 0s 517us/step - loss: 0.3520\n",
      "Epoch 22/100\n",
      "343/343 [==============================] - 0s 564us/step - loss: 0.3541\n",
      "Epoch 23/100\n",
      "343/343 [==============================] - 0s 526us/step - loss: 0.3571\n",
      "Epoch 24/100\n",
      "343/343 [==============================] - 0s 556us/step - loss: 0.3601\n",
      "Epoch 25/100\n",
      "343/343 [==============================] - 0s 536us/step - loss: 0.3611\n",
      "Epoch 26/100\n",
      "343/343 [==============================] - 0s 547us/step - loss: 0.3613\n",
      "Epoch 27/100\n",
      "343/343 [==============================] - 0s 565us/step - loss: 0.3622\n",
      "Epoch 28/100\n",
      "343/343 [==============================] - 0s 525us/step - loss: 0.3555\n",
      "Epoch 29/100\n",
      "343/343 [==============================] - 0s 494us/step - loss: 0.3595\n",
      "Epoch 30/100\n",
      "343/343 [==============================] - 0s 546us/step - loss: 0.3660\n",
      "Epoch 31/100\n",
      "343/343 [==============================] - 0s 527us/step - loss: 0.3617\n",
      "Epoch 32/100\n",
      "343/343 [==============================] - 0s 593us/step - loss: 0.3612\n",
      "Epoch 33/100\n",
      "343/343 [==============================] - 0s 573us/step - loss: 0.3608\n",
      "Epoch 34/100\n",
      "343/343 [==============================] - 0s 557us/step - loss: 0.3654\n",
      "Epoch 35/100\n",
      "343/343 [==============================] - 0s 574us/step - loss: 0.3568\n",
      "Epoch 36/100\n",
      "343/343 [==============================] - 0s 539us/step - loss: 0.3547\n",
      "Epoch 37/100\n",
      "343/343 [==============================] - 0s 561us/step - loss: 0.3611\n",
      "Epoch 38/100\n",
      "343/343 [==============================] - 0s 629us/step - loss: 0.3588\n",
      "Epoch 39/100\n",
      "343/343 [==============================] - 0s 587us/step - loss: 0.3538\n",
      "Epoch 40/100\n",
      "343/343 [==============================] - 0s 544us/step - loss: 0.3529\n",
      "Epoch 41/100\n",
      "343/343 [==============================] - 0s 518us/step - loss: 0.3622\n",
      "Epoch 42/100\n",
      "343/343 [==============================] - 0s 553us/step - loss: 0.3513\n",
      "Epoch 43/100\n",
      "343/343 [==============================] - 0s 553us/step - loss: 0.3588\n",
      "Epoch 44/100\n",
      "343/343 [==============================] - 0s 598us/step - loss: 0.3497\n",
      "Epoch 45/100\n",
      "343/343 [==============================] - 0s 597us/step - loss: 0.3642\n",
      "Epoch 46/100\n",
      "343/343 [==============================] - 0s 595us/step - loss: 0.3671\n",
      "Epoch 47/100\n",
      "343/343 [==============================] - 0s 645us/step - loss: 0.3630\n",
      "Epoch 48/100\n",
      "343/343 [==============================] - 0s 528us/step - loss: 0.3649\n",
      "Epoch 49/100\n",
      "343/343 [==============================] - 0s 545us/step - loss: 0.3589\n",
      "Epoch 50/100\n",
      "343/343 [==============================] - 0s 536us/step - loss: 0.3686\n",
      "Epoch 51/100\n",
      "343/343 [==============================] - 0s 513us/step - loss: 0.3627\n",
      "Epoch 52/100\n",
      "343/343 [==============================] - 0s 623us/step - loss: 0.3673\n",
      "Epoch 53/100\n",
      "343/343 [==============================] - 0s 538us/step - loss: 0.3652\n",
      "Epoch 54/100\n",
      "343/343 [==============================] - 0s 594us/step - loss: 0.3642\n",
      "Epoch 55/100\n",
      "343/343 [==============================] - 0s 541us/step - loss: 0.3597\n",
      "Epoch 56/100\n",
      "343/343 [==============================] - 0s 555us/step - loss: 0.3579\n",
      "Epoch 57/100\n",
      "343/343 [==============================] - 0s 560us/step - loss: 0.3558\n",
      "Epoch 58/100\n",
      "343/343 [==============================] - 0s 590us/step - loss: 0.3517\n",
      "Epoch 59/100\n",
      "343/343 [==============================] - 0s 542us/step - loss: 0.3604\n",
      "Epoch 60/100\n",
      "343/343 [==============================] - 0s 567us/step - loss: 0.3536\n",
      "Epoch 61/100\n",
      "343/343 [==============================] - 0s 575us/step - loss: 0.3676\n",
      "Epoch 62/100\n",
      "343/343 [==============================] - 0s 550us/step - loss: 0.3632\n",
      "Epoch 63/100\n",
      "343/343 [==============================] - 0s 595us/step - loss: 0.3723\n",
      "Epoch 64/100\n",
      "343/343 [==============================] - 0s 570us/step - loss: 0.3527\n",
      "Epoch 65/100\n",
      "343/343 [==============================] - 0s 665us/step - loss: 0.3602\n",
      "Epoch 66/100\n",
      "343/343 [==============================] - 0s 591us/step - loss: 0.3642\n",
      "Epoch 67/100\n",
      "343/343 [==============================] - 0s 584us/step - loss: 0.3630\n",
      "Epoch 68/100\n",
      "343/343 [==============================] - 0s 563us/step - loss: 0.3624\n",
      "Epoch 69/100\n",
      "343/343 [==============================] - 0s 563us/step - loss: 0.3545\n",
      "Epoch 70/100\n",
      "343/343 [==============================] - 0s 567us/step - loss: 0.3546\n",
      "Epoch 71/100\n",
      "343/343 [==============================] - 0s 588us/step - loss: 0.3676\n",
      "Epoch 72/100\n",
      "343/343 [==============================] - 0s 548us/step - loss: 0.3650\n",
      "Epoch 73/100\n",
      "343/343 [==============================] - 0s 607us/step - loss: 0.3608\n",
      "Epoch 74/100\n",
      "343/343 [==============================] - 0s 565us/step - loss: 0.3747\n",
      "Epoch 75/100\n",
      "343/343 [==============================] - 0s 579us/step - loss: 0.3556\n",
      "Epoch 76/100\n",
      "343/343 [==============================] - 0s 564us/step - loss: 0.3533\n",
      "Epoch 77/100\n",
      "343/343 [==============================] - 0s 587us/step - loss: 0.3647\n",
      "Epoch 78/100\n",
      "343/343 [==============================] - 0s 527us/step - loss: 0.3682\n",
      "Epoch 79/100\n",
      "343/343 [==============================] - 0s 523us/step - loss: 0.3556\n",
      "Epoch 80/100\n",
      "343/343 [==============================] - 0s 544us/step - loss: 0.3560\n",
      "Epoch 81/100\n",
      "343/343 [==============================] - 0s 574us/step - loss: 0.3684\n",
      "Epoch 82/100\n",
      "343/343 [==============================] - 0s 558us/step - loss: 0.3549\n",
      "Epoch 83/100\n",
      "343/343 [==============================] - 0s 573us/step - loss: 0.3623\n",
      "Epoch 84/100\n",
      "343/343 [==============================] - 0s 568us/step - loss: 0.3648\n",
      "Epoch 85/100\n",
      "343/343 [==============================] - 0s 567us/step - loss: 0.3534\n",
      "Epoch 86/100\n",
      "343/343 [==============================] - 0s 554us/step - loss: 0.3562\n",
      "Epoch 87/100\n",
      "343/343 [==============================] - 0s 579us/step - loss: 0.3569\n",
      "Epoch 88/100\n",
      "343/343 [==============================] - 0s 549us/step - loss: 0.3612\n",
      "Epoch 89/100\n",
      "343/343 [==============================] - 0s 594us/step - loss: 0.3628\n",
      "Epoch 90/100\n",
      "343/343 [==============================] - 0s 516us/step - loss: 0.3593\n",
      "Epoch 91/100\n",
      "343/343 [==============================] - 0s 626us/step - loss: 0.3640\n",
      "Epoch 92/100\n",
      "343/343 [==============================] - 0s 576us/step - loss: 0.3547\n",
      "Epoch 93/100\n",
      "343/343 [==============================] - 0s 488us/step - loss: 0.3677\n",
      "Epoch 94/100\n",
      "343/343 [==============================] - 0s 525us/step - loss: 0.3703\n",
      "Epoch 95/100\n",
      "343/343 [==============================] - 0s 627us/step - loss: 0.3608\n",
      "Epoch 96/100\n",
      "343/343 [==============================] - 0s 569us/step - loss: 0.3599\n",
      "Epoch 97/100\n"
     ]
    },
    {
     "name": "stdout",
     "output_type": "stream",
     "text": [
      "343/343 [==============================] - 0s 543us/step - loss: 0.3525\n",
      "Epoch 98/100\n",
      "343/343 [==============================] - 0s 537us/step - loss: 0.3675\n",
      "Epoch 99/100\n",
      "343/343 [==============================] - 0s 493us/step - loss: 0.3672\n",
      "Epoch 100/100\n",
      "343/343 [==============================] - 0s 531us/step - loss: 0.3610\n"
     ]
    },
    {
     "data": {
      "text/plain": [
       "<keras.callbacks.History at 0x1d5a795fdf0>"
      ]
     },
     "execution_count": 8,
     "metadata": {},
     "output_type": "execute_result"
    }
   ],
   "source": [
    "regressor.fit(x_train, Y_train, epochs=100, batch_size=32)"
   ]
  },
  {
   "cell_type": "code",
   "execution_count": 9,
   "id": "cde6872f",
   "metadata": {},
   "outputs": [],
   "source": [
    "y_test_pred_0 = regressor.predict(x_test)"
   ]
  },
  {
   "cell_type": "code",
   "execution_count": 10,
   "id": "1c0fe636",
   "metadata": {},
   "outputs": [],
   "source": [
    "cnn_test_pred_0 = sc_y.inverse_transform(y_test_pred_0)"
   ]
  },
  {
   "cell_type": "code",
   "execution_count": 12,
   "id": "8dacd9f5",
   "metadata": {},
   "outputs": [
    {
     "name": "stdout",
     "output_type": "stream",
     "text": [
      "RMSE for Support Vector Regression over test set = \n"
     ]
    },
    {
     "data": {
      "text/plain": [
       "1.7371430856093764"
      ]
     },
     "execution_count": 12,
     "metadata": {},
     "output_type": "execute_result"
    }
   ],
   "source": [
    "#calculating RMSE over train set for SVR\n",
    "from sklearn.metrics import mean_squared_error\n",
    "cnn_mse_test = mean_squared_error(test_labels, cnn_test_pred_0)\n",
    "cnn_rmse_test_0 = np.sqrt(cnn_mse_test)\n",
    "print(\"RMSE for Support Vector Regression over test set = \")\n",
    "cnn_rmse_test_0"
   ]
  },
  {
   "cell_type": "code",
   "execution_count": 35,
   "id": "e81b76ee",
   "metadata": {},
   "outputs": [
    {
     "ename": "TypeError",
     "evalue": "add() got an unexpected keyword argument 'input_shape'",
     "output_type": "error",
     "traceback": [
      "\u001b[1;31m---------------------------------------------------------------------------\u001b[0m",
      "\u001b[1;31mTypeError\u001b[0m                                 Traceback (most recent call last)",
      "\u001b[1;32m~\\AppData\\Local\\Temp/ipykernel_3116/1545269502.py\u001b[0m in \u001b[0;36m<module>\u001b[1;34m\u001b[0m\n\u001b[0;32m      1\u001b[0m \u001b[1;32mfrom\u001b[0m \u001b[0mkeras\u001b[0m\u001b[1;33m.\u001b[0m\u001b[0mlayers\u001b[0m \u001b[1;32mimport\u001b[0m \u001b[0mConv3D\u001b[0m\u001b[1;33m\u001b[0m\u001b[1;33m\u001b[0m\u001b[0m\n\u001b[0;32m      2\u001b[0m \u001b[0mmodel\u001b[0m \u001b[1;33m=\u001b[0m \u001b[0mSequential\u001b[0m\u001b[1;33m(\u001b[0m\u001b[1;33m)\u001b[0m\u001b[1;33m\u001b[0m\u001b[1;33m\u001b[0m\u001b[0m\n\u001b[1;32m----> 3\u001b[1;33m \u001b[0mmodel\u001b[0m\u001b[1;33m.\u001b[0m\u001b[0madd\u001b[0m\u001b[1;33m(\u001b[0m\u001b[0mConv3D\u001b[0m\u001b[1;33m(\u001b[0m\u001b[0mfilters\u001b[0m\u001b[1;33m=\u001b[0m\u001b[1;36m256\u001b[0m\u001b[1;33m,\u001b[0m \u001b[0mkernel_size\u001b[0m \u001b[1;33m=\u001b[0m \u001b[1;36m5\u001b[0m\u001b[1;33m,\u001b[0m \u001b[0mactivation\u001b[0m\u001b[1;33m=\u001b[0m\u001b[1;34m'relu'\u001b[0m\u001b[1;33m)\u001b[0m\u001b[1;33m,\u001b[0m\u001b[0minput_shape\u001b[0m\u001b[1;33m=\u001b[0m\u001b[1;33m(\u001b[0m\u001b[0mx_train\u001b[0m\u001b[1;33m.\u001b[0m\u001b[0mshape\u001b[0m\u001b[1;33m[\u001b[0m\u001b[1;36m1\u001b[0m\u001b[1;33m]\u001b[0m\u001b[1;33m,\u001b[0m\u001b[1;36m1\u001b[0m\u001b[1;33m)\u001b[0m\u001b[1;33m)\u001b[0m\u001b[1;33m\u001b[0m\u001b[1;33m\u001b[0m\u001b[0m\n\u001b[0m\u001b[0;32m      4\u001b[0m \u001b[0mmodel\u001b[0m\u001b[1;33m.\u001b[0m\u001b[0madd\u001b[0m\u001b[1;33m(\u001b[0m\u001b[0mDense\u001b[0m\u001b[1;33m(\u001b[0m\u001b[1;36m64\u001b[0m\u001b[1;33m)\u001b[0m\u001b[1;33m)\u001b[0m\u001b[1;33m\u001b[0m\u001b[1;33m\u001b[0m\u001b[0m\n\u001b[0;32m      5\u001b[0m \u001b[0mmodel\u001b[0m\u001b[1;33m.\u001b[0m\u001b[0madd\u001b[0m\u001b[1;33m(\u001b[0m\u001b[0mDropout\u001b[0m\u001b[1;33m(\u001b[0m\u001b[1;36m0.2\u001b[0m\u001b[1;33m)\u001b[0m\u001b[1;33m)\u001b[0m\u001b[1;33m\u001b[0m\u001b[1;33m\u001b[0m\u001b[0m\n",
      "\u001b[1;32mc:\\users\\narayan\\appdata\\local\\programs\\python\\python38\\lib\\site-packages\\tensorflow\\python\\training\\tracking\\base.py\u001b[0m in \u001b[0;36m_method_wrapper\u001b[1;34m(self, *args, **kwargs)\u001b[0m\n\u001b[0;32m    520\u001b[0m     \u001b[0mself\u001b[0m\u001b[1;33m.\u001b[0m\u001b[0m_self_setattr_tracking\u001b[0m \u001b[1;33m=\u001b[0m \u001b[1;32mFalse\u001b[0m  \u001b[1;31m# pylint: disable=protected-access\u001b[0m\u001b[1;33m\u001b[0m\u001b[1;33m\u001b[0m\u001b[0m\n\u001b[0;32m    521\u001b[0m     \u001b[1;32mtry\u001b[0m\u001b[1;33m:\u001b[0m\u001b[1;33m\u001b[0m\u001b[1;33m\u001b[0m\u001b[0m\n\u001b[1;32m--> 522\u001b[1;33m       \u001b[0mresult\u001b[0m \u001b[1;33m=\u001b[0m \u001b[0mmethod\u001b[0m\u001b[1;33m(\u001b[0m\u001b[0mself\u001b[0m\u001b[1;33m,\u001b[0m \u001b[1;33m*\u001b[0m\u001b[0margs\u001b[0m\u001b[1;33m,\u001b[0m \u001b[1;33m**\u001b[0m\u001b[0mkwargs\u001b[0m\u001b[1;33m)\u001b[0m\u001b[1;33m\u001b[0m\u001b[1;33m\u001b[0m\u001b[0m\n\u001b[0m\u001b[0;32m    523\u001b[0m     \u001b[1;32mfinally\u001b[0m\u001b[1;33m:\u001b[0m\u001b[1;33m\u001b[0m\u001b[1;33m\u001b[0m\u001b[0m\n\u001b[0;32m    524\u001b[0m       \u001b[0mself\u001b[0m\u001b[1;33m.\u001b[0m\u001b[0m_self_setattr_tracking\u001b[0m \u001b[1;33m=\u001b[0m \u001b[0mprevious_value\u001b[0m  \u001b[1;31m# pylint: disable=protected-access\u001b[0m\u001b[1;33m\u001b[0m\u001b[1;33m\u001b[0m\u001b[0m\n",
      "\u001b[1;31mTypeError\u001b[0m: add() got an unexpected keyword argument 'input_shape'"
     ]
    }
   ],
   "source": [
    "from keras.layers import Conv3D\n",
    "model = Sequential()\n",
    "model.add(Conv3D(filters=256, kernel_size = 5, activation='relu',input_shape=(x_train.shape[1],1))\n",
    "model.add(Dense(64))\n",
    "model.add(Dropout(0.2))\n",
    "model.add(Conv3D(filters=256,kernel_size = 5, activation='relu',input_shape=(x_train.shape[1],1))\n",
    "model.add(Dense(32))\n",
    "model.add(Dropout(0.2))"
   ]
  },
  {
   "cell_type": "code",
   "execution_count": 33,
   "id": "cd3ebc8f",
   "metadata": {},
   "outputs": [],
   "source": [
    "model.add(Flatten())\n",
    "model.add(Dense(units=1))\n",
    "model.compile(optimizer='adam', loss='mean_squared_error')"
   ]
  },
  {
   "cell_type": "code",
   "execution_count": 34,
   "id": "256b4f11",
   "metadata": {},
   "outputs": [
    {
     "name": "stdout",
     "output_type": "stream",
     "text": [
      "Epoch 1/100\n"
     ]
    },
    {
     "ename": "ValueError",
     "evalue": "in user code:\n\n    c:\\users\\narayan\\appdata\\local\\programs\\python\\python38\\lib\\site-packages\\keras\\engine\\training.py:830 train_function  *\n        return step_function(self, iterator)\n    c:\\users\\narayan\\appdata\\local\\programs\\python\\python38\\lib\\site-packages\\keras\\engine\\training.py:813 run_step  *\n        outputs = model.train_step(data)\n    c:\\users\\narayan\\appdata\\local\\programs\\python\\python38\\lib\\site-packages\\keras\\engine\\training.py:770 train_step  *\n        y_pred = self(x, training=True)\n    c:\\users\\narayan\\appdata\\local\\programs\\python\\python38\\lib\\site-packages\\keras\\engine\\base_layer.py:989 __call__  *\n        input_spec.assert_input_compatibility(self.input_spec, inputs, self.name)\n    c:\\users\\narayan\\appdata\\local\\programs\\python\\python38\\lib\\site-packages\\keras\\engine\\input_spec.py:227 assert_input_compatibility  *\n        raise ValueError('Input ' + str(input_index) + ' of layer ' +\n\n    ValueError: Input 0 of layer sequential_8 is incompatible with the layer: : expected min_ndim=5, found ndim=3. Full shape received: (None, 4, 1)\n",
     "output_type": "error",
     "traceback": [
      "\u001b[1;31m---------------------------------------------------------------------------\u001b[0m",
      "\u001b[1;31mValueError\u001b[0m                                Traceback (most recent call last)",
      "\u001b[1;32m~\\AppData\\Local\\Temp/ipykernel_3116/2315795860.py\u001b[0m in \u001b[0;36m<module>\u001b[1;34m\u001b[0m\n\u001b[1;32m----> 1\u001b[1;33m \u001b[0mmodel\u001b[0m\u001b[1;33m.\u001b[0m\u001b[0mfit\u001b[0m\u001b[1;33m(\u001b[0m\u001b[0mx_train\u001b[0m\u001b[1;33m,\u001b[0m \u001b[0mY_train\u001b[0m\u001b[1;33m,\u001b[0m \u001b[0mepochs\u001b[0m\u001b[1;33m=\u001b[0m\u001b[1;36m100\u001b[0m\u001b[1;33m,\u001b[0m \u001b[0mbatch_size\u001b[0m\u001b[1;33m=\u001b[0m\u001b[1;36m32\u001b[0m\u001b[1;33m)\u001b[0m\u001b[1;33m\u001b[0m\u001b[1;33m\u001b[0m\u001b[0m\n\u001b[0m",
      "\u001b[1;32mc:\\users\\narayan\\appdata\\local\\programs\\python\\python38\\lib\\site-packages\\keras\\engine\\training.py\u001b[0m in \u001b[0;36mfit\u001b[1;34m(self, x, y, batch_size, epochs, verbose, callbacks, validation_split, validation_data, shuffle, class_weight, sample_weight, initial_epoch, steps_per_epoch, validation_steps, validation_batch_size, validation_freq, max_queue_size, workers, use_multiprocessing)\u001b[0m\n\u001b[0;32m   1156\u001b[0m                 _r=1):\n\u001b[0;32m   1157\u001b[0m               \u001b[0mcallbacks\u001b[0m\u001b[1;33m.\u001b[0m\u001b[0mon_train_batch_begin\u001b[0m\u001b[1;33m(\u001b[0m\u001b[0mstep\u001b[0m\u001b[1;33m)\u001b[0m\u001b[1;33m\u001b[0m\u001b[1;33m\u001b[0m\u001b[0m\n\u001b[1;32m-> 1158\u001b[1;33m               \u001b[0mtmp_logs\u001b[0m \u001b[1;33m=\u001b[0m \u001b[0mself\u001b[0m\u001b[1;33m.\u001b[0m\u001b[0mtrain_function\u001b[0m\u001b[1;33m(\u001b[0m\u001b[0miterator\u001b[0m\u001b[1;33m)\u001b[0m\u001b[1;33m\u001b[0m\u001b[1;33m\u001b[0m\u001b[0m\n\u001b[0m\u001b[0;32m   1159\u001b[0m               \u001b[1;32mif\u001b[0m \u001b[0mdata_handler\u001b[0m\u001b[1;33m.\u001b[0m\u001b[0mshould_sync\u001b[0m\u001b[1;33m:\u001b[0m\u001b[1;33m\u001b[0m\u001b[1;33m\u001b[0m\u001b[0m\n\u001b[0;32m   1160\u001b[0m                 \u001b[0mcontext\u001b[0m\u001b[1;33m.\u001b[0m\u001b[0masync_wait\u001b[0m\u001b[1;33m(\u001b[0m\u001b[1;33m)\u001b[0m\u001b[1;33m\u001b[0m\u001b[1;33m\u001b[0m\u001b[0m\n",
      "\u001b[1;32mc:\\users\\narayan\\appdata\\local\\programs\\python\\python38\\lib\\site-packages\\tensorflow\\python\\eager\\def_function.py\u001b[0m in \u001b[0;36m__call__\u001b[1;34m(self, *args, **kwds)\u001b[0m\n\u001b[0;32m    887\u001b[0m \u001b[1;33m\u001b[0m\u001b[0m\n\u001b[0;32m    888\u001b[0m       \u001b[1;32mwith\u001b[0m \u001b[0mOptionalXlaContext\u001b[0m\u001b[1;33m(\u001b[0m\u001b[0mself\u001b[0m\u001b[1;33m.\u001b[0m\u001b[0m_jit_compile\u001b[0m\u001b[1;33m)\u001b[0m\u001b[1;33m:\u001b[0m\u001b[1;33m\u001b[0m\u001b[1;33m\u001b[0m\u001b[0m\n\u001b[1;32m--> 889\u001b[1;33m         \u001b[0mresult\u001b[0m \u001b[1;33m=\u001b[0m \u001b[0mself\u001b[0m\u001b[1;33m.\u001b[0m\u001b[0m_call\u001b[0m\u001b[1;33m(\u001b[0m\u001b[1;33m*\u001b[0m\u001b[0margs\u001b[0m\u001b[1;33m,\u001b[0m \u001b[1;33m**\u001b[0m\u001b[0mkwds\u001b[0m\u001b[1;33m)\u001b[0m\u001b[1;33m\u001b[0m\u001b[1;33m\u001b[0m\u001b[0m\n\u001b[0m\u001b[0;32m    890\u001b[0m \u001b[1;33m\u001b[0m\u001b[0m\n\u001b[0;32m    891\u001b[0m       \u001b[0mnew_tracing_count\u001b[0m \u001b[1;33m=\u001b[0m \u001b[0mself\u001b[0m\u001b[1;33m.\u001b[0m\u001b[0mexperimental_get_tracing_count\u001b[0m\u001b[1;33m(\u001b[0m\u001b[1;33m)\u001b[0m\u001b[1;33m\u001b[0m\u001b[1;33m\u001b[0m\u001b[0m\n",
      "\u001b[1;32mc:\\users\\narayan\\appdata\\local\\programs\\python\\python38\\lib\\site-packages\\tensorflow\\python\\eager\\def_function.py\u001b[0m in \u001b[0;36m_call\u001b[1;34m(self, *args, **kwds)\u001b[0m\n\u001b[0;32m    931\u001b[0m       \u001b[1;31m# This is the first call of __call__, so we have to initialize.\u001b[0m\u001b[1;33m\u001b[0m\u001b[1;33m\u001b[0m\u001b[1;33m\u001b[0m\u001b[0m\n\u001b[0;32m    932\u001b[0m       \u001b[0minitializers\u001b[0m \u001b[1;33m=\u001b[0m \u001b[1;33m[\u001b[0m\u001b[1;33m]\u001b[0m\u001b[1;33m\u001b[0m\u001b[1;33m\u001b[0m\u001b[0m\n\u001b[1;32m--> 933\u001b[1;33m       \u001b[0mself\u001b[0m\u001b[1;33m.\u001b[0m\u001b[0m_initialize\u001b[0m\u001b[1;33m(\u001b[0m\u001b[0margs\u001b[0m\u001b[1;33m,\u001b[0m \u001b[0mkwds\u001b[0m\u001b[1;33m,\u001b[0m \u001b[0madd_initializers_to\u001b[0m\u001b[1;33m=\u001b[0m\u001b[0minitializers\u001b[0m\u001b[1;33m)\u001b[0m\u001b[1;33m\u001b[0m\u001b[1;33m\u001b[0m\u001b[0m\n\u001b[0m\u001b[0;32m    934\u001b[0m     \u001b[1;32mfinally\u001b[0m\u001b[1;33m:\u001b[0m\u001b[1;33m\u001b[0m\u001b[1;33m\u001b[0m\u001b[0m\n\u001b[0;32m    935\u001b[0m       \u001b[1;31m# At this point we know that the initialization is complete (or less\u001b[0m\u001b[1;33m\u001b[0m\u001b[1;33m\u001b[0m\u001b[1;33m\u001b[0m\u001b[0m\n",
      "\u001b[1;32mc:\\users\\narayan\\appdata\\local\\programs\\python\\python38\\lib\\site-packages\\tensorflow\\python\\eager\\def_function.py\u001b[0m in \u001b[0;36m_initialize\u001b[1;34m(self, args, kwds, add_initializers_to)\u001b[0m\n\u001b[0;32m    761\u001b[0m     \u001b[0mself\u001b[0m\u001b[1;33m.\u001b[0m\u001b[0m_graph_deleter\u001b[0m \u001b[1;33m=\u001b[0m \u001b[0mFunctionDeleter\u001b[0m\u001b[1;33m(\u001b[0m\u001b[0mself\u001b[0m\u001b[1;33m.\u001b[0m\u001b[0m_lifted_initializer_graph\u001b[0m\u001b[1;33m)\u001b[0m\u001b[1;33m\u001b[0m\u001b[1;33m\u001b[0m\u001b[0m\n\u001b[0;32m    762\u001b[0m     self._concrete_stateful_fn = (\n\u001b[1;32m--> 763\u001b[1;33m         self._stateful_fn._get_concrete_function_internal_garbage_collected(  # pylint: disable=protected-access\n\u001b[0m\u001b[0;32m    764\u001b[0m             *args, **kwds))\n\u001b[0;32m    765\u001b[0m \u001b[1;33m\u001b[0m\u001b[0m\n",
      "\u001b[1;32mc:\\users\\narayan\\appdata\\local\\programs\\python\\python38\\lib\\site-packages\\tensorflow\\python\\eager\\function.py\u001b[0m in \u001b[0;36m_get_concrete_function_internal_garbage_collected\u001b[1;34m(self, *args, **kwargs)\u001b[0m\n\u001b[0;32m   3048\u001b[0m       \u001b[0margs\u001b[0m\u001b[1;33m,\u001b[0m \u001b[0mkwargs\u001b[0m \u001b[1;33m=\u001b[0m \u001b[1;32mNone\u001b[0m\u001b[1;33m,\u001b[0m \u001b[1;32mNone\u001b[0m\u001b[1;33m\u001b[0m\u001b[1;33m\u001b[0m\u001b[0m\n\u001b[0;32m   3049\u001b[0m     \u001b[1;32mwith\u001b[0m \u001b[0mself\u001b[0m\u001b[1;33m.\u001b[0m\u001b[0m_lock\u001b[0m\u001b[1;33m:\u001b[0m\u001b[1;33m\u001b[0m\u001b[1;33m\u001b[0m\u001b[0m\n\u001b[1;32m-> 3050\u001b[1;33m       \u001b[0mgraph_function\u001b[0m\u001b[1;33m,\u001b[0m \u001b[0m_\u001b[0m \u001b[1;33m=\u001b[0m \u001b[0mself\u001b[0m\u001b[1;33m.\u001b[0m\u001b[0m_maybe_define_function\u001b[0m\u001b[1;33m(\u001b[0m\u001b[0margs\u001b[0m\u001b[1;33m,\u001b[0m \u001b[0mkwargs\u001b[0m\u001b[1;33m)\u001b[0m\u001b[1;33m\u001b[0m\u001b[1;33m\u001b[0m\u001b[0m\n\u001b[0m\u001b[0;32m   3051\u001b[0m     \u001b[1;32mreturn\u001b[0m \u001b[0mgraph_function\u001b[0m\u001b[1;33m\u001b[0m\u001b[1;33m\u001b[0m\u001b[0m\n\u001b[0;32m   3052\u001b[0m \u001b[1;33m\u001b[0m\u001b[0m\n",
      "\u001b[1;32mc:\\users\\narayan\\appdata\\local\\programs\\python\\python38\\lib\\site-packages\\tensorflow\\python\\eager\\function.py\u001b[0m in \u001b[0;36m_maybe_define_function\u001b[1;34m(self, args, kwargs)\u001b[0m\n\u001b[0;32m   3442\u001b[0m \u001b[1;33m\u001b[0m\u001b[0m\n\u001b[0;32m   3443\u001b[0m           \u001b[0mself\u001b[0m\u001b[1;33m.\u001b[0m\u001b[0m_function_cache\u001b[0m\u001b[1;33m.\u001b[0m\u001b[0mmissed\u001b[0m\u001b[1;33m.\u001b[0m\u001b[0madd\u001b[0m\u001b[1;33m(\u001b[0m\u001b[0mcall_context_key\u001b[0m\u001b[1;33m)\u001b[0m\u001b[1;33m\u001b[0m\u001b[1;33m\u001b[0m\u001b[0m\n\u001b[1;32m-> 3444\u001b[1;33m           \u001b[0mgraph_function\u001b[0m \u001b[1;33m=\u001b[0m \u001b[0mself\u001b[0m\u001b[1;33m.\u001b[0m\u001b[0m_create_graph_function\u001b[0m\u001b[1;33m(\u001b[0m\u001b[0margs\u001b[0m\u001b[1;33m,\u001b[0m \u001b[0mkwargs\u001b[0m\u001b[1;33m)\u001b[0m\u001b[1;33m\u001b[0m\u001b[1;33m\u001b[0m\u001b[0m\n\u001b[0m\u001b[0;32m   3445\u001b[0m           \u001b[0mself\u001b[0m\u001b[1;33m.\u001b[0m\u001b[0m_function_cache\u001b[0m\u001b[1;33m.\u001b[0m\u001b[0mprimary\u001b[0m\u001b[1;33m[\u001b[0m\u001b[0mcache_key\u001b[0m\u001b[1;33m]\u001b[0m \u001b[1;33m=\u001b[0m \u001b[0mgraph_function\u001b[0m\u001b[1;33m\u001b[0m\u001b[1;33m\u001b[0m\u001b[0m\n\u001b[0;32m   3446\u001b[0m \u001b[1;33m\u001b[0m\u001b[0m\n",
      "\u001b[1;32mc:\\users\\narayan\\appdata\\local\\programs\\python\\python38\\lib\\site-packages\\tensorflow\\python\\eager\\function.py\u001b[0m in \u001b[0;36m_create_graph_function\u001b[1;34m(self, args, kwargs, override_flat_arg_shapes)\u001b[0m\n\u001b[0;32m   3277\u001b[0m     \u001b[0marg_names\u001b[0m \u001b[1;33m=\u001b[0m \u001b[0mbase_arg_names\u001b[0m \u001b[1;33m+\u001b[0m \u001b[0mmissing_arg_names\u001b[0m\u001b[1;33m\u001b[0m\u001b[1;33m\u001b[0m\u001b[0m\n\u001b[0;32m   3278\u001b[0m     graph_function = ConcreteFunction(\n\u001b[1;32m-> 3279\u001b[1;33m         func_graph_module.func_graph_from_py_func(\n\u001b[0m\u001b[0;32m   3280\u001b[0m             \u001b[0mself\u001b[0m\u001b[1;33m.\u001b[0m\u001b[0m_name\u001b[0m\u001b[1;33m,\u001b[0m\u001b[1;33m\u001b[0m\u001b[1;33m\u001b[0m\u001b[0m\n\u001b[0;32m   3281\u001b[0m             \u001b[0mself\u001b[0m\u001b[1;33m.\u001b[0m\u001b[0m_python_function\u001b[0m\u001b[1;33m,\u001b[0m\u001b[1;33m\u001b[0m\u001b[1;33m\u001b[0m\u001b[0m\n",
      "\u001b[1;32mc:\\users\\narayan\\appdata\\local\\programs\\python\\python38\\lib\\site-packages\\tensorflow\\python\\framework\\func_graph.py\u001b[0m in \u001b[0;36mfunc_graph_from_py_func\u001b[1;34m(name, python_func, args, kwargs, signature, func_graph, autograph, autograph_options, add_control_dependencies, arg_names, op_return_value, collections, capture_by_value, override_flat_arg_shapes)\u001b[0m\n\u001b[0;32m    997\u001b[0m         \u001b[0m_\u001b[0m\u001b[1;33m,\u001b[0m \u001b[0moriginal_func\u001b[0m \u001b[1;33m=\u001b[0m \u001b[0mtf_decorator\u001b[0m\u001b[1;33m.\u001b[0m\u001b[0munwrap\u001b[0m\u001b[1;33m(\u001b[0m\u001b[0mpython_func\u001b[0m\u001b[1;33m)\u001b[0m\u001b[1;33m\u001b[0m\u001b[1;33m\u001b[0m\u001b[0m\n\u001b[0;32m    998\u001b[0m \u001b[1;33m\u001b[0m\u001b[0m\n\u001b[1;32m--> 999\u001b[1;33m       \u001b[0mfunc_outputs\u001b[0m \u001b[1;33m=\u001b[0m \u001b[0mpython_func\u001b[0m\u001b[1;33m(\u001b[0m\u001b[1;33m*\u001b[0m\u001b[0mfunc_args\u001b[0m\u001b[1;33m,\u001b[0m \u001b[1;33m**\u001b[0m\u001b[0mfunc_kwargs\u001b[0m\u001b[1;33m)\u001b[0m\u001b[1;33m\u001b[0m\u001b[1;33m\u001b[0m\u001b[0m\n\u001b[0m\u001b[0;32m   1000\u001b[0m \u001b[1;33m\u001b[0m\u001b[0m\n\u001b[0;32m   1001\u001b[0m       \u001b[1;31m# invariant: `func_outputs` contains only Tensors, CompositeTensors,\u001b[0m\u001b[1;33m\u001b[0m\u001b[1;33m\u001b[0m\u001b[1;33m\u001b[0m\u001b[0m\n",
      "\u001b[1;32mc:\\users\\narayan\\appdata\\local\\programs\\python\\python38\\lib\\site-packages\\tensorflow\\python\\eager\\def_function.py\u001b[0m in \u001b[0;36mwrapped_fn\u001b[1;34m(*args, **kwds)\u001b[0m\n\u001b[0;32m    670\u001b[0m         \u001b[1;31m# the function a weak reference to itself to avoid a reference cycle.\u001b[0m\u001b[1;33m\u001b[0m\u001b[1;33m\u001b[0m\u001b[1;33m\u001b[0m\u001b[0m\n\u001b[0;32m    671\u001b[0m         \u001b[1;32mwith\u001b[0m \u001b[0mOptionalXlaContext\u001b[0m\u001b[1;33m(\u001b[0m\u001b[0mcompile_with_xla\u001b[0m\u001b[1;33m)\u001b[0m\u001b[1;33m:\u001b[0m\u001b[1;33m\u001b[0m\u001b[1;33m\u001b[0m\u001b[0m\n\u001b[1;32m--> 672\u001b[1;33m           \u001b[0mout\u001b[0m \u001b[1;33m=\u001b[0m \u001b[0mweak_wrapped_fn\u001b[0m\u001b[1;33m(\u001b[0m\u001b[1;33m)\u001b[0m\u001b[1;33m.\u001b[0m\u001b[0m__wrapped__\u001b[0m\u001b[1;33m(\u001b[0m\u001b[1;33m*\u001b[0m\u001b[0margs\u001b[0m\u001b[1;33m,\u001b[0m \u001b[1;33m**\u001b[0m\u001b[0mkwds\u001b[0m\u001b[1;33m)\u001b[0m\u001b[1;33m\u001b[0m\u001b[1;33m\u001b[0m\u001b[0m\n\u001b[0m\u001b[0;32m    673\u001b[0m         \u001b[1;32mreturn\u001b[0m \u001b[0mout\u001b[0m\u001b[1;33m\u001b[0m\u001b[1;33m\u001b[0m\u001b[0m\n\u001b[0;32m    674\u001b[0m \u001b[1;33m\u001b[0m\u001b[0m\n",
      "\u001b[1;32mc:\\users\\narayan\\appdata\\local\\programs\\python\\python38\\lib\\site-packages\\tensorflow\\python\\framework\\func_graph.py\u001b[0m in \u001b[0;36mwrapper\u001b[1;34m(*args, **kwargs)\u001b[0m\n\u001b[0;32m    984\u001b[0m           \u001b[1;32mexcept\u001b[0m \u001b[0mException\u001b[0m \u001b[1;32mas\u001b[0m \u001b[0me\u001b[0m\u001b[1;33m:\u001b[0m  \u001b[1;31m# pylint:disable=broad-except\u001b[0m\u001b[1;33m\u001b[0m\u001b[1;33m\u001b[0m\u001b[0m\n\u001b[0;32m    985\u001b[0m             \u001b[1;32mif\u001b[0m \u001b[0mhasattr\u001b[0m\u001b[1;33m(\u001b[0m\u001b[0me\u001b[0m\u001b[1;33m,\u001b[0m \u001b[1;34m\"ag_error_metadata\"\u001b[0m\u001b[1;33m)\u001b[0m\u001b[1;33m:\u001b[0m\u001b[1;33m\u001b[0m\u001b[1;33m\u001b[0m\u001b[0m\n\u001b[1;32m--> 986\u001b[1;33m               \u001b[1;32mraise\u001b[0m \u001b[0me\u001b[0m\u001b[1;33m.\u001b[0m\u001b[0mag_error_metadata\u001b[0m\u001b[1;33m.\u001b[0m\u001b[0mto_exception\u001b[0m\u001b[1;33m(\u001b[0m\u001b[0me\u001b[0m\u001b[1;33m)\u001b[0m\u001b[1;33m\u001b[0m\u001b[1;33m\u001b[0m\u001b[0m\n\u001b[0m\u001b[0;32m    987\u001b[0m             \u001b[1;32melse\u001b[0m\u001b[1;33m:\u001b[0m\u001b[1;33m\u001b[0m\u001b[1;33m\u001b[0m\u001b[0m\n\u001b[0;32m    988\u001b[0m               \u001b[1;32mraise\u001b[0m\u001b[1;33m\u001b[0m\u001b[1;33m\u001b[0m\u001b[0m\n",
      "\u001b[1;31mValueError\u001b[0m: in user code:\n\n    c:\\users\\narayan\\appdata\\local\\programs\\python\\python38\\lib\\site-packages\\keras\\engine\\training.py:830 train_function  *\n        return step_function(self, iterator)\n    c:\\users\\narayan\\appdata\\local\\programs\\python\\python38\\lib\\site-packages\\keras\\engine\\training.py:813 run_step  *\n        outputs = model.train_step(data)\n    c:\\users\\narayan\\appdata\\local\\programs\\python\\python38\\lib\\site-packages\\keras\\engine\\training.py:770 train_step  *\n        y_pred = self(x, training=True)\n    c:\\users\\narayan\\appdata\\local\\programs\\python\\python38\\lib\\site-packages\\keras\\engine\\base_layer.py:989 __call__  *\n        input_spec.assert_input_compatibility(self.input_spec, inputs, self.name)\n    c:\\users\\narayan\\appdata\\local\\programs\\python\\python38\\lib\\site-packages\\keras\\engine\\input_spec.py:227 assert_input_compatibility  *\n        raise ValueError('Input ' + str(input_index) + ' of layer ' +\n\n    ValueError: Input 0 of layer sequential_8 is incompatible with the layer: : expected min_ndim=5, found ndim=3. Full shape received: (None, 4, 1)\n"
     ]
    }
   ],
   "source": [
    "model.fit(x_train, Y_train, epochs=100, batch_size=32)"
   ]
  },
  {
   "cell_type": "code",
   "execution_count": null,
   "id": "0cf5a418",
   "metadata": {},
   "outputs": [],
   "source": []
  }
 ],
 "metadata": {
  "kernelspec": {
   "display_name": "Python 3 (ipykernel)",
   "language": "python",
   "name": "python3"
  },
  "language_info": {
   "codemirror_mode": {
    "name": "ipython",
    "version": 3
   },
   "file_extension": ".py",
   "mimetype": "text/x-python",
   "name": "python",
   "nbconvert_exporter": "python",
   "pygments_lexer": "ipython3",
   "version": "3.8.4"
  },
  "toc": {
   "base_numbering": 1,
   "nav_menu": {},
   "number_sections": true,
   "sideBar": true,
   "skip_h1_title": false,
   "title_cell": "Table of Contents",
   "title_sidebar": "Contents",
   "toc_cell": false,
   "toc_position": {},
   "toc_section_display": true,
   "toc_window_display": false
  }
 },
 "nbformat": 4,
 "nbformat_minor": 5
}
