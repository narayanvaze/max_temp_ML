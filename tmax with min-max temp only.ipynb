{
 "cells": [
  {
   "cell_type": "code",
   "execution_count": 1,
   "id": "91bfea27",
   "metadata": {},
   "outputs": [],
   "source": [
    "import pandas as pd\n",
    "import matplotlib.pyplot as plt\n",
    "import numpy as np\n",
    "%matplotlib inline\n",
    "from sklearn.metrics import mean_squared_error"
   ]
  },
  {
   "cell_type": "code",
   "execution_count": 2,
   "id": "73fda3bb",
   "metadata": {},
   "outputs": [
    {
     "data": {
      "text/html": [
       "<div>\n",
       "<style scoped>\n",
       "    .dataframe tbody tr th:only-of-type {\n",
       "        vertical-align: middle;\n",
       "    }\n",
       "\n",
       "    .dataframe tbody tr th {\n",
       "        vertical-align: top;\n",
       "    }\n",
       "\n",
       "    .dataframe thead th {\n",
       "        text-align: right;\n",
       "    }\n",
       "</style>\n",
       "<table border=\"1\" class=\"dataframe\">\n",
       "  <thead>\n",
       "    <tr style=\"text-align: right;\">\n",
       "      <th></th>\n",
       "      <th>tmax</th>\n",
       "    </tr>\n",
       "  </thead>\n",
       "  <tbody>\n",
       "    <tr>\n",
       "      <th>0</th>\n",
       "      <td>28.4</td>\n",
       "    </tr>\n",
       "    <tr>\n",
       "      <th>1</th>\n",
       "      <td>29.4</td>\n",
       "    </tr>\n",
       "    <tr>\n",
       "      <th>2</th>\n",
       "      <td>29.1</td>\n",
       "    </tr>\n",
       "    <tr>\n",
       "      <th>3</th>\n",
       "      <td>28.3</td>\n",
       "    </tr>\n",
       "    <tr>\n",
       "      <th>4</th>\n",
       "      <td>28.5</td>\n",
       "    </tr>\n",
       "  </tbody>\n",
       "</table>\n",
       "</div>"
      ],
      "text/plain": [
       "   tmax\n",
       "0  28.4\n",
       "1  29.4\n",
       "2  29.1\n",
       "3  28.3\n",
       "4  28.5"
      ]
     },
     "execution_count": 2,
     "metadata": {},
     "output_type": "execute_result"
    }
   ],
   "source": [
    "pune_tmax_train = pd.read_csv(r'D:\\IITM\\converted_to_csv\\imd5p5_tmax_train_clean.csv')\n",
    "Nex_train = pd.read_csv(r'D:\\IITM\\prepared data\\Nex_train_ready.csv')\n",
    "\n",
    "pune_tmax_test = pd.read_csv(r'D:\\IITM\\converted_to_csv\\imd5p5_tmax_pune_test.csv')\n",
    "Nex_test = pd.read_csv(r'D:\\IITM\\prepared data\\Nex_test_ready.csv')\n",
    "\n",
    "#using pune tmax values as labels \n",
    "tmax_labels = pd.DataFrame(pune_tmax_train,columns=[\"tmax\"])\n",
    "tmax_labels.head() # .head() function gives out first 5 rows of the datset "
   ]
  },
  {
   "cell_type": "code",
   "execution_count": 3,
   "id": "8e5708b3",
   "metadata": {},
   "outputs": [],
   "source": [
    "Nex_train = Nex_train.drop(['nex_tmean'],axis=1)\n",
    "Nex_test = Nex_test.drop(['nex_tmean'],axis=1)"
   ]
  },
  {
   "cell_type": "code",
   "execution_count": 4,
   "id": "870c7d75",
   "metadata": {},
   "outputs": [
    {
     "data": {
      "text/html": [
       "<div>\n",
       "<style scoped>\n",
       "    .dataframe tbody tr th:only-of-type {\n",
       "        vertical-align: middle;\n",
       "    }\n",
       "\n",
       "    .dataframe tbody tr th {\n",
       "        vertical-align: top;\n",
       "    }\n",
       "\n",
       "    .dataframe thead th {\n",
       "        text-align: right;\n",
       "    }\n",
       "</style>\n",
       "<table border=\"1\" class=\"dataframe\">\n",
       "  <thead>\n",
       "    <tr style=\"text-align: right;\">\n",
       "      <th></th>\n",
       "      <th>nex_tmax</th>\n",
       "      <th>nex_tmin</th>\n",
       "    </tr>\n",
       "  </thead>\n",
       "  <tbody>\n",
       "    <tr>\n",
       "      <th>0</th>\n",
       "      <td>30.1280</td>\n",
       "      <td>10.7089</td>\n",
       "    </tr>\n",
       "    <tr>\n",
       "      <th>1</th>\n",
       "      <td>30.4229</td>\n",
       "      <td>10.5904</td>\n",
       "    </tr>\n",
       "    <tr>\n",
       "      <th>2</th>\n",
       "      <td>30.4062</td>\n",
       "      <td>10.6063</td>\n",
       "    </tr>\n",
       "    <tr>\n",
       "      <th>3</th>\n",
       "      <td>30.5158</td>\n",
       "      <td>11.8068</td>\n",
       "    </tr>\n",
       "    <tr>\n",
       "      <th>4</th>\n",
       "      <td>30.4171</td>\n",
       "      <td>13.2873</td>\n",
       "    </tr>\n",
       "  </tbody>\n",
       "</table>\n",
       "</div>"
      ],
      "text/plain": [
       "   nex_tmax  nex_tmin\n",
       "0   30.1280   10.7089\n",
       "1   30.4229   10.5904\n",
       "2   30.4062   10.6063\n",
       "3   30.5158   11.8068\n",
       "4   30.4171   13.2873"
      ]
     },
     "execution_count": 4,
     "metadata": {},
     "output_type": "execute_result"
    }
   ],
   "source": [
    "Nex_train.head()"
   ]
  },
  {
   "cell_type": "code",
   "execution_count": 5,
   "id": "23eab829",
   "metadata": {},
   "outputs": [
    {
     "data": {
      "text/html": [
       "<div>\n",
       "<style scoped>\n",
       "    .dataframe tbody tr th:only-of-type {\n",
       "        vertical-align: middle;\n",
       "    }\n",
       "\n",
       "    .dataframe tbody tr th {\n",
       "        vertical-align: top;\n",
       "    }\n",
       "\n",
       "    .dataframe thead th {\n",
       "        text-align: right;\n",
       "    }\n",
       "</style>\n",
       "<table border=\"1\" class=\"dataframe\">\n",
       "  <thead>\n",
       "    <tr style=\"text-align: right;\">\n",
       "      <th></th>\n",
       "      <th>nex_tmax</th>\n",
       "      <th>nex_tmin</th>\n",
       "    </tr>\n",
       "  </thead>\n",
       "  <tbody>\n",
       "    <tr>\n",
       "      <th>0</th>\n",
       "      <td>30.0709</td>\n",
       "      <td>14.5580</td>\n",
       "    </tr>\n",
       "    <tr>\n",
       "      <th>1</th>\n",
       "      <td>30.3630</td>\n",
       "      <td>14.8125</td>\n",
       "    </tr>\n",
       "    <tr>\n",
       "      <th>2</th>\n",
       "      <td>30.2909</td>\n",
       "      <td>14.9060</td>\n",
       "    </tr>\n",
       "    <tr>\n",
       "      <th>3</th>\n",
       "      <td>30.3834</td>\n",
       "      <td>14.2860</td>\n",
       "    </tr>\n",
       "    <tr>\n",
       "      <th>4</th>\n",
       "      <td>30.0295</td>\n",
       "      <td>13.7385</td>\n",
       "    </tr>\n",
       "  </tbody>\n",
       "</table>\n",
       "</div>"
      ],
      "text/plain": [
       "   nex_tmax  nex_tmin\n",
       "0   30.0709   14.5580\n",
       "1   30.3630   14.8125\n",
       "2   30.2909   14.9060\n",
       "3   30.3834   14.2860\n",
       "4   30.0295   13.7385"
      ]
     },
     "execution_count": 5,
     "metadata": {},
     "output_type": "execute_result"
    }
   ],
   "source": [
    "Nex_test.head()"
   ]
  },
  {
   "cell_type": "code",
   "execution_count": 6,
   "id": "5ca2ca8b",
   "metadata": {},
   "outputs": [
    {
     "data": {
      "text/html": [
       "<div>\n",
       "<style scoped>\n",
       "    .dataframe tbody tr th:only-of-type {\n",
       "        vertical-align: middle;\n",
       "    }\n",
       "\n",
       "    .dataframe tbody tr th {\n",
       "        vertical-align: top;\n",
       "    }\n",
       "\n",
       "    .dataframe thead th {\n",
       "        text-align: right;\n",
       "    }\n",
       "</style>\n",
       "<table border=\"1\" class=\"dataframe\">\n",
       "  <thead>\n",
       "    <tr style=\"text-align: right;\">\n",
       "      <th></th>\n",
       "      <th>tmax</th>\n",
       "    </tr>\n",
       "  </thead>\n",
       "  <tbody>\n",
       "    <tr>\n",
       "      <th>0</th>\n",
       "      <td>29.7</td>\n",
       "    </tr>\n",
       "    <tr>\n",
       "      <th>1</th>\n",
       "      <td>30.0</td>\n",
       "    </tr>\n",
       "    <tr>\n",
       "      <th>2</th>\n",
       "      <td>28.2</td>\n",
       "    </tr>\n",
       "    <tr>\n",
       "      <th>3</th>\n",
       "      <td>28.3</td>\n",
       "    </tr>\n",
       "    <tr>\n",
       "      <th>4</th>\n",
       "      <td>29.6</td>\n",
       "    </tr>\n",
       "  </tbody>\n",
       "</table>\n",
       "</div>"
      ],
      "text/plain": [
       "   tmax\n",
       "0  29.7\n",
       "1  30.0\n",
       "2  28.2\n",
       "3  28.3\n",
       "4  29.6"
      ]
     },
     "execution_count": 6,
     "metadata": {},
     "output_type": "execute_result"
    }
   ],
   "source": [
    "test_labels = pd.DataFrame(pune_tmax_test,columns=[\"tmax\"])\n",
    "test_labels.head()"
   ]
  },
  {
   "cell_type": "code",
   "execution_count": 7,
   "id": "d613234d",
   "metadata": {},
   "outputs": [],
   "source": [
    "from sklearn.preprocessing import StandardScaler\n",
    "sc_X = StandardScaler()\n",
    "sc_y = StandardScaler()\n",
    "X_train = sc_X.fit_transform(Nex_train)\n",
    "y_train = sc_y.fit_transform(tmax_labels)\n",
    "X_test = sc_X.fit_transform(Nex_test)\n",
    "y_test = sc_y.fit_transform(test_labels)"
   ]
  },
  {
   "cell_type": "code",
   "execution_count": 9,
   "id": "27e4d331",
   "metadata": {},
   "outputs": [
    {
     "name": "stderr",
     "output_type": "stream",
     "text": [
      "c:\\users\\narayan\\appdata\\local\\programs\\python\\python38\\lib\\site-packages\\sklearn\\utils\\validation.py:63: DataConversionWarning: A column-vector y was passed when a 1d array was expected. Please change the shape of y to (n_samples, ), for example using ravel().\n",
      "  return f(*args, **kwargs)\n"
     ]
    },
    {
     "data": {
      "text/plain": [
       "SVR()"
      ]
     },
     "execution_count": 9,
     "metadata": {},
     "output_type": "execute_result"
    }
   ],
   "source": [
    "from sklearn import svm\n",
    "tmax_svr = svm.SVR()\n",
    "tmax_svr.fit(X_train , y_train)"
   ]
  },
  {
   "cell_type": "code",
   "execution_count": 10,
   "id": "70a6e6f2",
   "metadata": {},
   "outputs": [
    {
     "name": "stdout",
     "output_type": "stream",
     "text": [
      "RMSE for Support Vector Regression over train set = \n"
     ]
    },
    {
     "data": {
      "text/plain": [
       "1.6096252788826082"
      ]
     },
     "execution_count": 10,
     "metadata": {},
     "output_type": "execute_result"
    }
   ],
   "source": [
    "train_pred_svr = tmax_svr.predict(X_train)\n",
    "train_pred_svr = sc_y.inverse_transform(train_pred_svr)\n",
    "#calculating RMSE over train set for SVR\n",
    "\n",
    "Nex_svr_mse_train = mean_squared_error(tmax_labels, train_pred_svr)\n",
    "Nex_svr_rmse_train = np.sqrt(Nex_svr_mse_train)\n",
    "print(\"RMSE for Support Vector Regression over train set = \")\n",
    "Nex_svr_rmse_train"
   ]
  },
  {
   "cell_type": "code",
   "execution_count": 11,
   "id": "e41a9c4c",
   "metadata": {},
   "outputs": [
    {
     "name": "stdout",
     "output_type": "stream",
     "text": [
      "RMSE for Support Vector Regression over test set = \n"
     ]
    },
    {
     "data": {
      "text/plain": [
       "1.648475788931011"
      ]
     },
     "execution_count": 11,
     "metadata": {},
     "output_type": "execute_result"
    }
   ],
   "source": [
    "test_pred_svr = tmax_svr.predict(X_test)\n",
    "test_pred_svr = sc_y.inverse_transform(test_pred_svr)\n",
    "#calculating RMSE over train set for SVR\n",
    "from sklearn.metrics import mean_squared_error\n",
    "Nex_svr_mse_test = mean_squared_error(test_labels, test_pred_svr)\n",
    "Nex_svr_rmse_test = np.sqrt(Nex_svr_mse_test)\n",
    "print(\"RMSE for Support Vector Regression over test set = \")\n",
    "Nex_svr_rmse_test"
   ]
  },
  {
   "cell_type": "code",
   "execution_count": 10,
   "id": "2957071d",
   "metadata": {},
   "outputs": [],
   "source": [
    "from sklearn.model_selection import cross_val_score, GridSearchCV, TimeSeriesSplit"
   ]
  },
  {
   "cell_type": "code",
   "execution_count": 14,
   "id": "5ba07784",
   "metadata": {},
   "outputs": [
    {
     "name": "stderr",
     "output_type": "stream",
     "text": [
      "c:\\users\\narayan\\appdata\\local\\programs\\python\\python38\\lib\\site-packages\\sklearn\\utils\\validation.py:63: DataConversionWarning: A column-vector y was passed when a 1d array was expected. Please change the shape of y to (n_samples, ), for example using ravel().\n",
      "  return f(*args, **kwargs)\n"
     ]
    },
    {
     "name": "stdout",
     "output_type": "stream",
     "text": [
      "0.6896462759645559\n",
      "{'C': 0.1, 'gamma': 'auto', 'kernel': 'rbf'}\n"
     ]
    }
   ],
   "source": [
    "svr_para = {'kernel':['linear', 'poly', 'rbf', 'sigmoid'], 'gamma':['scale', 'auto'],'C':[0.1,1,5]}\n",
    "svr_tune = GridSearchCV(svm.SVR(), param_grid = svr_para, n_jobs=-1)\n",
    "svr_tune.fit(X_train, y_train)\n",
    "print(svr_tune.score(X_train, y_train))\n",
    "print(svr_tune.best_params_)"
   ]
  },
  {
   "cell_type": "code",
   "execution_count": 15,
   "id": "46695e0b",
   "metadata": {},
   "outputs": [
    {
     "name": "stderr",
     "output_type": "stream",
     "text": [
      "c:\\users\\narayan\\appdata\\local\\programs\\python\\python38\\lib\\site-packages\\sklearn\\utils\\validation.py:63: DataConversionWarning: A column-vector y was passed when a 1d array was expected. Please change the shape of y to (n_samples, ), for example using ravel().\n",
      "  return f(*args, **kwargs)\n"
     ]
    },
    {
     "data": {
      "text/plain": [
       "SVR(C=0.1, gamma='auto')"
      ]
     },
     "execution_count": 15,
     "metadata": {},
     "output_type": "execute_result"
    }
   ],
   "source": [
    "svr_tuned = svm.SVR(C= 0.1,gamma='auto',kernel='rbf')\n",
    "svr_tuned.fit(X_train , y_train)"
   ]
  },
  {
   "cell_type": "code",
   "execution_count": 16,
   "id": "7462b09d",
   "metadata": {},
   "outputs": [
    {
     "name": "stdout",
     "output_type": "stream",
     "text": [
      "RMSE for Support Vector Regression over train set = \n"
     ]
    },
    {
     "data": {
      "text/plain": [
       "1.6177263599021212"
      ]
     },
     "execution_count": 16,
     "metadata": {},
     "output_type": "execute_result"
    }
   ],
   "source": [
    "svr_tuned_train_pred = svr_tuned.predict(X_train)\n",
    "svr_tuned_train_pred = sc_y.inverse_transform(svr_tuned_train_pred)\n",
    "#calculating RMSE over train set for SVR\n",
    "\n",
    "Nex_svr_mse_train = mean_squared_error(tmax_labels, svr_tuned_train_pred)\n",
    "Nex_svr_rmse_train = np.sqrt(Nex_svr_mse_train)\n",
    "print(\"RMSE for Support Vector Regression over train set = \")\n",
    "Nex_svr_rmse_train"
   ]
  },
  {
   "cell_type": "code",
   "execution_count": 17,
   "id": "e93bef62",
   "metadata": {},
   "outputs": [
    {
     "name": "stdout",
     "output_type": "stream",
     "text": [
      "RMSE for Support Vector Regression over test set = \n"
     ]
    },
    {
     "data": {
      "text/plain": [
       "1.638664964317867"
      ]
     },
     "execution_count": 17,
     "metadata": {},
     "output_type": "execute_result"
    }
   ],
   "source": [
    "svr_tuned_test_pred = svr_tuned.predict(X_test)\n",
    "svr_tuned_test_pred = sc_y.inverse_transform(svr_tuned_test_pred)\n",
    "#calculating RMSE over train set for SVR\n",
    "from sklearn.metrics import mean_squared_error\n",
    "Nex_svr_mse_test = mean_squared_error(test_labels, svr_tuned_test_pred)\n",
    "Nex_svr_rmse_test = np.sqrt(Nex_svr_mse_test)\n",
    "print(\"RMSE for Support Vector Regression over test set = \")\n",
    "Nex_svr_rmse_test"
   ]
  },
  {
   "cell_type": "code",
   "execution_count": 18,
   "id": "c52e03d6",
   "metadata": {},
   "outputs": [],
   "source": [
    "from sklearn.neural_network import MLPRegressor"
   ]
  },
  {
   "cell_type": "code",
   "execution_count": 19,
   "id": "8a2dacb3",
   "metadata": {},
   "outputs": [
    {
     "name": "stderr",
     "output_type": "stream",
     "text": [
      "c:\\users\\narayan\\appdata\\local\\programs\\python\\python38\\lib\\site-packages\\sklearn\\utils\\validation.py:63: DataConversionWarning: A column-vector y was passed when a 1d array was expected. Please change the shape of y to (n_samples, ), for example using ravel().\n",
      "  return f(*args, **kwargs)\n"
     ]
    },
    {
     "name": "stdout",
     "output_type": "stream",
     "text": [
      "0.6967208724948044\n",
      "{'activation': 'logistic', 'alpha': 1e-06, 'hidden_layer_sizes': 14, 'max_iter': 800, 'solver': 'lbfgs'}\n"
     ]
    }
   ],
   "source": [
    "parameters = {'alpha': 10.0 ** -np.arange(1, 10), 'hidden_layer_sizes':np.arange(10, 15), 'activation': ['identity', 'logistic', 'tanh', 'relu'], 'solver':['lbfgs'], 'max_iter': [700,800,900]}\n",
    "clf = GridSearchCV(MLPRegressor(), parameters, n_jobs=-1)\n",
    "\n",
    "clf.fit(X_train, y_train)\n",
    "print(clf.score(X_train, y_train))\n",
    "print(clf.best_params_)"
   ]
  },
  {
   "cell_type": "code",
   "execution_count": 20,
   "id": "52229dd8",
   "metadata": {},
   "outputs": [
    {
     "name": "stderr",
     "output_type": "stream",
     "text": [
      "c:\\users\\narayan\\appdata\\local\\programs\\python\\python38\\lib\\site-packages\\sklearn\\utils\\validation.py:63: DataConversionWarning: A column-vector y was passed when a 1d array was expected. Please change the shape of y to (n_samples, ), for example using ravel().\n",
      "  return f(*args, **kwargs)\n"
     ]
    },
    {
     "name": "stdout",
     "output_type": "stream",
     "text": [
      "RMSE of the MLP with Grid Search on trainset:  1.6449566612263222 \n",
      "\n",
      "\n",
      "RMSE of the MLP with Grid Search on testset:  1.5871901582779402 \n",
      "\n",
      "\n"
     ]
    },
    {
     "name": "stderr",
     "output_type": "stream",
     "text": [
      "c:\\users\\narayan\\appdata\\local\\programs\\python\\python38\\lib\\site-packages\\sklearn\\neural_network\\_multilayer_perceptron.py:500: ConvergenceWarning: lbfgs failed to converge (status=1):\n",
      "STOP: TOTAL NO. of ITERATIONS REACHED LIMIT.\n",
      "\n",
      "Increase the number of iterations (max_iter) or scale the data as shown in:\n",
      "    https://scikit-learn.org/stable/modules/preprocessing.html\n",
      "  self.n_iter_ = _check_optimize_result(\"lbfgs\", opt_res, self.max_iter)\n"
     ]
    }
   ],
   "source": [
    "mlp_reg = MLPRegressor(activation='logistic', alpha= 1e-06, hidden_layer_sizes= 14, max_iter= 800, solver='lbfgs')\n",
    "mlp_reg.fit(X_train, y_train)\n",
    "train_preds = mlp_reg.predict(X_train)\n",
    "test_preds = mlp_reg.predict(X_test)\n",
    "train_pred_mlp = sc_y.inverse_transform(train_preds)\n",
    "test_pred_mlp = sc_y.inverse_transform(test_preds)\n",
    "\n",
    "mlp_reg_mse_train = mean_squared_error(test_pred_mlp, test_labels)\n",
    "mlp_reg_mse_test = mean_squared_error(train_pred_mlp, tmax_labels)\n",
    "mlp_reg_rmse_train = np.sqrt(mlp_reg_mse_train)\n",
    "mlp_reg_rmse_test = np.sqrt(mlp_reg_mse_test)\n",
    "print(\"RMSE of the MLP with Grid Search on trainset: \", mlp_reg_rmse_train, \"\\n\\n\")\n",
    "print(\"RMSE of the MLP with Grid Search on testset: \", mlp_reg_rmse_test, \"\\n\\n\")"
   ]
  },
  {
   "cell_type": "code",
   "execution_count": 8,
   "id": "de5378b1",
   "metadata": {},
   "outputs": [],
   "source": [
    "from sklearn.ensemble import RandomForestRegressor"
   ]
  },
  {
   "cell_type": "code",
   "execution_count": 11,
   "id": "113eea8d",
   "metadata": {},
   "outputs": [
    {
     "name": "stderr",
     "output_type": "stream",
     "text": [
      "c:\\users\\narayan\\appdata\\local\\programs\\python\\python38\\lib\\site-packages\\sklearn\\model_selection\\_search.py:880: DataConversionWarning: A column-vector y was passed when a 1d array was expected. Please change the shape of y to (n_samples,), for example using ravel().\n",
      "  self.best_estimator_.fit(X, y, **fit_params)\n"
     ]
    },
    {
     "name": "stdout",
     "output_type": "stream",
     "text": [
      "0.6470082356354998\n",
      "{'bootstrap': True, 'max_features': 'log2', 'min_samples_split': 8, 'n_estimators': 600}\n"
     ]
    }
   ],
   "source": [
    "estimator = RandomForestRegressor()\n",
    "param_grid = { \n",
    "            \"n_estimators\"      : [400, 500, 600, 700, 800],\n",
    "            \"max_features\"      : [\"auto\", \"sqrt\", \"log2\"],\n",
    "            \"min_samples_split\" : [2,4,8],\n",
    "            \"bootstrap\": [True, False],\n",
    "            }\n",
    "\n",
    "grid = GridSearchCV(estimator, param_grid, n_jobs=-1, cv=5)\n",
    "\n",
    "grid.fit(X_train, y_train)\n",
    "print(grid.best_score_) \n",
    "print(grid.best_params_)"
   ]
  },
  {
   "cell_type": "code",
   "execution_count": 12,
   "id": "c7ebc3ea",
   "metadata": {},
   "outputs": [
    {
     "name": "stderr",
     "output_type": "stream",
     "text": [
      "C:\\Users\\Narayan\\AppData\\Local\\Temp/ipykernel_10072/3345772182.py:1: DataConversionWarning: A column-vector y was passed when a 1d array was expected. Please change the shape of y to (n_samples,), for example using ravel().\n",
      "  Nex_rfr_reg = RandomForestRegressor(bootstrap=True, max_features= 'log2', min_samples_split= 8, n_estimators=600).fit(X_train, y_train)\n"
     ]
    }
   ],
   "source": [
    "Nex_rfr_reg = RandomForestRegressor(bootstrap=True, max_features= 'log2', min_samples_split= 8, n_estimators=600).fit(X_train, y_train)"
   ]
  },
  {
   "cell_type": "code",
   "execution_count": 13,
   "id": "18dec1a8",
   "metadata": {},
   "outputs": [
    {
     "name": "stdout",
     "output_type": "stream",
     "text": [
      "RMSE of the Random Forest Regression with scaling trainset:  1.0296881075644033 \n",
      "\n",
      "RMSE of the Random Forest Regression with scaling testset:  1.7318002483285497 \n",
      "\n"
     ]
    }
   ],
   "source": [
    "Nex_rfr_train_preds = Nex_rfr_reg.predict(X_train)\n",
    "Nex_rfr_test_preds = Nex_rfr_reg.predict(X_test)\n",
    "train_pred_rfr = sc_y.inverse_transform(Nex_rfr_train_preds)\n",
    "test_pred_rfr = sc_y.inverse_transform(Nex_rfr_test_preds)\n",
    "\n",
    "Nex_rfr_reg_mse_train = mean_squared_error(train_pred_rfr, tmax_labels)\n",
    "Nex_rfr_reg_mse_test = mean_squared_error(test_pred_rfr, test_labels)\n",
    "Nex_rfr_reg_rmse_train = np.sqrt(Nex_rfr_reg_mse_train)\n",
    "Nex_rfr_reg_rmse_test = np.sqrt(Nex_rfr_reg_mse_test)\n",
    "print(\"RMSE of the Random Forest Regression with scaling trainset: \", Nex_rfr_reg_rmse_train,\"\\n\")\n",
    "print(\"RMSE of the Random Forest Regression with scaling testset: \", Nex_rfr_reg_rmse_test, \"\\n\")"
   ]
  },
  {
   "cell_type": "code",
   "execution_count": null,
   "id": "06014719",
   "metadata": {},
   "outputs": [],
   "source": []
  }
 ],
 "metadata": {
  "kernelspec": {
   "display_name": "Python 3 (ipykernel)",
   "language": "python",
   "name": "python3"
  },
  "language_info": {
   "codemirror_mode": {
    "name": "ipython",
    "version": 3
   },
   "file_extension": ".py",
   "mimetype": "text/x-python",
   "name": "python",
   "nbconvert_exporter": "python",
   "pygments_lexer": "ipython3",
   "version": "3.8.4"
  },
  "toc": {
   "base_numbering": 1,
   "nav_menu": {},
   "number_sections": true,
   "sideBar": true,
   "skip_h1_title": false,
   "title_cell": "Table of Contents",
   "title_sidebar": "Contents",
   "toc_cell": false,
   "toc_position": {},
   "toc_section_display": true,
   "toc_window_display": false
  }
 },
 "nbformat": 4,
 "nbformat_minor": 5
}
