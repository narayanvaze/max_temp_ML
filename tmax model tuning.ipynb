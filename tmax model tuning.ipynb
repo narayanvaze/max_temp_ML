{
 "cells": [
  {
   "cell_type": "markdown",
   "id": "29fc66cd",
   "metadata": {},
   "source": [
    "# Model Tuning "
   ]
  },
  {
   "cell_type": "code",
   "execution_count": 1,
   "id": "864ad321",
   "metadata": {},
   "outputs": [],
   "source": [
    "import pandas as pd\n",
    "import matplotlib.pyplot as plt\n",
    "import numpy as np\n",
    "%matplotlib inline\n",
    "from sklearn.metrics import mean_squared_error"
   ]
  },
  {
   "cell_type": "code",
   "execution_count": 2,
   "id": "ce206d66",
   "metadata": {},
   "outputs": [
    {
     "data": {
      "text/html": [
       "<div>\n",
       "<style scoped>\n",
       "    .dataframe tbody tr th:only-of-type {\n",
       "        vertical-align: middle;\n",
       "    }\n",
       "\n",
       "    .dataframe tbody tr th {\n",
       "        vertical-align: top;\n",
       "    }\n",
       "\n",
       "    .dataframe thead th {\n",
       "        text-align: right;\n",
       "    }\n",
       "</style>\n",
       "<table border=\"1\" class=\"dataframe\">\n",
       "  <thead>\n",
       "    <tr style=\"text-align: right;\">\n",
       "      <th></th>\n",
       "      <th>tmax</th>\n",
       "    </tr>\n",
       "  </thead>\n",
       "  <tbody>\n",
       "    <tr>\n",
       "      <th>0</th>\n",
       "      <td>28.4</td>\n",
       "    </tr>\n",
       "    <tr>\n",
       "      <th>1</th>\n",
       "      <td>29.4</td>\n",
       "    </tr>\n",
       "    <tr>\n",
       "      <th>2</th>\n",
       "      <td>29.1</td>\n",
       "    </tr>\n",
       "    <tr>\n",
       "      <th>3</th>\n",
       "      <td>28.3</td>\n",
       "    </tr>\n",
       "    <tr>\n",
       "      <th>4</th>\n",
       "      <td>28.5</td>\n",
       "    </tr>\n",
       "  </tbody>\n",
       "</table>\n",
       "</div>"
      ],
      "text/plain": [
       "   tmax\n",
       "0  28.4\n",
       "1  29.4\n",
       "2  29.1\n",
       "3  28.3\n",
       "4  28.5"
      ]
     },
     "execution_count": 2,
     "metadata": {},
     "output_type": "execute_result"
    }
   ],
   "source": [
    "pune_tmax_train = pd.read_csv(r'D:\\IITM\\converted_to_csv\\imd5p5_tmax_train_clean.csv')\n",
    "Nex_train = pd.read_csv(r'D:\\IITM\\prepared data\\Nex_train_ready.csv')\n",
    "\n",
    "pune_tmax_test = pd.read_csv(r'D:\\IITM\\converted_to_csv\\imd5p5_tmax_pune_test.csv')\n",
    "Nex_test = pd.read_csv(r'D:\\IITM\\prepared data\\Nex_test_ready.csv')\n",
    "\n",
    "#using pune tmax values as labels \n",
    "tmax_labels = pd.DataFrame(pune_tmax_train,columns=[\"tmax\"])\n",
    "tmax_labels.head() # .head() function gives out first 5 rows of the datset "
   ]
  },
  {
   "cell_type": "code",
   "execution_count": 4,
   "id": "226144e5",
   "metadata": {},
   "outputs": [],
   "source": [
    "nex_pr_train = pd.read_csv(r'D:\\IITM\\converted_to_csv\\nex25_pr_train.csv')\n",
    "nex_pr_test = pd.read_csv(r'D:\\IITM\\converted_to_csv\\nex25_pr_test.csv')\n",
    "Nex_train_final = pd.concat([Nex_train.reset_index(drop=True), nex_pr_train[\"precipitation\"].reset_index(drop=True)],axis=1) "
   ]
  },
  {
   "cell_type": "code",
   "execution_count": 5,
   "id": "4a183a61",
   "metadata": {
    "scrolled": true
   },
   "outputs": [
    {
     "data": {
      "text/html": [
       "<div>\n",
       "<style scoped>\n",
       "    .dataframe tbody tr th:only-of-type {\n",
       "        vertical-align: middle;\n",
       "    }\n",
       "\n",
       "    .dataframe tbody tr th {\n",
       "        vertical-align: top;\n",
       "    }\n",
       "\n",
       "    .dataframe thead th {\n",
       "        text-align: right;\n",
       "    }\n",
       "</style>\n",
       "<table border=\"1\" class=\"dataframe\">\n",
       "  <thead>\n",
       "    <tr style=\"text-align: right;\">\n",
       "      <th></th>\n",
       "      <th>nex_tmax</th>\n",
       "      <th>nex_tmin</th>\n",
       "      <th>nex_tmean</th>\n",
       "      <th>precipitation</th>\n",
       "    </tr>\n",
       "  </thead>\n",
       "  <tbody>\n",
       "    <tr>\n",
       "      <th>0</th>\n",
       "      <td>30.1280</td>\n",
       "      <td>10.7089</td>\n",
       "      <td>20.41845</td>\n",
       "      <td>0.0</td>\n",
       "    </tr>\n",
       "    <tr>\n",
       "      <th>1</th>\n",
       "      <td>30.4229</td>\n",
       "      <td>10.5904</td>\n",
       "      <td>20.50665</td>\n",
       "      <td>0.0</td>\n",
       "    </tr>\n",
       "    <tr>\n",
       "      <th>2</th>\n",
       "      <td>30.4062</td>\n",
       "      <td>10.6063</td>\n",
       "      <td>20.50625</td>\n",
       "      <td>0.0</td>\n",
       "    </tr>\n",
       "    <tr>\n",
       "      <th>3</th>\n",
       "      <td>30.5158</td>\n",
       "      <td>11.8068</td>\n",
       "      <td>21.16130</td>\n",
       "      <td>0.0</td>\n",
       "    </tr>\n",
       "    <tr>\n",
       "      <th>4</th>\n",
       "      <td>30.4171</td>\n",
       "      <td>13.2873</td>\n",
       "      <td>21.85220</td>\n",
       "      <td>0.0</td>\n",
       "    </tr>\n",
       "  </tbody>\n",
       "</table>\n",
       "</div>"
      ],
      "text/plain": [
       "   nex_tmax  nex_tmin  nex_tmean  precipitation\n",
       "0   30.1280   10.7089   20.41845            0.0\n",
       "1   30.4229   10.5904   20.50665            0.0\n",
       "2   30.4062   10.6063   20.50625            0.0\n",
       "3   30.5158   11.8068   21.16130            0.0\n",
       "4   30.4171   13.2873   21.85220            0.0"
      ]
     },
     "execution_count": 5,
     "metadata": {},
     "output_type": "execute_result"
    }
   ],
   "source": [
    "Nex_train_final.head()"
   ]
  },
  {
   "cell_type": "code",
   "execution_count": 6,
   "id": "ace737da",
   "metadata": {},
   "outputs": [],
   "source": [
    "Nex_test_final = pd.concat([Nex_test.reset_index(drop=True), nex_pr_test[\"precipitation\"].reset_index(drop=True)],axis=1)"
   ]
  },
  {
   "cell_type": "code",
   "execution_count": 7,
   "id": "88341dc6",
   "metadata": {},
   "outputs": [
    {
     "data": {
      "text/html": [
       "<div>\n",
       "<style scoped>\n",
       "    .dataframe tbody tr th:only-of-type {\n",
       "        vertical-align: middle;\n",
       "    }\n",
       "\n",
       "    .dataframe tbody tr th {\n",
       "        vertical-align: top;\n",
       "    }\n",
       "\n",
       "    .dataframe thead th {\n",
       "        text-align: right;\n",
       "    }\n",
       "</style>\n",
       "<table border=\"1\" class=\"dataframe\">\n",
       "  <thead>\n",
       "    <tr style=\"text-align: right;\">\n",
       "      <th></th>\n",
       "      <th>tmax</th>\n",
       "    </tr>\n",
       "  </thead>\n",
       "  <tbody>\n",
       "    <tr>\n",
       "      <th>0</th>\n",
       "      <td>29.7</td>\n",
       "    </tr>\n",
       "    <tr>\n",
       "      <th>1</th>\n",
       "      <td>30.0</td>\n",
       "    </tr>\n",
       "    <tr>\n",
       "      <th>2</th>\n",
       "      <td>28.2</td>\n",
       "    </tr>\n",
       "    <tr>\n",
       "      <th>3</th>\n",
       "      <td>28.3</td>\n",
       "    </tr>\n",
       "    <tr>\n",
       "      <th>4</th>\n",
       "      <td>29.6</td>\n",
       "    </tr>\n",
       "  </tbody>\n",
       "</table>\n",
       "</div>"
      ],
      "text/plain": [
       "   tmax\n",
       "0  29.7\n",
       "1  30.0\n",
       "2  28.2\n",
       "3  28.3\n",
       "4  29.6"
      ]
     },
     "execution_count": 7,
     "metadata": {},
     "output_type": "execute_result"
    }
   ],
   "source": [
    "test_labels = pd.DataFrame(pune_tmax_test,columns=[\"tmax\"])\n",
    "test_labels.head()"
   ]
  },
  {
   "cell_type": "code",
   "execution_count": 8,
   "id": "779e777a",
   "metadata": {
    "scrolled": false
   },
   "outputs": [
    {
     "data": {
      "text/html": [
       "<div>\n",
       "<style scoped>\n",
       "    .dataframe tbody tr th:only-of-type {\n",
       "        vertical-align: middle;\n",
       "    }\n",
       "\n",
       "    .dataframe tbody tr th {\n",
       "        vertical-align: top;\n",
       "    }\n",
       "\n",
       "    .dataframe thead th {\n",
       "        text-align: right;\n",
       "    }\n",
       "</style>\n",
       "<table border=\"1\" class=\"dataframe\">\n",
       "  <thead>\n",
       "    <tr style=\"text-align: right;\">\n",
       "      <th></th>\n",
       "      <th>nex_tmax</th>\n",
       "      <th>nex_tmin</th>\n",
       "      <th>nex_tmean</th>\n",
       "      <th>precipitation</th>\n",
       "    </tr>\n",
       "  </thead>\n",
       "  <tbody>\n",
       "    <tr>\n",
       "      <th>0</th>\n",
       "      <td>30.0709</td>\n",
       "      <td>14.5580</td>\n",
       "      <td>22.31445</td>\n",
       "      <td>0.0</td>\n",
       "    </tr>\n",
       "    <tr>\n",
       "      <th>1</th>\n",
       "      <td>30.3630</td>\n",
       "      <td>14.8125</td>\n",
       "      <td>22.58775</td>\n",
       "      <td>0.0</td>\n",
       "    </tr>\n",
       "    <tr>\n",
       "      <th>2</th>\n",
       "      <td>30.2909</td>\n",
       "      <td>14.9060</td>\n",
       "      <td>22.59845</td>\n",
       "      <td>0.0</td>\n",
       "    </tr>\n",
       "    <tr>\n",
       "      <th>3</th>\n",
       "      <td>30.3834</td>\n",
       "      <td>14.2860</td>\n",
       "      <td>22.33470</td>\n",
       "      <td>0.0</td>\n",
       "    </tr>\n",
       "    <tr>\n",
       "      <th>4</th>\n",
       "      <td>30.0295</td>\n",
       "      <td>13.7385</td>\n",
       "      <td>21.88400</td>\n",
       "      <td>0.0</td>\n",
       "    </tr>\n",
       "  </tbody>\n",
       "</table>\n",
       "</div>"
      ],
      "text/plain": [
       "   nex_tmax  nex_tmin  nex_tmean  precipitation\n",
       "0   30.0709   14.5580   22.31445            0.0\n",
       "1   30.3630   14.8125   22.58775            0.0\n",
       "2   30.2909   14.9060   22.59845            0.0\n",
       "3   30.3834   14.2860   22.33470            0.0\n",
       "4   30.0295   13.7385   21.88400            0.0"
      ]
     },
     "execution_count": 8,
     "metadata": {},
     "output_type": "execute_result"
    }
   ],
   "source": [
    "Nex_test_final.head()"
   ]
  },
  {
   "cell_type": "code",
   "execution_count": 9,
   "id": "d7fd6697",
   "metadata": {},
   "outputs": [],
   "source": [
    "nex_test_raw = pd.read_csv(r'D:\\IITM\\converted_to_csv\\nex25_tmax_pune_test.csv')"
   ]
  },
  {
   "cell_type": "code",
   "execution_count": 10,
   "id": "a443eada",
   "metadata": {},
   "outputs": [
    {
     "data": {
      "text/html": [
       "<div>\n",
       "<style scoped>\n",
       "    .dataframe tbody tr th:only-of-type {\n",
       "        vertical-align: middle;\n",
       "    }\n",
       "\n",
       "    .dataframe tbody tr th {\n",
       "        vertical-align: top;\n",
       "    }\n",
       "\n",
       "    .dataframe thead th {\n",
       "        text-align: right;\n",
       "    }\n",
       "</style>\n",
       "<table border=\"1\" class=\"dataframe\">\n",
       "  <thead>\n",
       "    <tr style=\"text-align: right;\">\n",
       "      <th></th>\n",
       "      <th>date</th>\n",
       "      <th>nex_tmax</th>\n",
       "    </tr>\n",
       "  </thead>\n",
       "  <tbody>\n",
       "    <tr>\n",
       "      <th>0</th>\n",
       "      <td>01-01-2006</td>\n",
       "      <td>30.0709</td>\n",
       "    </tr>\n",
       "    <tr>\n",
       "      <th>1</th>\n",
       "      <td>02-01-2006</td>\n",
       "      <td>30.3630</td>\n",
       "    </tr>\n",
       "    <tr>\n",
       "      <th>2</th>\n",
       "      <td>03-01-2006</td>\n",
       "      <td>30.2909</td>\n",
       "    </tr>\n",
       "    <tr>\n",
       "      <th>3</th>\n",
       "      <td>04-01-2006</td>\n",
       "      <td>30.3834</td>\n",
       "    </tr>\n",
       "    <tr>\n",
       "      <th>4</th>\n",
       "      <td>05-01-2006</td>\n",
       "      <td>30.0295</td>\n",
       "    </tr>\n",
       "  </tbody>\n",
       "</table>\n",
       "</div>"
      ],
      "text/plain": [
       "         date  nex_tmax\n",
       "0  01-01-2006   30.0709\n",
       "1  02-01-2006   30.3630\n",
       "2  03-01-2006   30.2909\n",
       "3  04-01-2006   30.3834\n",
       "4  05-01-2006   30.0295"
      ]
     },
     "execution_count": 10,
     "metadata": {},
     "output_type": "execute_result"
    }
   ],
   "source": [
    "nex_test_raw.head()"
   ]
  },
  {
   "cell_type": "code",
   "execution_count": 11,
   "id": "d9501437",
   "metadata": {},
   "outputs": [],
   "source": [
    "nex_tmax = pd.DataFrame(nex_test_raw[\"nex_tmax\"], columns=['nex_tmax'])"
   ]
  },
  {
   "cell_type": "code",
   "execution_count": 12,
   "id": "6b10ecad",
   "metadata": {},
   "outputs": [
    {
     "data": {
      "text/html": [
       "<div>\n",
       "<style scoped>\n",
       "    .dataframe tbody tr th:only-of-type {\n",
       "        vertical-align: middle;\n",
       "    }\n",
       "\n",
       "    .dataframe tbody tr th {\n",
       "        vertical-align: top;\n",
       "    }\n",
       "\n",
       "    .dataframe thead th {\n",
       "        text-align: right;\n",
       "    }\n",
       "</style>\n",
       "<table border=\"1\" class=\"dataframe\">\n",
       "  <thead>\n",
       "    <tr style=\"text-align: right;\">\n",
       "      <th></th>\n",
       "      <th>nex_tmax</th>\n",
       "    </tr>\n",
       "  </thead>\n",
       "  <tbody>\n",
       "    <tr>\n",
       "      <th>0</th>\n",
       "      <td>30.0709</td>\n",
       "    </tr>\n",
       "    <tr>\n",
       "      <th>1</th>\n",
       "      <td>30.3630</td>\n",
       "    </tr>\n",
       "    <tr>\n",
       "      <th>2</th>\n",
       "      <td>30.2909</td>\n",
       "    </tr>\n",
       "    <tr>\n",
       "      <th>3</th>\n",
       "      <td>30.3834</td>\n",
       "    </tr>\n",
       "    <tr>\n",
       "      <th>4</th>\n",
       "      <td>30.0295</td>\n",
       "    </tr>\n",
       "    <tr>\n",
       "      <th>...</th>\n",
       "      <td>...</td>\n",
       "    </tr>\n",
       "    <tr>\n",
       "      <th>3645</th>\n",
       "      <td>29.3304</td>\n",
       "    </tr>\n",
       "    <tr>\n",
       "      <th>3646</th>\n",
       "      <td>30.7278</td>\n",
       "    </tr>\n",
       "    <tr>\n",
       "      <th>3647</th>\n",
       "      <td>30.7104</td>\n",
       "    </tr>\n",
       "    <tr>\n",
       "      <th>3648</th>\n",
       "      <td>30.2488</td>\n",
       "    </tr>\n",
       "    <tr>\n",
       "      <th>3649</th>\n",
       "      <td>30.5903</td>\n",
       "    </tr>\n",
       "  </tbody>\n",
       "</table>\n",
       "<p>3650 rows × 1 columns</p>\n",
       "</div>"
      ],
      "text/plain": [
       "      nex_tmax\n",
       "0      30.0709\n",
       "1      30.3630\n",
       "2      30.2909\n",
       "3      30.3834\n",
       "4      30.0295\n",
       "...        ...\n",
       "3645   29.3304\n",
       "3646   30.7278\n",
       "3647   30.7104\n",
       "3648   30.2488\n",
       "3649   30.5903\n",
       "\n",
       "[3650 rows x 1 columns]"
      ]
     },
     "execution_count": 12,
     "metadata": {},
     "output_type": "execute_result"
    }
   ],
   "source": [
    "nex_tmax"
   ]
  },
  {
   "cell_type": "code",
   "execution_count": 12,
   "id": "182c8a13",
   "metadata": {},
   "outputs": [
    {
     "name": "stdout",
     "output_type": "stream",
     "text": [
      "RMSE between IMD and NEX maximum temperature data = \n"
     ]
    },
    {
     "data": {
      "text/plain": [
       "2.1940757830264235"
      ]
     },
     "execution_count": 12,
     "metadata": {},
     "output_type": "execute_result"
    }
   ],
   "source": [
    "control_mse_test = mean_squared_error(test_labels, nex_tmax)\n",
    "control_rmse_test = np.sqrt(control_mse_test)\n",
    "print(\"RMSE between IMD and NEX maximum temperature data = \")\n",
    "control_rmse_test"
   ]
  },
  {
   "cell_type": "markdown",
   "id": "9abec156",
   "metadata": {},
   "source": [
    "### Scaling"
   ]
  },
  {
   "cell_type": "code",
   "execution_count": 13,
   "id": "1e7d8f18",
   "metadata": {},
   "outputs": [],
   "source": [
    "from sklearn.preprocessing import StandardScaler\n",
    "sc_X = StandardScaler()\n",
    "sc_y = StandardScaler()\n",
    "X_train = sc_X.fit_transform(Nex_train_final)\n",
    "y_train = sc_y.fit_transform(tmax_labels)\n",
    "X_test = sc_X.fit_transform(Nex_test_final)\n",
    "y_test = sc_y.fit_transform(test_labels)"
   ]
  },
  {
   "cell_type": "markdown",
   "id": "37f3de7f",
   "metadata": {},
   "source": [
    "### Support Vector Regression"
   ]
  },
  {
   "cell_type": "code",
   "execution_count": 14,
   "id": "0d231414",
   "metadata": {},
   "outputs": [
    {
     "name": "stderr",
     "output_type": "stream",
     "text": [
      "c:\\users\\narayan\\appdata\\local\\programs\\python\\python38\\lib\\site-packages\\sklearn\\utils\\validation.py:63: DataConversionWarning: A column-vector y was passed when a 1d array was expected. Please change the shape of y to (n_samples, ), for example using ravel().\n",
      "  return f(*args, **kwargs)\n"
     ]
    },
    {
     "data": {
      "text/plain": [
       "SVR()"
      ]
     },
     "execution_count": 14,
     "metadata": {},
     "output_type": "execute_result"
    }
   ],
   "source": [
    "from sklearn import svm\n",
    "tmax_svr = svm.SVR()\n",
    "tmax_svr.fit(X_train , y_train)"
   ]
  },
  {
   "cell_type": "code",
   "execution_count": 15,
   "id": "3f6947bb",
   "metadata": {},
   "outputs": [],
   "source": [
    "train_pred_svr = tmax_svr.predict(X_train)"
   ]
  },
  {
   "cell_type": "code",
   "execution_count": 16,
   "id": "ae76824a",
   "metadata": {},
   "outputs": [],
   "source": [
    "train_pred_svr = sc_y.inverse_transform(train_pred_svr)"
   ]
  },
  {
   "cell_type": "code",
   "execution_count": 17,
   "id": "3eaf8365",
   "metadata": {},
   "outputs": [
    {
     "name": "stdout",
     "output_type": "stream",
     "text": [
      "RMSE for Support Vector Regression over train set = \n"
     ]
    },
    {
     "data": {
      "text/plain": [
       "1.5933597283805132"
      ]
     },
     "execution_count": 17,
     "metadata": {},
     "output_type": "execute_result"
    }
   ],
   "source": [
    "#calculating RMSE over train set for SVR\n",
    "\n",
    "Nex_svr_mse_train = mean_squared_error(tmax_labels, train_pred_svr)\n",
    "Nex_svr_rmse_train = np.sqrt(Nex_svr_mse_train)\n",
    "print(\"RMSE for Support Vector Regression over train set = \")\n",
    "Nex_svr_rmse_train"
   ]
  },
  {
   "cell_type": "code",
   "execution_count": 18,
   "id": "9bbdef10",
   "metadata": {},
   "outputs": [],
   "source": [
    "test_pred_svr = tmax_svr.predict(X_test)"
   ]
  },
  {
   "cell_type": "code",
   "execution_count": 19,
   "id": "f939fcff",
   "metadata": {},
   "outputs": [],
   "source": [
    "test_pred_svr = sc_y.inverse_transform(test_pred_svr)"
   ]
  },
  {
   "cell_type": "code",
   "execution_count": 20,
   "id": "144280e1",
   "metadata": {},
   "outputs": [
    {
     "name": "stdout",
     "output_type": "stream",
     "text": [
      "RMSE for Support Vector Regression over test set = \n"
     ]
    },
    {
     "data": {
      "text/plain": [
       "1.6326791707287602"
      ]
     },
     "execution_count": 20,
     "metadata": {},
     "output_type": "execute_result"
    }
   ],
   "source": [
    "#calculating RMSE over train set for SVR\n",
    "from sklearn.metrics import mean_squared_error\n",
    "Nex_svr_mse_test = mean_squared_error(test_labels, test_pred_svr)\n",
    "Nex_svr_rmse_test = np.sqrt(Nex_svr_mse_test)\n",
    "print(\"RMSE for Support Vector Regression over test set = \")\n",
    "Nex_svr_rmse_test"
   ]
  },
  {
   "cell_type": "code",
   "execution_count": null,
   "id": "28a4c1de",
   "metadata": {},
   "outputs": [],
   "source": [
    "test_pred_svr.to_csv(r'D:\\IITM\\Predictions\\svr_scaled_preds.csv')"
   ]
  },
  {
   "cell_type": "markdown",
   "id": "35cee3a5",
   "metadata": {},
   "source": [
    "### MLP"
   ]
  },
  {
   "cell_type": "code",
   "execution_count": 21,
   "id": "47e20339",
   "metadata": {},
   "outputs": [],
   "source": [
    "from sklearn.neural_network import MLPRegressor\n",
    "from sklearn.model_selection import cross_val_score, GridSearchCV, TimeSeriesSplit"
   ]
  },
  {
   "cell_type": "code",
   "execution_count": 22,
   "id": "d3d258ed",
   "metadata": {},
   "outputs": [
    {
     "name": "stderr",
     "output_type": "stream",
     "text": [
      "c:\\users\\narayan\\appdata\\local\\programs\\python\\python38\\lib\\site-packages\\sklearn\\utils\\validation.py:63: DataConversionWarning: A column-vector y was passed when a 1d array was expected. Please change the shape of y to (n_samples, ), for example using ravel().\n",
      "  return f(*args, **kwargs)\n"
     ]
    },
    {
     "name": "stdout",
     "output_type": "stream",
     "text": [
      "0.7045561270049512\n",
      "{'activation': 'tanh', 'alpha': 1e-08, 'hidden_layer_sizes': 10, 'max_iter': 700, 'solver': 'lbfgs'}\n"
     ]
    },
    {
     "name": "stderr",
     "output_type": "stream",
     "text": [
      "c:\\users\\narayan\\appdata\\local\\programs\\python\\python38\\lib\\site-packages\\sklearn\\neural_network\\_multilayer_perceptron.py:500: ConvergenceWarning: lbfgs failed to converge (status=1):\n",
      "STOP: TOTAL NO. of ITERATIONS REACHED LIMIT.\n",
      "\n",
      "Increase the number of iterations (max_iter) or scale the data as shown in:\n",
      "    https://scikit-learn.org/stable/modules/preprocessing.html\n",
      "  self.n_iter_ = _check_optimize_result(\"lbfgs\", opt_res, self.max_iter)\n"
     ]
    }
   ],
   "source": [
    "parameters = {'alpha': 10.0 ** -np.arange(1, 10), 'hidden_layer_sizes':np.arange(10, 15), 'activation': ['identity', 'logistic', 'tanh', 'relu'], 'solver':['lbfgs'], 'max_iter': [700,800,900]}\n",
    "clf = GridSearchCV(MLPRegressor(), parameters, n_jobs=-1)\n",
    "\n",
    "clf.fit(X_train, y_train)\n",
    "print(clf.score(X_train, y_train))\n",
    "print(clf.best_params_)"
   ]
  },
  {
   "cell_type": "code",
   "execution_count": 25,
   "id": "e6d2212c",
   "metadata": {},
   "outputs": [
    {
     "name": "stderr",
     "output_type": "stream",
     "text": [
      "c:\\users\\narayan\\appdata\\local\\programs\\python\\python38\\lib\\site-packages\\sklearn\\utils\\validation.py:63: DataConversionWarning: A column-vector y was passed when a 1d array was expected. Please change the shape of y to (n_samples, ), for example using ravel().\n",
      "  return f(*args, **kwargs)\n"
     ]
    },
    {
     "name": "stdout",
     "output_type": "stream",
     "text": [
      "RMSE of the MLP with Grid Search on trainset:  1.6363799664476235 \n",
      "\n",
      "\n",
      "RMSE of the MLP with Grid Search on testset:  1.5738976274528127 \n",
      "\n",
      "\n"
     ]
    },
    {
     "name": "stderr",
     "output_type": "stream",
     "text": [
      "c:\\users\\narayan\\appdata\\local\\programs\\python\\python38\\lib\\site-packages\\sklearn\\neural_network\\_multilayer_perceptron.py:500: ConvergenceWarning: lbfgs failed to converge (status=1):\n",
      "STOP: TOTAL NO. of ITERATIONS REACHED LIMIT.\n",
      "\n",
      "Increase the number of iterations (max_iter) or scale the data as shown in:\n",
      "    https://scikit-learn.org/stable/modules/preprocessing.html\n",
      "  self.n_iter_ = _check_optimize_result(\"lbfgs\", opt_res, self.max_iter)\n"
     ]
    }
   ],
   "source": [
    "mlp_reg = MLPRegressor(activation='logistic', alpha= 0.1, hidden_layer_sizes= 10, max_iter= 700, solver='lbfgs')\n",
    "mlp_reg.fit(X_train, y_train)\n",
    "train_preds = mlp_reg.predict(X_train)\n",
    "test_preds = mlp_reg.predict(X_test)\n",
    "train_pred_mlp = sc_y.inverse_transform(train_preds)\n",
    "test_pred_mlp = sc_y.inverse_transform(test_preds)\n",
    "\n",
    "mlp_reg_mse_train = mean_squared_error(test_pred_mlp, test_labels)\n",
    "mlp_reg_mse_test = mean_squared_error(train_pred_mlp, tmax_labels)\n",
    "mlp_reg_rmse_train = np.sqrt(mlp_reg_mse_train)\n",
    "mlp_reg_rmse_test = np.sqrt(mlp_reg_mse_test)\n",
    "print(\"RMSE of the MLP with Grid Search on trainset: \", mlp_reg_rmse_train, \"\\n\\n\")\n",
    "print(\"RMSE of the MLP with Grid Search on testset: \", mlp_reg_rmse_test, \"\\n\\n\")"
   ]
  },
  {
   "cell_type": "code",
   "execution_count": 28,
   "id": "881eca12",
   "metadata": {},
   "outputs": [
    {
     "name": "stderr",
     "output_type": "stream",
     "text": [
      "c:\\users\\narayan\\appdata\\local\\programs\\python\\python38\\lib\\site-packages\\sklearn\\utils\\validation.py:63: DataConversionWarning: A column-vector y was passed when a 1d array was expected. Please change the shape of y to (n_samples, ), for example using ravel().\n",
      "  return f(*args, **kwargs)\n"
     ]
    },
    {
     "name": "stdout",
     "output_type": "stream",
     "text": [
      "RMSE of the MLP with Grid Search on trainset:  1.6313270126078279 \n",
      "\n",
      "\n",
      "RMSE of the MLP with Grid Search on testset:  1.5760448848896471 \n",
      "\n",
      "\n"
     ]
    }
   ],
   "source": [
    "mlp_reg = MLPRegressor(activation='logistic', alpha= 0.0001, hidden_layer_sizes= 10, max_iter= 700, solver='lbfgs')\n",
    "mlp_reg.fit(X_train, y_train)\n",
    "train_preds = mlp_reg.predict(X_train)\n",
    "test_preds = mlp_reg.predict(X_test)\n",
    "train_pred_mlp = sc_y.inverse_transform(train_preds)\n",
    "test_pred_mlp = sc_y.inverse_transform(test_preds)\n",
    "\n",
    "mlp_reg_mse_train = mean_squared_error(test_pred_mlp, test_labels)\n",
    "mlp_reg_mse_test = mean_squared_error(train_pred_mlp, tmax_labels)\n",
    "mlp_reg_rmse_train = np.sqrt(mlp_reg_mse_train)\n",
    "mlp_reg_rmse_test = np.sqrt(mlp_reg_mse_test)\n",
    "print(\"RMSE of the MLP with Grid Search on trainset: \", mlp_reg_rmse_train, \"\\n\\n\")\n",
    "print(\"RMSE of the MLP with Grid Search on testset: \", mlp_reg_rmse_test, \"\\n\\n\")"
   ]
  },
  {
   "cell_type": "code",
   "execution_count": 26,
   "id": "de47f403",
   "metadata": {},
   "outputs": [],
   "source": [
    "pred_mlp_test = pd.DataFrame(test_pred_mlp)"
   ]
  },
  {
   "cell_type": "code",
   "execution_count": 27,
   "id": "8a088e8a",
   "metadata": {},
   "outputs": [],
   "source": [
    "pred_mlp_test.to_csv(r'D:\\IITM\\Predictions\\mlp_test_preds.csv')"
   ]
  },
  {
   "cell_type": "code",
   "execution_count": 49,
   "id": "8cbe79db",
   "metadata": {},
   "outputs": [],
   "source": [
    "test_labels.to_csv(r'D:\\IITM\\Predictions\\test_labels.csv')"
   ]
  },
  {
   "cell_type": "code",
   "execution_count": 51,
   "id": "5dfca815",
   "metadata": {},
   "outputs": [
    {
     "data": {
      "text/html": [
       "<div>\n",
       "<style scoped>\n",
       "    .dataframe tbody tr th:only-of-type {\n",
       "        vertical-align: middle;\n",
       "    }\n",
       "\n",
       "    .dataframe tbody tr th {\n",
       "        vertical-align: top;\n",
       "    }\n",
       "\n",
       "    .dataframe thead th {\n",
       "        text-align: right;\n",
       "    }\n",
       "</style>\n",
       "<table border=\"1\" class=\"dataframe\">\n",
       "  <thead>\n",
       "    <tr style=\"text-align: right;\">\n",
       "      <th></th>\n",
       "      <th>Date</th>\n",
       "      <th>mlp_test_preds</th>\n",
       "      <th>tmax</th>\n",
       "    </tr>\n",
       "  </thead>\n",
       "  <tbody>\n",
       "    <tr>\n",
       "      <th>0</th>\n",
       "      <td>2006 JAN 01     29.7</td>\n",
       "      <td>30.363925</td>\n",
       "      <td>29.7</td>\n",
       "    </tr>\n",
       "    <tr>\n",
       "      <th>1</th>\n",
       "      <td>2006 JAN 02     30.0</td>\n",
       "      <td>30.472563</td>\n",
       "      <td>30.0</td>\n",
       "    </tr>\n",
       "    <tr>\n",
       "      <th>2</th>\n",
       "      <td>2006 JAN 03     28.2</td>\n",
       "      <td>30.471993</td>\n",
       "      <td>28.2</td>\n",
       "    </tr>\n",
       "    <tr>\n",
       "      <th>3</th>\n",
       "      <td>2006 JAN 04     28.3</td>\n",
       "      <td>30.385571</td>\n",
       "      <td>28.3</td>\n",
       "    </tr>\n",
       "    <tr>\n",
       "      <th>4</th>\n",
       "      <td>2006 JAN 05     29.6</td>\n",
       "      <td>30.228274</td>\n",
       "      <td>29.6</td>\n",
       "    </tr>\n",
       "  </tbody>\n",
       "</table>\n",
       "</div>"
      ],
      "text/plain": [
       "                    Date  mlp_test_preds  tmax\n",
       "0   2006 JAN 01     29.7       30.363925  29.7\n",
       "1   2006 JAN 02     30.0       30.472563  30.0\n",
       "2   2006 JAN 03     28.2       30.471993  28.2\n",
       "3   2006 JAN 04     28.3       30.385571  28.3\n",
       "4   2006 JAN 05     29.6       30.228274  29.6"
      ]
     },
     "execution_count": 51,
     "metadata": {},
     "output_type": "execute_result"
    }
   ],
   "source": [
    "mlp_test_pred = pd.read_csv(r'D:\\IITM\\Predictions\\mlp_test_pred_withdate_01.csv')\n",
    "mlp_test_pred.head()"
   ]
  },
  {
   "cell_type": "code",
   "execution_count": 69,
   "id": "83ee22f1",
   "metadata": {},
   "outputs": [],
   "source": [
    "mlp_test_pred= pd.read_csv(r'D:\\IITM\\Predictions\\mlp_test_pred_withdate_01.csv')"
   ]
  },
  {
   "cell_type": "code",
   "execution_count": 70,
   "id": "f95c7acd",
   "metadata": {},
   "outputs": [],
   "source": [
    "mlp_test_pred['Date'] = pd.to_datetime(mlp_test_pred['Date'])"
   ]
  },
  {
   "cell_type": "code",
   "execution_count": 71,
   "id": "d5a555cb",
   "metadata": {},
   "outputs": [
    {
     "data": {
      "text/html": [
       "<div>\n",
       "<style scoped>\n",
       "    .dataframe tbody tr th:only-of-type {\n",
       "        vertical-align: middle;\n",
       "    }\n",
       "\n",
       "    .dataframe tbody tr th {\n",
       "        vertical-align: top;\n",
       "    }\n",
       "\n",
       "    .dataframe thead th {\n",
       "        text-align: right;\n",
       "    }\n",
       "</style>\n",
       "<table border=\"1\" class=\"dataframe\">\n",
       "  <thead>\n",
       "    <tr style=\"text-align: right;\">\n",
       "      <th></th>\n",
       "      <th>index</th>\n",
       "      <th>Date</th>\n",
       "      <th>mlp_test_preds</th>\n",
       "      <th>nex_tmax</th>\n",
       "      <th>imd_tmax</th>\n",
       "    </tr>\n",
       "  </thead>\n",
       "  <tbody>\n",
       "    <tr>\n",
       "      <th>0</th>\n",
       "      <td>1</td>\n",
       "      <td>2006-01-01</td>\n",
       "      <td>30.363925</td>\n",
       "      <td>30.0709</td>\n",
       "      <td>29.7</td>\n",
       "    </tr>\n",
       "    <tr>\n",
       "      <th>1</th>\n",
       "      <td>2</td>\n",
       "      <td>2006-02-01</td>\n",
       "      <td>30.472563</td>\n",
       "      <td>30.3630</td>\n",
       "      <td>30.0</td>\n",
       "    </tr>\n",
       "    <tr>\n",
       "      <th>2</th>\n",
       "      <td>3</td>\n",
       "      <td>2006-03-01</td>\n",
       "      <td>30.471993</td>\n",
       "      <td>30.2909</td>\n",
       "      <td>28.2</td>\n",
       "    </tr>\n",
       "    <tr>\n",
       "      <th>3</th>\n",
       "      <td>4</td>\n",
       "      <td>2006-04-01</td>\n",
       "      <td>30.385571</td>\n",
       "      <td>30.3834</td>\n",
       "      <td>28.3</td>\n",
       "    </tr>\n",
       "    <tr>\n",
       "      <th>4</th>\n",
       "      <td>5</td>\n",
       "      <td>2006-05-01</td>\n",
       "      <td>30.228274</td>\n",
       "      <td>30.0295</td>\n",
       "      <td>29.6</td>\n",
       "    </tr>\n",
       "    <tr>\n",
       "      <th>...</th>\n",
       "      <td>...</td>\n",
       "      <td>...</td>\n",
       "      <td>...</td>\n",
       "      <td>...</td>\n",
       "      <td>...</td>\n",
       "    </tr>\n",
       "    <tr>\n",
       "      <th>3645</th>\n",
       "      <td>3646</td>\n",
       "      <td>2015-12-25</td>\n",
       "      <td>30.382385</td>\n",
       "      <td>29.3304</td>\n",
       "      <td>29.4</td>\n",
       "    </tr>\n",
       "    <tr>\n",
       "      <th>3646</th>\n",
       "      <td>3647</td>\n",
       "      <td>2015-12-26</td>\n",
       "      <td>30.572723</td>\n",
       "      <td>30.7278</td>\n",
       "      <td>29.4</td>\n",
       "    </tr>\n",
       "    <tr>\n",
       "      <th>3647</th>\n",
       "      <td>3648</td>\n",
       "      <td>2015-12-27</td>\n",
       "      <td>30.518250</td>\n",
       "      <td>30.7104</td>\n",
       "      <td>30.8</td>\n",
       "    </tr>\n",
       "    <tr>\n",
       "      <th>3648</th>\n",
       "      <td>3649</td>\n",
       "      <td>2015-12-28</td>\n",
       "      <td>30.551383</td>\n",
       "      <td>30.2488</td>\n",
       "      <td>32.2</td>\n",
       "    </tr>\n",
       "    <tr>\n",
       "      <th>3649</th>\n",
       "      <td>3650</td>\n",
       "      <td>2015-12-29</td>\n",
       "      <td>30.548467</td>\n",
       "      <td>30.5903</td>\n",
       "      <td>33.6</td>\n",
       "    </tr>\n",
       "  </tbody>\n",
       "</table>\n",
       "<p>3650 rows × 5 columns</p>\n",
       "</div>"
      ],
      "text/plain": [
       "      index       Date  mlp_test_preds  nex_tmax  imd_tmax\n",
       "0         1 2006-01-01       30.363925   30.0709      29.7\n",
       "1         2 2006-02-01       30.472563   30.3630      30.0\n",
       "2         3 2006-03-01       30.471993   30.2909      28.2\n",
       "3         4 2006-04-01       30.385571   30.3834      28.3\n",
       "4         5 2006-05-01       30.228274   30.0295      29.6\n",
       "...     ...        ...             ...       ...       ...\n",
       "3645   3646 2015-12-25       30.382385   29.3304      29.4\n",
       "3646   3647 2015-12-26       30.572723   30.7278      29.4\n",
       "3647   3648 2015-12-27       30.518250   30.7104      30.8\n",
       "3648   3649 2015-12-28       30.551383   30.2488      32.2\n",
       "3649   3650 2015-12-29       30.548467   30.5903      33.6\n",
       "\n",
       "[3650 rows x 5 columns]"
      ]
     },
     "execution_count": 71,
     "metadata": {},
     "output_type": "execute_result"
    }
   ],
   "source": [
    "mlp_test_pred"
   ]
  },
  {
   "cell_type": "code",
   "execution_count": 80,
   "id": "fc33053e",
   "metadata": {},
   "outputs": [
    {
     "data": {
      "text/plain": [
       "<matplotlib.legend.Legend at 0x2b28cdb3850>"
      ]
     },
     "execution_count": 80,
     "metadata": {},
     "output_type": "execute_result"
    },
    {
     "data": {
      "image/png": "[encoded data removed]",
      "text/plain": [
       "<Figure size 432x288 with 1 Axes>"
      ]
     },
     "metadata": {
      "needs_background": "light"
     },
     "output_type": "display_data"
    }
   ],
   "source": [
    "plt.plot(mlp_test_pred['index'], mlp_test_pred['imd_tmax'], label =\"IMD\")\n",
    "plt.plot(mlp_test_pred['index'],mlp_test_pred['nex_tmax'], label =\"NEX\")\n",
    "plt.plot(mlp_test_pred['index'], mlp_test_pred['mlp_test_preds'], label =\"MLP\")\n",
    "plt.legend()"
   ]
  },
  {
   "cell_type": "markdown",
   "id": "5508855c",
   "metadata": {},
   "source": [
    "It can be clearly seen that MLP Regressor has avoided the overestimations done by the NEX25 downscaling."
   ]
  },
  {
   "cell_type": "code",
   "execution_count": 79,
   "id": "840dcdb3",
   "metadata": {
    "scrolled": true
   },
   "outputs": [
    {
     "data": {
      "text/plain": [
       "<matplotlib.legend.Legend at 0x2b28cd1f5b0>"
      ]
     },
     "execution_count": 79,
     "metadata": {},
     "output_type": "execute_result"
    },
    {
     "data": {
      "image/png": "[encoded data removed]",
      "text/plain": [
       "<Figure size 432x288 with 1 Axes>"
      ]
     },
     "metadata": {
      "needs_background": "light"
     },
     "output_type": "display_data"
    }
   ],
   "source": [
    "plt.plot(mlp_test_pred['index'], mlp_test_pred['imd_tmax'], label =\"IMD\")\n",
    "plt.plot(mlp_test_pred['index'], mlp_test_pred['mlp_test_preds'], label =\"MLP\")\n",
    "\n",
    "plt.legend()"
   ]
  },
  {
   "cell_type": "code",
   "execution_count": 81,
   "id": "fb494bb3",
   "metadata": {},
   "outputs": [
    {
     "data": {
      "text/plain": [
       "<matplotlib.legend.Legend at 0x2b28cecc340>"
      ]
     },
     "execution_count": 81,
     "metadata": {},
     "output_type": "execute_result"
    },
    {
     "data": {
      "image/png": "[encoded data removed]",
      "text/plain": [
       "<Figure size 432x288 with 1 Axes>"
      ]
     },
     "metadata": {
      "needs_background": "light"
     },
     "output_type": "display_data"
    }
   ],
   "source": [
    "plt.plot(mlp_test_pred['index'], mlp_test_pred['imd_tmax'], label =\"IMD\")\n",
    "plt.plot(mlp_test_pred['index'], mlp_test_pred['nex_tmax'], label =\"NEX\")\n",
    "\n",
    "plt.legend()"
   ]
  },
  {
   "cell_type": "markdown",
   "id": "02679aa1",
   "metadata": {},
   "source": [
    "### Linear Regression"
   ]
  },
  {
   "cell_type": "code",
   "execution_count": 29,
   "id": "ccadecdb",
   "metadata": {},
   "outputs": [
    {
     "data": {
      "text/plain": [
       "LinearRegression()"
      ]
     },
     "execution_count": 29,
     "metadata": {},
     "output_type": "execute_result"
    }
   ],
   "source": [
    "from sklearn.linear_model import LinearRegression\n",
    "lin_reg = LinearRegression()\n",
    "lin_reg.fit(X_train, y_train)"
   ]
  },
  {
   "cell_type": "code",
   "execution_count": 30,
   "id": "259d215d",
   "metadata": {},
   "outputs": [
    {
     "name": "stdout",
     "output_type": "stream",
     "text": [
      "RMSE of the Linear Regression with scaling trainset:  1.723469596775698 \n",
      "\n",
      "RMSE of the Linear Regression with scaling testset:  246118159071.60626 \n",
      "\n"
     ]
    }
   ],
   "source": [
    "lin_reg_train_preds = lin_reg.predict(X_train)\n",
    "lin_reg_test_preds = lin_reg.predict(X_test)\n",
    "train_pred_lr = sc_y.inverse_transform(lin_reg_train_preds)\n",
    "test_pred_lr = sc_y.inverse_transform(lin_reg_test_preds)\n",
    "\n",
    "lin_reg_mse_train = mean_squared_error(train_pred_lr, tmax_labels)\n",
    "lin_reg_mse_test = mean_squared_error(test_pred_lr, test_labels)\n",
    "lin_reg_rmse_train = np.sqrt(lin_reg_mse_train)\n",
    "lin_reg_rmse_test = np.sqrt(lin_reg_mse_test)\n",
    "print(\"RMSE of the Linear Regression with scaling trainset: \", lin_reg_rmse_train,\"\\n\")\n",
    "print(\"RMSE of the Linear Regression with scaling testset: \", lin_reg_rmse_test, \"\\n\")"
   ]
  },
  {
   "cell_type": "markdown",
   "id": "d6af2f77",
   "metadata": {},
   "source": [
    "### Random Forest Regressor"
   ]
  },
  {
   "cell_type": "code",
   "execution_count": 31,
   "id": "4b60302a",
   "metadata": {},
   "outputs": [],
   "source": [
    "from sklearn.ensemble import RandomForestRegressor\n",
    "from sklearn.model_selection import cross_val_score, GridSearchCV, TimeSeriesSplit"
   ]
  },
  {
   "cell_type": "code",
   "execution_count": null,
   "id": "f9c42422",
   "metadata": {},
   "outputs": [],
   "source": [
    "estimator = RandomForestRegressor()\n",
    "param_grid = { \n",
    "            \"n_estimators\"      : [400, 500, 600, 700, 800],\n",
    "            \"max_features\"      : [\"auto\", \"sqrt\", \"log2\"],\n",
    "            \"min_samples_split\" : [2,4,8],\n",
    "            \"bootstrap\": [True, False],\n",
    "            }\n",
    "\n",
    "grid = GridSearchCV(estimator, param_grid, n_jobs=-1, cv=5)\n",
    "\n",
    "grid.fit(X_train, y_train)\n",
    "return grid.best_score_ , grid.best_params_"
   ]
  },
  {
   "cell_type": "code",
   "execution_count": null,
   "id": "9b18fcc8",
   "metadata": {},
   "outputs": [],
   "source": []
  }
 ],
 "metadata": {
  "kernelspec": {
   "display_name": "Python 3 (ipykernel)",
   "language": "python",
   "name": "python3"
  },
  "language_info": {
   "codemirror_mode": {
    "name": "ipython",
    "version": 3
   },
   "file_extension": ".py",
   "mimetype": "text/x-python",
   "name": "python",
   "nbconvert_exporter": "python",
   "pygments_lexer": "ipython3",
   "version": "3.8.4"
  },
  "toc": {
   "base_numbering": 1,
   "nav_menu": {},
   "number_sections": true,
   "sideBar": true,
   "skip_h1_title": false,
   "title_cell": "Table of Contents",
   "title_sidebar": "Contents",
   "toc_cell": false,
   "toc_position": {},
   "toc_section_display": true,
   "toc_window_display": false
  }
 },
 "nbformat": 4,
 "nbformat_minor": 5
}
