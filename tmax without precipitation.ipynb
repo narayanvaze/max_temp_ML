{
 "cells": [
  {
   "cell_type": "code",
   "execution_count": 1,
   "id": "511c45eb",
   "metadata": {},
   "outputs": [],
   "source": [
    "import pandas as pd\n",
    "import matplotlib.pyplot as plt\n",
    "import numpy as np\n",
    "%matplotlib inline\n",
    "from sklearn.metrics import mean_squared_error"
   ]
  },
  {
   "cell_type": "code",
   "execution_count": 2,
   "id": "0b21df15",
   "metadata": {},
   "outputs": [
    {
     "data": {
      "text/html": [
       "<div>\n",
       "<style scoped>\n",
       "    .dataframe tbody tr th:only-of-type {\n",
       "        vertical-align: middle;\n",
       "    }\n",
       "\n",
       "    .dataframe tbody tr th {\n",
       "        vertical-align: top;\n",
       "    }\n",
       "\n",
       "    .dataframe thead th {\n",
       "        text-align: right;\n",
       "    }\n",
       "</style>\n",
       "<table border=\"1\" class=\"dataframe\">\n",
       "  <thead>\n",
       "    <tr style=\"text-align: right;\">\n",
       "      <th></th>\n",
       "      <th>tmax</th>\n",
       "    </tr>\n",
       "  </thead>\n",
       "  <tbody>\n",
       "    <tr>\n",
       "      <th>0</th>\n",
       "      <td>28.4</td>\n",
       "    </tr>\n",
       "    <tr>\n",
       "      <th>1</th>\n",
       "      <td>29.4</td>\n",
       "    </tr>\n",
       "    <tr>\n",
       "      <th>2</th>\n",
       "      <td>29.1</td>\n",
       "    </tr>\n",
       "    <tr>\n",
       "      <th>3</th>\n",
       "      <td>28.3</td>\n",
       "    </tr>\n",
       "    <tr>\n",
       "      <th>4</th>\n",
       "      <td>28.5</td>\n",
       "    </tr>\n",
       "  </tbody>\n",
       "</table>\n",
       "</div>"
      ],
      "text/plain": [
       "   tmax\n",
       "0  28.4\n",
       "1  29.4\n",
       "2  29.1\n",
       "3  28.3\n",
       "4  28.5"
      ]
     },
     "execution_count": 2,
     "metadata": {},
     "output_type": "execute_result"
    }
   ],
   "source": [
    "pune_tmax_train = pd.read_csv(r'D:\\IITM\\converted_to_csv\\imd5p5_tmax_train_clean.csv')\n",
    "Nex_train = pd.read_csv(r'D:\\IITM\\prepared data\\Nex_train_ready.csv')\n",
    "\n",
    "pune_tmax_test = pd.read_csv(r'D:\\IITM\\converted_to_csv\\imd5p5_tmax_pune_test.csv')\n",
    "Nex_test = pd.read_csv(r'D:\\IITM\\prepared data\\Nex_test_ready.csv')\n",
    "\n",
    "#using pune tmax values as labels \n",
    "tmax_labels = pd.DataFrame(pune_tmax_train,columns=[\"tmax\"])\n",
    "tmax_labels.head() # .head() function gives out first 5 rows of the datset "
   ]
  },
  {
   "cell_type": "markdown",
   "id": "31e71b1e",
   "metadata": {},
   "source": [
    "Precipitation is not used as a feature"
   ]
  },
  {
   "cell_type": "code",
   "execution_count": 3,
   "id": "fd1f5f6f",
   "metadata": {},
   "outputs": [
    {
     "data": {
      "text/html": [
       "<div>\n",
       "<style scoped>\n",
       "    .dataframe tbody tr th:only-of-type {\n",
       "        vertical-align: middle;\n",
       "    }\n",
       "\n",
       "    .dataframe tbody tr th {\n",
       "        vertical-align: top;\n",
       "    }\n",
       "\n",
       "    .dataframe thead th {\n",
       "        text-align: right;\n",
       "    }\n",
       "</style>\n",
       "<table border=\"1\" class=\"dataframe\">\n",
       "  <thead>\n",
       "    <tr style=\"text-align: right;\">\n",
       "      <th></th>\n",
       "      <th>nex_tmax</th>\n",
       "      <th>nex_tmin</th>\n",
       "      <th>nex_tmean</th>\n",
       "    </tr>\n",
       "  </thead>\n",
       "  <tbody>\n",
       "    <tr>\n",
       "      <th>0</th>\n",
       "      <td>30.1280</td>\n",
       "      <td>10.7089</td>\n",
       "      <td>20.41845</td>\n",
       "    </tr>\n",
       "    <tr>\n",
       "      <th>1</th>\n",
       "      <td>30.4229</td>\n",
       "      <td>10.5904</td>\n",
       "      <td>20.50665</td>\n",
       "    </tr>\n",
       "    <tr>\n",
       "      <th>2</th>\n",
       "      <td>30.4062</td>\n",
       "      <td>10.6063</td>\n",
       "      <td>20.50625</td>\n",
       "    </tr>\n",
       "    <tr>\n",
       "      <th>3</th>\n",
       "      <td>30.5158</td>\n",
       "      <td>11.8068</td>\n",
       "      <td>21.16130</td>\n",
       "    </tr>\n",
       "    <tr>\n",
       "      <th>4</th>\n",
       "      <td>30.4171</td>\n",
       "      <td>13.2873</td>\n",
       "      <td>21.85220</td>\n",
       "    </tr>\n",
       "  </tbody>\n",
       "</table>\n",
       "</div>"
      ],
      "text/plain": [
       "   nex_tmax  nex_tmin  nex_tmean\n",
       "0   30.1280   10.7089   20.41845\n",
       "1   30.4229   10.5904   20.50665\n",
       "2   30.4062   10.6063   20.50625\n",
       "3   30.5158   11.8068   21.16130\n",
       "4   30.4171   13.2873   21.85220"
      ]
     },
     "execution_count": 3,
     "metadata": {},
     "output_type": "execute_result"
    }
   ],
   "source": [
    "Nex_train.head()"
   ]
  },
  {
   "cell_type": "code",
   "execution_count": 4,
   "id": "8a62cc49",
   "metadata": {},
   "outputs": [
    {
     "data": {
      "text/html": [
       "<div>\n",
       "<style scoped>\n",
       "    .dataframe tbody tr th:only-of-type {\n",
       "        vertical-align: middle;\n",
       "    }\n",
       "\n",
       "    .dataframe tbody tr th {\n",
       "        vertical-align: top;\n",
       "    }\n",
       "\n",
       "    .dataframe thead th {\n",
       "        text-align: right;\n",
       "    }\n",
       "</style>\n",
       "<table border=\"1\" class=\"dataframe\">\n",
       "  <thead>\n",
       "    <tr style=\"text-align: right;\">\n",
       "      <th></th>\n",
       "      <th>nex_tmax</th>\n",
       "      <th>nex_tmin</th>\n",
       "      <th>nex_tmean</th>\n",
       "    </tr>\n",
       "  </thead>\n",
       "  <tbody>\n",
       "    <tr>\n",
       "      <th>0</th>\n",
       "      <td>30.0709</td>\n",
       "      <td>14.5580</td>\n",
       "      <td>22.31445</td>\n",
       "    </tr>\n",
       "    <tr>\n",
       "      <th>1</th>\n",
       "      <td>30.3630</td>\n",
       "      <td>14.8125</td>\n",
       "      <td>22.58775</td>\n",
       "    </tr>\n",
       "    <tr>\n",
       "      <th>2</th>\n",
       "      <td>30.2909</td>\n",
       "      <td>14.9060</td>\n",
       "      <td>22.59845</td>\n",
       "    </tr>\n",
       "    <tr>\n",
       "      <th>3</th>\n",
       "      <td>30.3834</td>\n",
       "      <td>14.2860</td>\n",
       "      <td>22.33470</td>\n",
       "    </tr>\n",
       "    <tr>\n",
       "      <th>4</th>\n",
       "      <td>30.0295</td>\n",
       "      <td>13.7385</td>\n",
       "      <td>21.88400</td>\n",
       "    </tr>\n",
       "  </tbody>\n",
       "</table>\n",
       "</div>"
      ],
      "text/plain": [
       "   nex_tmax  nex_tmin  nex_tmean\n",
       "0   30.0709   14.5580   22.31445\n",
       "1   30.3630   14.8125   22.58775\n",
       "2   30.2909   14.9060   22.59845\n",
       "3   30.3834   14.2860   22.33470\n",
       "4   30.0295   13.7385   21.88400"
      ]
     },
     "execution_count": 4,
     "metadata": {},
     "output_type": "execute_result"
    }
   ],
   "source": [
    "Nex_test.head()"
   ]
  },
  {
   "cell_type": "code",
   "execution_count": 5,
   "id": "8ef0cdfd",
   "metadata": {},
   "outputs": [
    {
     "data": {
      "text/html": [
       "<div>\n",
       "<style scoped>\n",
       "    .dataframe tbody tr th:only-of-type {\n",
       "        vertical-align: middle;\n",
       "    }\n",
       "\n",
       "    .dataframe tbody tr th {\n",
       "        vertical-align: top;\n",
       "    }\n",
       "\n",
       "    .dataframe thead th {\n",
       "        text-align: right;\n",
       "    }\n",
       "</style>\n",
       "<table border=\"1\" class=\"dataframe\">\n",
       "  <thead>\n",
       "    <tr style=\"text-align: right;\">\n",
       "      <th></th>\n",
       "      <th>tmax</th>\n",
       "    </tr>\n",
       "  </thead>\n",
       "  <tbody>\n",
       "    <tr>\n",
       "      <th>0</th>\n",
       "      <td>29.7</td>\n",
       "    </tr>\n",
       "    <tr>\n",
       "      <th>1</th>\n",
       "      <td>30.0</td>\n",
       "    </tr>\n",
       "    <tr>\n",
       "      <th>2</th>\n",
       "      <td>28.2</td>\n",
       "    </tr>\n",
       "    <tr>\n",
       "      <th>3</th>\n",
       "      <td>28.3</td>\n",
       "    </tr>\n",
       "    <tr>\n",
       "      <th>4</th>\n",
       "      <td>29.6</td>\n",
       "    </tr>\n",
       "  </tbody>\n",
       "</table>\n",
       "</div>"
      ],
      "text/plain": [
       "   tmax\n",
       "0  29.7\n",
       "1  30.0\n",
       "2  28.2\n",
       "3  28.3\n",
       "4  29.6"
      ]
     },
     "execution_count": 5,
     "metadata": {},
     "output_type": "execute_result"
    }
   ],
   "source": [
    "test_labels = pd.DataFrame(pune_tmax_test,columns=[\"tmax\"])\n",
    "test_labels.head()"
   ]
  },
  {
   "cell_type": "markdown",
   "id": "59506489",
   "metadata": {},
   "source": [
    "### Scaling"
   ]
  },
  {
   "cell_type": "code",
   "execution_count": 6,
   "id": "60369a69",
   "metadata": {},
   "outputs": [],
   "source": [
    "from sklearn.preprocessing import StandardScaler\n",
    "sc_X = StandardScaler()\n",
    "sc_y = StandardScaler()\n",
    "X_train = sc_X.fit_transform(Nex_train)\n",
    "y_train = sc_y.fit_transform(tmax_labels)\n",
    "X_test = sc_X.fit_transform(Nex_test)\n",
    "y_test = sc_y.fit_transform(test_labels)"
   ]
  },
  {
   "cell_type": "markdown",
   "id": "2c7be0e7",
   "metadata": {},
   "source": [
    "### SVR"
   ]
  },
  {
   "cell_type": "code",
   "execution_count": 7,
   "id": "c91344c4",
   "metadata": {},
   "outputs": [
    {
     "name": "stderr",
     "output_type": "stream",
     "text": [
      "c:\\users\\narayan\\appdata\\local\\programs\\python\\python38\\lib\\site-packages\\sklearn\\utils\\validation.py:63: DataConversionWarning: A column-vector y was passed when a 1d array was expected. Please change the shape of y to (n_samples, ), for example using ravel().\n",
      "  return f(*args, **kwargs)\n"
     ]
    },
    {
     "data": {
      "text/plain": [
       "SVR()"
      ]
     },
     "execution_count": 7,
     "metadata": {},
     "output_type": "execute_result"
    }
   ],
   "source": [
    "from sklearn import svm\n",
    "tmax_svr = svm.SVR()\n",
    "tmax_svr.fit(X_train , y_train)"
   ]
  },
  {
   "cell_type": "code",
   "execution_count": 8,
   "id": "8eb6c20f",
   "metadata": {},
   "outputs": [],
   "source": [
    "train_pred_svr = tmax_svr.predict(X_train)"
   ]
  },
  {
   "cell_type": "code",
   "execution_count": 9,
   "id": "dba74a4a",
   "metadata": {},
   "outputs": [],
   "source": [
    "train_pred_svr = sc_y.inverse_transform(train_pred_svr)"
   ]
  },
  {
   "cell_type": "code",
   "execution_count": 10,
   "id": "7a4fcf8c",
   "metadata": {},
   "outputs": [
    {
     "name": "stdout",
     "output_type": "stream",
     "text": [
      "RMSE for Support Vector Regression over train set = \n"
     ]
    },
    {
     "data": {
      "text/plain": [
       "1.6117484243886235"
      ]
     },
     "execution_count": 10,
     "metadata": {},
     "output_type": "execute_result"
    }
   ],
   "source": [
    "#calculating RMSE over train set for SVR\n",
    "\n",
    "Nex_svr_mse_train = mean_squared_error(tmax_labels, train_pred_svr)\n",
    "Nex_svr_rmse_train = np.sqrt(Nex_svr_mse_train)\n",
    "print(\"RMSE for Support Vector Regression over train set = \")\n",
    "Nex_svr_rmse_train"
   ]
  },
  {
   "cell_type": "code",
   "execution_count": 11,
   "id": "d4b32f20",
   "metadata": {},
   "outputs": [],
   "source": [
    "test_pred_svr = tmax_svr.predict(X_test)\n",
    "test_pred_svr = sc_y.inverse_transform(test_pred_svr)"
   ]
  },
  {
   "cell_type": "code",
   "execution_count": 12,
   "id": "550419ab",
   "metadata": {},
   "outputs": [
    {
     "name": "stdout",
     "output_type": "stream",
     "text": [
      "RMSE for Support Vector Regression over test set = \n"
     ]
    },
    {
     "data": {
      "text/plain": [
       "1.6497879192481564"
      ]
     },
     "execution_count": 12,
     "metadata": {},
     "output_type": "execute_result"
    }
   ],
   "source": [
    "#calculating RMSE over train set for SVR\n",
    "from sklearn.metrics import mean_squared_error\n",
    "Nex_svr_mse_test = mean_squared_error(test_labels, test_pred_svr)\n",
    "Nex_svr_rmse_test = np.sqrt(Nex_svr_mse_test)\n",
    "print(\"RMSE for Support Vector Regression over test set = \")\n",
    "Nex_svr_rmse_test"
   ]
  },
  {
   "cell_type": "code",
   "execution_count": null,
   "id": "4240a441",
   "metadata": {},
   "outputs": [],
   "source": []
  },
  {
   "cell_type": "code",
   "execution_count": 21,
   "id": "e66aadce",
   "metadata": {},
   "outputs": [
    {
     "name": "stderr",
     "output_type": "stream",
     "text": [
      "c:\\users\\narayan\\appdata\\local\\programs\\python\\python38\\lib\\site-packages\\sklearn\\utils\\validation.py:63: DataConversionWarning: A column-vector y was passed when a 1d array was expected. Please change the shape of y to (n_samples, ), for example using ravel().\n",
      "  return f(*args, **kwargs)\n"
     ]
    },
    {
     "name": "stdout",
     "output_type": "stream",
     "text": [
      "0.6885849890218079\n",
      "{'C': 0.1, 'gamma': 'auto', 'kernel': 'rbf'}\n"
     ]
    }
   ],
   "source": [
    "svr_para = {'kernel':['linear', 'poly', 'rbf', 'sigmoid'], 'gamma':['scale', 'auto'],'C':[0.1,1,5]}\n",
    "svr_tune = GridSearchCV(svm.SVR(), param_grid = svr_para, n_jobs=-1)\n",
    "svr_tune.fit(X_train, y_train)\n",
    "print(svr_tune.score(X_train, y_train))\n",
    "print(svr_tune.best_params_)"
   ]
  },
  {
   "cell_type": "code",
   "execution_count": 22,
   "id": "8c7bedde",
   "metadata": {
    "scrolled": true
   },
   "outputs": [
    {
     "name": "stderr",
     "output_type": "stream",
     "text": [
      "c:\\users\\narayan\\appdata\\local\\programs\\python\\python38\\lib\\site-packages\\sklearn\\utils\\validation.py:63: DataConversionWarning: A column-vector y was passed when a 1d array was expected. Please change the shape of y to (n_samples, ), for example using ravel().\n",
      "  return f(*args, **kwargs)\n"
     ]
    },
    {
     "data": {
      "text/plain": [
       "SVR(C=0.1, gamma='auto')"
      ]
     },
     "execution_count": 22,
     "metadata": {},
     "output_type": "execute_result"
    }
   ],
   "source": [
    "svr_tuned = svm.SVR(C= 0.1,gamma='auto',kernel='rbf')\n",
    "svr_tuned.fit(X_train , y_train)"
   ]
  },
  {
   "cell_type": "code",
   "execution_count": 23,
   "id": "9d939a33",
   "metadata": {},
   "outputs": [
    {
     "name": "stdout",
     "output_type": "stream",
     "text": [
      "RMSE for Support Vector Regression over train set = \n"
     ]
    },
    {
     "data": {
      "text/plain": [
       "1.6208003869866767"
      ]
     },
     "execution_count": 23,
     "metadata": {},
     "output_type": "execute_result"
    }
   ],
   "source": [
    "svr_tuned_train_pred = svr_tuned.predict(X_train)\n",
    "svr_tuned_train_pred = sc_y.inverse_transform(svr_tuned_train_pred)\n",
    "#calculating RMSE over train set for SVR\n",
    "\n",
    "Nex_svr_mse_train = mean_squared_error(tmax_labels, svr_tuned_train_pred)\n",
    "Nex_svr_rmse_train = np.sqrt(Nex_svr_mse_train)\n",
    "print(\"RMSE for Support Vector Regression over train set = \")\n",
    "Nex_svr_rmse_train"
   ]
  },
  {
   "cell_type": "code",
   "execution_count": 24,
   "id": "7ebf1058",
   "metadata": {},
   "outputs": [
    {
     "name": "stdout",
     "output_type": "stream",
     "text": [
      "RMSE for Support Vector Regression over test set = \n"
     ]
    },
    {
     "data": {
      "text/plain": [
       "1.639279609780081"
      ]
     },
     "execution_count": 24,
     "metadata": {},
     "output_type": "execute_result"
    }
   ],
   "source": [
    "svr_tuned_test_pred = svr_tuned.predict(X_test)\n",
    "svr_tuned_test_pred = sc_y.inverse_transform(svr_tuned_test_pred)\n",
    "#calculating RMSE over train set for SVR\n",
    "from sklearn.metrics import mean_squared_error\n",
    "Nex_svr_mse_test = mean_squared_error(test_labels, svr_tuned_test_pred)\n",
    "Nex_svr_rmse_test = np.sqrt(Nex_svr_mse_test)\n",
    "print(\"RMSE for Support Vector Regression over test set = \")\n",
    "Nex_svr_rmse_test"
   ]
  },
  {
   "cell_type": "markdown",
   "id": "44585ac6",
   "metadata": {},
   "source": [
    "### MLP"
   ]
  },
  {
   "cell_type": "code",
   "execution_count": 13,
   "id": "2b442c55",
   "metadata": {},
   "outputs": [],
   "source": [
    "from sklearn.neural_network import MLPRegressor\n",
    "from sklearn.model_selection import cross_val_score, GridSearchCV, TimeSeriesSplit"
   ]
  },
  {
   "cell_type": "code",
   "execution_count": 14,
   "id": "ac83e5c1",
   "metadata": {},
   "outputs": [
    {
     "name": "stderr",
     "output_type": "stream",
     "text": [
      "c:\\users\\narayan\\appdata\\local\\programs\\python\\python38\\lib\\site-packages\\sklearn\\utils\\validation.py:63: DataConversionWarning: A column-vector y was passed when a 1d array was expected. Please change the shape of y to (n_samples, ), for example using ravel().\n",
      "  return f(*args, **kwargs)\n"
     ]
    },
    {
     "name": "stdout",
     "output_type": "stream",
     "text": [
      "0.6979075467006781\n",
      "{'activation': 'tanh', 'alpha': 1e-09, 'hidden_layer_sizes': 10, 'max_iter': 900, 'solver': 'lbfgs'}\n"
     ]
    },
    {
     "name": "stderr",
     "output_type": "stream",
     "text": [
      "c:\\users\\narayan\\appdata\\local\\programs\\python\\python38\\lib\\site-packages\\sklearn\\neural_network\\_multilayer_perceptron.py:500: ConvergenceWarning: lbfgs failed to converge (status=1):\n",
      "STOP: TOTAL NO. of ITERATIONS REACHED LIMIT.\n",
      "\n",
      "Increase the number of iterations (max_iter) or scale the data as shown in:\n",
      "    https://scikit-learn.org/stable/modules/preprocessing.html\n",
      "  self.n_iter_ = _check_optimize_result(\"lbfgs\", opt_res, self.max_iter)\n"
     ]
    }
   ],
   "source": [
    "parameters = {'alpha': 10.0 ** -np.arange(1, 10), 'hidden_layer_sizes':np.arange(10, 15), 'activation': ['identity', 'logistic', 'tanh', 'relu'], 'solver':['lbfgs'], 'max_iter': [700,800,900]}\n",
    "clf = GridSearchCV(MLPRegressor(), parameters, n_jobs=-1)\n",
    "\n",
    "clf.fit(X_train, y_train)\n",
    "print(clf.score(X_train, y_train))\n",
    "print(clf.best_params_)"
   ]
  },
  {
   "cell_type": "code",
   "execution_count": 14,
   "id": "ab78d2ca",
   "metadata": {},
   "outputs": [
    {
     "name": "stderr",
     "output_type": "stream",
     "text": [
      "c:\\users\\narayan\\appdata\\local\\programs\\python\\python38\\lib\\site-packages\\sklearn\\utils\\validation.py:63: DataConversionWarning: A column-vector y was passed when a 1d array was expected. Please change the shape of y to (n_samples, ), for example using ravel().\n",
      "  return f(*args, **kwargs)\n"
     ]
    },
    {
     "name": "stdout",
     "output_type": "stream",
     "text": [
      "RMSE of the MLP with Grid Search on trainset:  1.6600855305516982 \n",
      "\n",
      "\n",
      "RMSE of the MLP with Grid Search on testset:  1.5866364701916404 \n",
      "\n",
      "\n"
     ]
    },
    {
     "name": "stderr",
     "output_type": "stream",
     "text": [
      "c:\\users\\narayan\\appdata\\local\\programs\\python\\python38\\lib\\site-packages\\sklearn\\neural_network\\_multilayer_perceptron.py:500: ConvergenceWarning: lbfgs failed to converge (status=1):\n",
      "STOP: TOTAL NO. of ITERATIONS REACHED LIMIT.\n",
      "\n",
      "Increase the number of iterations (max_iter) or scale the data as shown in:\n",
      "    https://scikit-learn.org/stable/modules/preprocessing.html\n",
      "  self.n_iter_ = _check_optimize_result(\"lbfgs\", opt_res, self.max_iter)\n"
     ]
    }
   ],
   "source": [
    "mlp_reg = MLPRegressor(activation='tanh', alpha= 1e-09, hidden_layer_sizes= 10, max_iter= 700, solver='lbfgs')\n",
    "mlp_reg.fit(X_train, y_train)\n",
    "train_preds = mlp_reg.predict(X_train)\n",
    "test_preds = mlp_reg.predict(X_test)\n",
    "train_pred_mlp = sc_y.inverse_transform(train_preds)\n",
    "test_pred_mlp = sc_y.inverse_transform(test_preds)\n",
    "\n",
    "mlp_reg_mse_train = mean_squared_error(test_pred_mlp, test_labels)\n",
    "mlp_reg_mse_test = mean_squared_error(train_pred_mlp, tmax_labels)\n",
    "mlp_reg_rmse_train = np.sqrt(mlp_reg_mse_train)\n",
    "mlp_reg_rmse_test = np.sqrt(mlp_reg_mse_test)\n",
    "print(\"RMSE of the MLP with Grid Search on trainset: \", mlp_reg_rmse_train, \"\\n\\n\")\n",
    "print(\"RMSE of the MLP with Grid Search on testset: \", mlp_reg_rmse_test, \"\\n\\n\")"
   ]
  },
  {
   "cell_type": "markdown",
   "id": "6b3df4b6",
   "metadata": {},
   "source": [
    "### Random Forest Regressor"
   ]
  },
  {
   "cell_type": "code",
   "execution_count": 16,
   "id": "1d20d33b",
   "metadata": {},
   "outputs": [],
   "source": [
    "from sklearn.ensemble import RandomForestRegressor"
   ]
  },
  {
   "cell_type": "code",
   "execution_count": 17,
   "id": "d2b10c91",
   "metadata": {},
   "outputs": [
    {
     "name": "stderr",
     "output_type": "stream",
     "text": [
      "c:\\users\\narayan\\appdata\\local\\programs\\python\\python38\\lib\\site-packages\\sklearn\\model_selection\\_search.py:880: DataConversionWarning: A column-vector y was passed when a 1d array was expected. Please change the shape of y to (n_samples,), for example using ravel().\n",
      "  self.best_estimator_.fit(X, y, **fit_params)\n"
     ]
    },
    {
     "name": "stdout",
     "output_type": "stream",
     "text": [
      "0.6463974489605169\n",
      "{'bootstrap': True, 'max_features': 'sqrt', 'min_samples_split': 8, 'n_estimators': 500}\n"
     ]
    }
   ],
   "source": [
    "estimator = RandomForestRegressor()\n",
    "param_grid = { \n",
    "            \"n_estimators\"      : [400, 500, 600, 700, 800],\n",
    "            \"max_features\"      : [\"auto\", \"sqrt\", \"log2\"],\n",
    "            \"min_samples_split\" : [2,4,8],\n",
    "            \"bootstrap\": [True, False],\n",
    "            }\n",
    "\n",
    "grid = GridSearchCV(estimator, param_grid, n_jobs=-1, cv=5)\n",
    "\n",
    "grid.fit(X_train, y_train)\n",
    "print(grid.best_score_) \n",
    "print(grid.best_params_)"
   ]
  },
  {
   "cell_type": "code",
   "execution_count": 17,
   "id": "9cb888ec",
   "metadata": {},
   "outputs": [
    {
     "name": "stderr",
     "output_type": "stream",
     "text": [
      "C:\\Users\\Narayan\\AppData\\Local\\Temp/ipykernel_15856/508156280.py:1: DataConversionWarning: A column-vector y was passed when a 1d array was expected. Please change the shape of y to (n_samples,), for example using ravel().\n",
      "  Nex_rfr_reg = RandomForestRegressor(bootstrap=True, max_features= 'sqrt', min_samples_split= 8, n_estimators=500).fit(X_train, y_train)\n"
     ]
    }
   ],
   "source": [
    "Nex_rfr_reg = RandomForestRegressor(bootstrap=True, max_features= 'sqrt', min_samples_split= 8, n_estimators=500).fit(X_train, y_train)"
   ]
  },
  {
   "cell_type": "code",
   "execution_count": 18,
   "id": "3ab5a661",
   "metadata": {
    "scrolled": true
   },
   "outputs": [
    {
     "name": "stdout",
     "output_type": "stream",
     "text": [
      "RMSE of the Random Forest Regression with scaling trainset:  1.0321213977981212 \n",
      "\n",
      "RMSE of the Random Forest Regression with scaling testset:  1.7295256154820522 \n",
      "\n"
     ]
    }
   ],
   "source": [
    "Nex_rfr_train_preds = Nex_rfr_reg.predict(X_train)\n",
    "Nex_rfr_test_preds = Nex_rfr_reg.predict(X_test)\n",
    "train_pred_rfr = sc_y.inverse_transform(Nex_rfr_train_preds)\n",
    "test_pred_rfr = sc_y.inverse_transform(Nex_rfr_test_preds)\n",
    "\n",
    "Nex_rfr_reg_mse_train = mean_squared_error(train_pred_rfr, tmax_labels)\n",
    "Nex_rfr_reg_mse_test = mean_squared_error(test_pred_rfr, test_labels)\n",
    "Nex_rfr_reg_rmse_train = np.sqrt(Nex_rfr_reg_mse_train)\n",
    "Nex_rfr_reg_rmse_test = np.sqrt(Nex_rfr_reg_mse_test)\n",
    "print(\"RMSE of the Random Forest Regression with scaling trainset: \", Nex_rfr_reg_rmse_train,\"\\n\")\n",
    "print(\"RMSE of the Random Forest Regression with scaling testset: \", Nex_rfr_reg_rmse_test, \"\\n\")"
   ]
  },
  {
   "cell_type": "markdown",
   "id": "604b7ce7",
   "metadata": {},
   "source": [
    "GridSearch without scaling"
   ]
  },
  {
   "cell_type": "code",
   "execution_count": 24,
   "id": "d09d70b5",
   "metadata": {},
   "outputs": [
    {
     "name": "stderr",
     "output_type": "stream",
     "text": [
      "c:\\users\\narayan\\appdata\\local\\programs\\python\\python38\\lib\\site-packages\\sklearn\\model_selection\\_search.py:880: DataConversionWarning: A column-vector y was passed when a 1d array was expected. Please change the shape of y to (n_samples,), for example using ravel().\n",
      "  self.best_estimator_.fit(X, y, **fit_params)\n"
     ]
    },
    {
     "name": "stdout",
     "output_type": "stream",
     "text": [
      "0.6466686062515488\n",
      "{'bootstrap': True, 'max_features': 'log2', 'min_samples_split': 8, 'n_estimators': 600}\n"
     ]
    }
   ],
   "source": [
    "estimator = RandomForestRegressor()\n",
    "param_grid = { \n",
    "            \"n_estimators\"      : [400, 500, 600, 700, 800],\n",
    "            \"max_features\"      : [\"auto\", \"sqrt\", \"log2\"],\n",
    "            \"min_samples_split\" : [2,4,8],\n",
    "            \"bootstrap\": [True, False],\n",
    "            }\n",
    "\n",
    "grid = GridSearchCV(estimator, param_grid, n_jobs=-1, cv=5)\n",
    "\n",
    "grid.fit(Nex_train, tmax_labels)\n",
    "print(grid.best_score_) \n",
    "print(grid.best_params_)"
   ]
  },
  {
   "cell_type": "code",
   "execution_count": 19,
   "id": "18ba914b",
   "metadata": {},
   "outputs": [
    {
     "name": "stderr",
     "output_type": "stream",
     "text": [
      "C:\\Users\\Narayan\\AppData\\Local\\Temp/ipykernel_15856/2211371853.py:1: DataConversionWarning: A column-vector y was passed when a 1d array was expected. Please change the shape of y to (n_samples,), for example using ravel().\n",
      "  Nex_rfr_reg = RandomForestRegressor(bootstrap=True, max_features= 'log2', min_samples_split= 8, n_estimators=600).fit(Nex_train, tmax_labels)\n"
     ]
    }
   ],
   "source": [
    "Nex_rfr_reg = RandomForestRegressor(bootstrap=True, max_features= 'log2', min_samples_split= 8, n_estimators=600).fit(Nex_train, tmax_labels)"
   ]
  },
  {
   "cell_type": "code",
   "execution_count": 25,
   "id": "acc9c4e1",
   "metadata": {},
   "outputs": [
    {
     "name": "stdout",
     "output_type": "stream",
     "text": [
      "RMSE of the Random Forest Regression without scaling trainset:  0.9795808060715632 \n",
      "\n",
      "RMSE of the Random Forest Regression without scaling testset:  1.771060744960292 \n",
      "\n"
     ]
    }
   ],
   "source": [
    "Nex_rfr_train_preds = Nex_rfr_reg.predict(Nex_train)\n",
    "Nex_rfr_test_preds = Nex_rfr_reg.predict(Nex_test)\n",
    "\n",
    "Nex_rfr_reg_mse_train = mean_squared_error(Nex_rfr_train_preds, tmax_labels)\n",
    "Nex_rfr_reg_mse_test = mean_squared_error(Nex_rfr_test_preds, test_labels)\n",
    "Nex_rfr_reg_rmse_train = np.sqrt(Nex_rfr_reg_mse_train)\n",
    "Nex_rfr_reg_rmse_test = np.sqrt(Nex_rfr_reg_mse_test)\n",
    "print(\"RMSE of the Random Forest Regression without scaling trainset: \", Nex_rfr_reg_rmse_train,\"\\n\")\n",
    "print(\"RMSE of the Random Forest Regression without scaling testset: \", Nex_rfr_reg_rmse_test, \"\\n\")"
   ]
  },
  {
   "cell_type": "code",
   "execution_count": null,
   "id": "71b5b703",
   "metadata": {},
   "outputs": [],
   "source": []
  }
 ],
 "metadata": {
  "kernelspec": {
   "display_name": "Python 3 (ipykernel)",
   "language": "python",
   "name": "python3"
  },
  "language_info": {
   "codemirror_mode": {
    "name": "ipython",
    "version": 3
   },
   "file_extension": ".py",
   "mimetype": "text/x-python",
   "name": "python",
   "nbconvert_exporter": "python",
   "pygments_lexer": "ipython3",
   "version": "3.8.4"
  },
  "toc": {
   "base_numbering": 1,
   "nav_menu": {},
   "number_sections": true,
   "sideBar": true,
   "skip_h1_title": false,
   "title_cell": "Table of Contents",
   "title_sidebar": "Contents",
   "toc_cell": false,
   "toc_position": {},
   "toc_section_display": true,
   "toc_window_display": false
  }
 },
 "nbformat": 4,
 "nbformat_minor": 5
}
